{
 "cells": [
  {
   "cell_type": "code",
   "execution_count": 2,
   "id": "623a22e7",
   "metadata": {
    "scrolled": true
   },
   "outputs": [],
   "source": [
    "##import libraries request and bs4\n",
    "import requests #library needed for requesting permission to website\n",
    "from bs4 import BeautifulSoup #needed for filtering through website html code"
   ]
  },
  {
   "cell_type": "code",
   "execution_count": 3,
   "id": "9fc4d464",
   "metadata": {},
   "outputs": [],
   "source": [
    "##adding url of site needed for data\n",
    "url = \"https://www.loko.be/en/past-events\"\n",
    "response = requests.get(url)"
   ]
  },
  {
   "cell_type": "code",
   "execution_count": 4,
   "id": "8bc9fa7d",
   "metadata": {},
   "outputs": [
    {
     "data": {
      "text/plain": [
       "'https://www.loko.be/en/past-events'"
      ]
     },
     "execution_count": 4,
     "metadata": {},
     "output_type": "execute_result"
    }
   ],
   "source": [
    "##making sure everything works and the correct url is used\n",
    "response.url"
   ]
  },
  {
   "cell_type": "code",
   "execution_count": 5,
   "id": "2a6d0431",
   "metadata": {},
   "outputs": [],
   "source": [
    "##storing in beautifulsoup element for further usage\n",
    "soup = BeautifulSoup(response.text, \"html.parser\")"
   ]
  },
  {
   "cell_type": "code",
   "execution_count": 6,
   "id": "2dcc713b",
   "metadata": {},
   "outputs": [],
   "source": [
    "##select the class from the html code we are interested in, all events we need are of this type\n",
    "dates = soup.select('div[class=\"card__img card__img-blue\"]') \n"
   ]
  },
  {
   "cell_type": "code",
   "execution_count": 7,
   "id": "c5ec29f4",
   "metadata": {},
   "outputs": [
    {
     "name": "stdout",
     "output_type": "stream",
     "text": [
      "\n",
      "19 Apr 2023\n",
      "\n",
      "\n",
      "\n",
      "06 Mar 2023\n",
      "                - 12 Mar 2023\n",
      "\n",
      "\n",
      "\n",
      "20 Feb 2023\n",
      "                - 12 Mar 2023\n",
      "\n",
      "\n",
      "\n",
      "29 Nov 2022\n",
      "                - 01 Dec 2022\n",
      "\n",
      "\n",
      "\n",
      "22 Nov 2022\n",
      "\n",
      "\n",
      "\n",
      "25 Oct 2022\n",
      "                - 26 Oct 2022\n",
      "\n",
      "\n",
      "\n",
      "11 May 2022\n",
      "\n",
      "\n",
      "\n",
      "08 Mar 2022\n",
      "\n",
      "\n",
      "\n",
      "24 Feb 2022\n",
      "                - 24 Mar 2022\n",
      "\n",
      "\n",
      "\n",
      "26 Oct 2021\n",
      "                - 27 Oct 2021\n",
      "\n",
      "\n",
      "\n",
      "01 Mar 2021\n",
      "                - 06 Mar 2021\n",
      "\n",
      "\n",
      "\n",
      "22 Feb 2021\n",
      "                - 27 Feb 2021\n",
      "\n",
      "\n"
     ]
    }
   ],
   "source": [
    "##print only the text that is stored in the results element, which are only dates in this case\n",
    "for x in dates:\n",
    "    print(x.text)"
   ]
  },
  {
   "cell_type": "code",
   "execution_count": 8,
   "id": "d3ffa41f",
   "metadata": {},
   "outputs": [],
   "source": [
    "titles = soup.select('h3[class=\"heading--4 card__title\"]') "
   ]
  },
  {
   "cell_type": "code",
   "execution_count": 9,
   "id": "09546fc3",
   "metadata": {},
   "outputs": [
    {
     "name": "stdout",
     "output_type": "stream",
     "text": [
      "\n",
      "Survival of the Student\n",
      "\n",
      "\n",
      "Ithaka - Down to Earth\n",
      "\n",
      "\n",
      "Werving projectmedewerkers Ithaka\n",
      "\n",
      "\n",
      "Student Conference 2022\n",
      "\n",
      "\n",
      "Het Groot Dictee der Leuvense Studenten\n",
      "\n",
      "\n",
      "24 urenloop 2022\n",
      "\n",
      "\n",
      "Beiaardcantus 2022\n",
      "\n",
      "\n",
      "Openingsavond Interfacultair Theaterfestival\n",
      "\n",
      "\n",
      "Think Abroad Month - Around the world\n",
      "\n",
      "\n",
      "24 urenloop 2021\n",
      "\n",
      "\n",
      "Think Abroad Week 2021\n",
      "\n",
      "\n",
      "Student Conference 2021\n",
      "\n"
     ]
    }
   ],
   "source": [
    "for y in titles:\n",
    "    print(y.text)"
   ]
  },
  {
   "cell_type": "code",
   "execution_count": null,
   "id": "896882db",
   "metadata": {},
   "outputs": [],
   "source": []
  }
 ],
 "metadata": {
  "kernelspec": {
   "display_name": "Python 3 (ipykernel)",
   "language": "python",
   "name": "python3"
  },
  "language_info": {
   "codemirror_mode": {
    "name": "ipython",
    "version": 3
   },
   "file_extension": ".py",
   "mimetype": "text/x-python",
   "name": "python",
   "nbconvert_exporter": "python",
   "pygments_lexer": "ipython3",
   "version": "3.9.13"
  }
 },
 "nbformat": 4,
 "nbformat_minor": 5
}
