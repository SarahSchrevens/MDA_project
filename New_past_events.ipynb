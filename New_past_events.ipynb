{
 "cells": [
  {
   "cell_type": "markdown",
   "id": "e1e19673",
   "metadata": {},
   "source": [
    "# DATAFRAME WITH EVENT NAME AND DATE"
   ]
  },
  {
   "cell_type": "code",
   "execution_count": 43,
   "id": "000c4db4",
   "metadata": {},
   "outputs": [],
   "source": [
    "##import libraries request and bs4\n",
    "import requests #library needed for requesting permission to website\n",
    "from bs4 import BeautifulSoup #needed for filtering through website html code\n",
    "import pandas as pd"
   ]
  },
  {
   "cell_type": "code",
   "execution_count": 44,
   "id": "7d177575",
   "metadata": {},
   "outputs": [],
   "source": [
    "thislist1 = []\n",
    "thislist2 = []\n",
    "\n",
    "for i in range(0,8):\n",
    "    s = str(i)\n",
    "    url = \"https://www.hetdepot.be/archief?page=\" + s\n",
    "    response = requests.get(url)\n",
    "    soup = BeautifulSoup(response.text, \"html.parser\")\n",
    "    groups = soup.select('div.calendar__group')\n",
    "    for group in groups:\n",
    "        date = group.select_one('h3').text.strip()\n",
    "        items = group.select('div.calendar-item')\n",
    "        for item in items:\n",
    "            title = item.select_one('h2.calendar-item__title').text.strip()\n",
    "            thislist1.append(title)\n",
    "            thislist2.append(date)"
   ]
  },
  {
   "cell_type": "code",
   "execution_count": 45,
   "id": "8acf3178",
   "metadata": {},
   "outputs": [
    {
     "data": {
      "text/html": [
       "<div>\n",
       "<style scoped>\n",
       "    .dataframe tbody tr th:only-of-type {\n",
       "        vertical-align: middle;\n",
       "    }\n",
       "\n",
       "    .dataframe tbody tr th {\n",
       "        vertical-align: top;\n",
       "    }\n",
       "\n",
       "    .dataframe thead th {\n",
       "        text-align: right;\n",
       "    }\n",
       "</style>\n",
       "<table border=\"1\" class=\"dataframe\">\n",
       "  <thead>\n",
       "    <tr style=\"text-align: right;\">\n",
       "      <th></th>\n",
       "      <th>Event Name</th>\n",
       "      <th>Date</th>\n",
       "    </tr>\n",
       "  </thead>\n",
       "  <tbody>\n",
       "    <tr>\n",
       "      <th>0</th>\n",
       "      <td>RAUW!                             \\n          ...</td>\n",
       "      <td>donderdag04 mei 2023</td>\n",
       "    </tr>\n",
       "    <tr>\n",
       "      <th>1</th>\n",
       "      <td>Open Mic</td>\n",
       "      <td>woensdag03 mei 2023</td>\n",
       "    </tr>\n",
       "    <tr>\n",
       "      <th>2</th>\n",
       "      <td>Veduta presents Portraits                     ...</td>\n",
       "      <td>dinsdag02 mei 2023\\ntot\\ndonderdag04 mei 2023</td>\n",
       "    </tr>\n",
       "    <tr>\n",
       "      <th>3</th>\n",
       "      <td>Centah #1 w/ Jarreau Vandal, Blck Mamba, BONA ...</td>\n",
       "      <td>zondag30 apr 2023\\ntot\\nmaandag01 mei 2023</td>\n",
       "    </tr>\n",
       "    <tr>\n",
       "      <th>4</th>\n",
       "      <td>10 jaar Niels &amp; Wiels                         ...</td>\n",
       "      <td>zaterdag29 apr 2023</td>\n",
       "    </tr>\n",
       "    <tr>\n",
       "      <th>...</th>\n",
       "      <td>...</td>\n",
       "      <td>...</td>\n",
       "    </tr>\n",
       "    <tr>\n",
       "      <th>235</th>\n",
       "      <td>Stijn Meuris – Tirade #5 – De Stilstand</td>\n",
       "      <td>vrijdag28 jan 2022</td>\n",
       "    </tr>\n",
       "    <tr>\n",
       "      <th>236</th>\n",
       "      <td>Steve Wynn                             \\n     ...</td>\n",
       "      <td>dinsdag25 jan 2022</td>\n",
       "    </tr>\n",
       "    <tr>\n",
       "      <th>237</th>\n",
       "      <td>COOL presents Aaron Frazer                    ...</td>\n",
       "      <td>maandag24 jan 2022</td>\n",
       "    </tr>\n",
       "    <tr>\n",
       "      <th>238</th>\n",
       "      <td>Open Mic                              \\n      ...</td>\n",
       "      <td>woensdag12 jan 2022</td>\n",
       "    </tr>\n",
       "    <tr>\n",
       "      <th>239</th>\n",
       "      <td>Otto-Jan Ham: Het allerbeste jaar uit de muzie...</td>\n",
       "      <td>woensdag22 dec 2021</td>\n",
       "    </tr>\n",
       "  </tbody>\n",
       "</table>\n",
       "<p>240 rows × 2 columns</p>\n",
       "</div>"
      ],
      "text/plain": [
       "                                            Event Name  \\\n",
       "0    RAUW!                             \\n          ...   \n",
       "1                                             Open Mic   \n",
       "2    Veduta presents Portraits                     ...   \n",
       "3    Centah #1 w/ Jarreau Vandal, Blck Mamba, BONA ...   \n",
       "4    10 jaar Niels & Wiels                         ...   \n",
       "..                                                 ...   \n",
       "235            Stijn Meuris – Tirade #5 – De Stilstand   \n",
       "236  Steve Wynn                             \\n     ...   \n",
       "237  COOL presents Aaron Frazer                    ...   \n",
       "238  Open Mic                              \\n      ...   \n",
       "239  Otto-Jan Ham: Het allerbeste jaar uit de muzie...   \n",
       "\n",
       "                                              Date  \n",
       "0                             donderdag04 mei 2023  \n",
       "1                              woensdag03 mei 2023  \n",
       "2    dinsdag02 mei 2023\\ntot\\ndonderdag04 mei 2023  \n",
       "3       zondag30 apr 2023\\ntot\\nmaandag01 mei 2023  \n",
       "4                              zaterdag29 apr 2023  \n",
       "..                                             ...  \n",
       "235                             vrijdag28 jan 2022  \n",
       "236                             dinsdag25 jan 2022  \n",
       "237                             maandag24 jan 2022  \n",
       "238                            woensdag12 jan 2022  \n",
       "239                            woensdag22 dec 2021  \n",
       "\n",
       "[240 rows x 2 columns]"
      ]
     },
     "execution_count": 45,
     "metadata": {},
     "output_type": "execute_result"
    }
   ],
   "source": [
    "df_past = pd.DataFrame(thislist1)\n",
    "df_past.columns = [\"Event Name\"]\n",
    "df_past['Date'] = thislist2\n",
    "df_past"
   ]
  },
  {
   "cell_type": "code",
   "execution_count": 46,
   "id": "42115d8b",
   "metadata": {},
   "outputs": [],
   "source": [
    "#csv\n",
    "df_past.to_csv('past.csv')"
   ]
  }
 ],
 "metadata": {
  "kernelspec": {
   "display_name": "Python 3 (ipykernel)",
   "language": "python",
   "name": "python3"
  },
  "language_info": {
   "codemirror_mode": {
    "name": "ipython",
    "version": 3
   },
   "file_extension": ".py",
   "mimetype": "text/x-python",
   "name": "python",
   "nbconvert_exporter": "python",
   "pygments_lexer": "ipython3",
   "version": "3.9.13"
  }
 },
 "nbformat": 4,
 "nbformat_minor": 5
}
