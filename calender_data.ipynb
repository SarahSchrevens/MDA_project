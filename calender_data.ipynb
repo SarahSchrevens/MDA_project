{
 "cells": [
  {
   "cell_type": "code",
   "execution_count": 1,
   "id": "bb85e0bb",
   "metadata": {},
   "outputs": [],
   "source": [
    "##import libraries request and bs4\n",
    "import requests #library needed for requesting permission to website\n",
    "from bs4 import BeautifulSoup #needed for filtering through website html code\n",
    "\n",
    "import pandas as pd"
   ]
  },
  {
   "cell_type": "code",
   "execution_count": 2,
   "id": "9915c8de",
   "metadata": {},
   "outputs": [],
   "source": [
    "##adding url of site needed for data\n",
    "url = \"https://www.kuleuven.be/over-kuleuven/kalenders/kalenders-21-22/academische-kalender-2021-2022-ku-leuven-campus-leuven\"\n",
    "response = requests.get(url)"
   ]
  },
  {
   "cell_type": "code",
   "execution_count": 3,
   "id": "0261e88f",
   "metadata": {},
   "outputs": [
    {
     "data": {
      "text/plain": [
       "'https://www.kuleuven.be/over-kuleuven/kalenders/kalenders-21-22/academische-kalender-2021-2022-ku-leuven-campus-leuven'"
      ]
     },
     "execution_count": 3,
     "metadata": {},
     "output_type": "execute_result"
    }
   ],
   "source": [
    "##making sure everything works and the correct url is used\n",
    "response.url"
   ]
  },
  {
   "cell_type": "code",
   "execution_count": 6,
   "id": "af7e0325",
   "metadata": {},
   "outputs": [],
   "source": [
    "##storing in beautifulsoup element for further usage\n",
    "soup = BeautifulSoup(response.text, \"html.parser\")"
   ]
  },
  {
   "cell_type": "code",
   "execution_count": 9,
   "id": "abf9ff71",
   "metadata": {},
   "outputs": [],
   "source": [
    "events = soup.select('p') "
   ]
  },
  {
   "cell_type": "code",
   "execution_count": 22,
   "id": "de560cfb",
   "metadata": {},
   "outputs": [
    {
     "name": "stdout",
     "output_type": "stream",
     "text": [
      "\n",
      "\n",
      "             Academische kalender 2021-2022\n",
      "        \n",
      "\n",
      "September 2021\n",
      "Ma.\n",
      "27\n",
      "Opening academiejaar 2021-2022 te Leuven\n",
      "Oktober 2021\n",
      " \n",
      " \n",
      " \n",
      "November 2021\n",
      "Ma. \n",
      "1\n",
      "Allerheiligen (1)\n",
      "Di. \n",
      "2 \n",
      "Allerzielen (1)\n",
      "Do.\n",
      "11\n",
      "Wapenstilstand (1)\n",
      "December 2021\n",
      "Za.\n",
      "25\n",
      "Einde colleges eerste semester\n",
      "Za.\n",
      "25\n",
      "Kerstmis (1)\n",
      "Zo.\n",
      "26\n",
      "Tweede Kerstdag (1)\n",
      "Januari 2022\n",
      "Za.\n",
      "1\n",
      "Nieuwjaarsdag (1)\n",
      "Ma.\n",
      "10\n",
      "Blokperiode tot en met donderdag 13 januari\n",
      "Vr.\n",
      "14\n",
      "Begin eerste examenperiode*\n",
      "Februari 2022\n",
      "Woe.\n",
      "2\n",
      "Maria Lichtmis (1)\n",
      "Za.\n",
      "5\n",
      "Einde eerste examenperiode\n",
      "\t\t\tLesvrije week tot en met zondag 13 februari\n",
      "Ma.\n",
      "14\n",
      "Begin tweede semester\n",
      "Maart 2022\n",
      " \n",
      "April 2022\n",
      "Za.\n",
      "2\n",
      "Paasvakantie van zaterdag 2 april tot en met maandag 18 april\n",
      "Zo.\n",
      "17\n",
      "Pasen (1)\n",
      "Ma.\n",
      "18\n",
      "Tweede Paasdag (1)\n",
      "Mei 2022\n",
      "Zo.\n",
      "1\n",
      "Feest van de Arbeid (1)\n",
      "Do.\n",
      "26\n",
      "O.H. Hemelvaart (1)\n",
      "Za.\n",
      "28\n",
      "Einde colleges tweede semester\n",
      "\t\t\tBlokperiode tot en met zondag 12 juni\n",
      "Juni 2022\n",
      "Zo. \n",
      "5\n",
      "Pinksteren (1)\n",
      "Ma.\n",
      "6\n",
      "Tweede Pinksterdag (1)\n",
      "Ma.\n",
      "13\n",
      "Begin tweede examenperiode*\n",
      "Juli 2022\n",
      "Za.\n",
      "2\n",
      "Einde tweede examenperiode\n",
      "Ma.\n",
      "4\n",
      "Begin beraadslaging tweede examenperiode\n",
      "Za.\n",
      "9\n",
      "Einde beraadslaging tweede examenperiode\n",
      "Ma.\n",
      "11\n",
      "Feestdag Vlaamse Gemeenschap (1)\n",
      "Do.\n",
      "21\n",
      "Nationale feestdag (1)\n",
      "Augustus 2022\n",
      "Ma.\n",
      "15\n",
      "Maria-Tenhemelopneming (1)\n",
      "Di.\n",
      "16\n",
      "Begin inschrijvingen voor het academiejaar 2022-2023\n",
      "Ma.\n",
      "22\n",
      "Begin derde examenperiode*\n",
      "September 2022\n",
      "Ma.  \n",
      "5\n",
      "Maandag van Leuven Kermis (1)\n",
      "Za.\n",
      "10\n",
      "Einde derde examenperiode\n",
      "Ma.\n",
      "12\n",
      "Begin beraadslaging derde examenperiode\n",
      "Za.\n",
      "17\n",
      "Einde beraadslaging derde examenperiode\n",
      "* Sommige faculteiten starten iets vroeger met de examenperiode. Raadpleeg hiervoor de facultaire pagina's. \n",
      "(1) = De universitaire campus te Leuven is gesloten.\n",
      "\n",
      "      Laatste update:\n",
      "      05-01-2022\n",
      "    \n",
      "\n"
     ]
    }
   ],
   "source": [
    "ev = []\n",
    "for y in events:\n",
    "    print(y.text)\n",
    "    ev.append(str(y.text))"
   ]
  },
  {
   "cell_type": "code",
   "execution_count": 23,
   "id": "50a0a066",
   "metadata": {},
   "outputs": [
    {
     "name": "stdout",
     "output_type": "stream",
     "text": [
      "['\\n\\n            \\xa0Academische kalender 2021-2022\\n        \\n', 'September 2021', 'Ma.', '27', 'Opening academiejaar 2021-2022 te Leuven', 'Oktober 2021', '\\xa0', '\\xa0', '\\xa0', 'November 2021', 'Ma. ', '1', 'Allerheiligen (1)', 'Di. ', '2 ', 'Allerzielen (1)', 'Do.', '11', 'Wapenstilstand (1)', 'December 2021', 'Za.', '25', 'Einde colleges eerste semester', 'Za.', '25', 'Kerstmis (1)', 'Zo.', '26', 'Tweede Kerstdag (1)', 'Januari 2022', 'Za.', '1', 'Nieuwjaarsdag (1)', 'Ma.', '10', 'Blokperiode tot en met donderdag 13 januari', 'Vr.', '14', 'Begin eerste examenperiode*', 'Februari 2022', 'Woe.', '2', 'Maria Lichtmis (1)', 'Za.', '5', 'Einde eerste examenperiode\\n\\t\\t\\tLesvrije week tot en met zondag 13 februari', 'Ma.', '14', 'Begin tweede semester', 'Maart 2022', '\\xa0', 'April 2022', 'Za.', '2', 'Paasvakantie van zaterdag 2 april tot en met maandag 18 april', 'Zo.', '17', 'Pasen (1)', 'Ma.', '18', 'Tweede Paasdag (1)', 'Mei 2022', 'Zo.', '1', 'Feest van de Arbeid (1)', 'Do.', '26', 'O.H. Hemelvaart (1)', 'Za.', '28', 'Einde colleges tweede semester\\n\\t\\t\\tBlokperiode tot en met zondag 12 juni', 'Juni 2022', 'Zo. ', '5', 'Pinksteren (1)', 'Ma.', '6', 'Tweede Pinksterdag (1)', 'Ma.', '13', 'Begin tweede examenperiode*', 'Juli 2022', 'Za.', '2', 'Einde tweede examenperiode', 'Ma.', '4', 'Begin beraadslaging tweede examenperiode', 'Za.', '9', 'Einde beraadslaging tweede examenperiode', 'Ma.', '11', 'Feestdag Vlaamse Gemeenschap (1)', 'Do.', '21', 'Nationale feestdag (1)', 'Augustus 2022', 'Ma.', '15', 'Maria-Tenhemelopneming (1)', 'Di.', '16', 'Begin inschrijvingen voor het academiejaar 2022-2023', 'Ma.', '22', 'Begin derde examenperiode*', 'September 2022', 'Ma.\\xa0 ', '5', 'Maandag van Leuven Kermis (1)', 'Za.', '10', 'Einde derde examenperiode', 'Ma.', '12', 'Begin beraadslaging derde examenperiode', 'Za.', '17', 'Einde beraadslaging derde examenperiode', \"* Sommige faculteiten starten iets vroeger met de examenperiode. Raadpleeg hiervoor de facultaire pagina's.\\xa0\", '(1) = De universitaire campus te Leuven is gesloten.', '\\n      Laatste update:\\n      05-01-2022\\n    ', '']\n"
     ]
    }
   ],
   "source": [
    "print(ev)"
   ]
  },
  {
   "cell_type": "code",
   "execution_count": null,
   "id": "6c24f784",
   "metadata": {},
   "outputs": [],
   "source": []
  }
 ],
 "metadata": {
  "kernelspec": {
   "display_name": "Python 3 (ipykernel)",
   "language": "python",
   "name": "python3"
  },
  "language_info": {
   "codemirror_mode": {
    "name": "ipython",
    "version": 3
   },
   "file_extension": ".py",
   "mimetype": "text/x-python",
   "name": "python",
   "nbconvert_exporter": "python",
   "pygments_lexer": "ipython3",
   "version": "3.9.13"
  }
 },
 "nbformat": 4,
 "nbformat_minor": 5
}
