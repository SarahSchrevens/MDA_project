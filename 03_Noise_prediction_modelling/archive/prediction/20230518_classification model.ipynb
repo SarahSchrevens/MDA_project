{
 "cells": [
  {
   "cell_type": "code",
   "execution_count": 66,
   "id": "cc2c7859",
   "metadata": {},
   "outputs": [],
   "source": [
    "import pandas as pd\n",
    "import datetime as dt\n",
    "import numpy as np\n",
    "import matplotlib.pyplot as plt\n",
    "import seaborn as sns"
   ]
  },
  {
   "cell_type": "code",
   "execution_count": 67,
   "id": "add40e8e",
   "metadata": {},
   "outputs": [],
   "source": [
    "df_01 = pd.read_csv('df_01.csv')\n",
    "df_02 = pd.read_csv('df_02.csv')\n",
    "df_03 = pd.read_csv('df_03.csv')\n",
    "df_04 = pd.read_csv('df_04.csv')\n",
    "df_05 = pd.read_csv('df_05.csv')\n",
    "df_06 = pd.read_csv('df_06.csv')\n",
    "df_07 = pd.read_csv('df_07.csv')\n",
    "df_08 = pd.read_csv('df_08.csv')\n",
    "df_09 = pd.read_csv('df_09.csv')\n"
   ]
  },
  {
   "cell_type": "code",
   "execution_count": 68,
   "id": "96b60745",
   "metadata": {},
   "outputs": [],
   "source": [
    "df_01['weekend']=df_01['weekday'].isin(['Saturday','Sunday']).astype(int)\n",
    "df_02['weekend']=df_02['weekday'].isin(['Saturday','Sunday']).astype(int)\n",
    "df_03['weekend']=df_03['weekday'].isin(['Saturday','Sunday']).astype(int)\n",
    "df_04['weekend']=df_04['weekday'].isin(['Saturday','Sunday']).astype(int)\n",
    "df_05['weekend']=df_05['weekday'].isin(['Saturday','Sunday']).astype(int)\n",
    "df_06['weekend']=df_06['weekday'].isin(['Saturday','Sunday']).astype(int)\n",
    "df_07['weekend']=df_07['weekday'].isin(['Saturday','Sunday']).astype(int)\n",
    "df_08['weekend']=df_08['weekday'].isin(['Saturday','Sunday']).astype(int)\n",
    "df_09['weekend']=df_09['weekday'].isin(['Saturday','Sunday']).astype(int)\n",
    "\n",
    "df_01['daytime']=df_01['start_hour'].isin([6,7,8,9,10,11,12,13,14,15,16,17,18,19]).astype(int)\n",
    "df_02['daytime']=df_02['start_hour'].isin([6,7,8,9,10,11,12,13,14,15,16,17,18,19]).astype(int)\n",
    "df_03['daytime']=df_03['start_hour'].isin([6,7,8,9,10,11,12,13,14,15,16,17,18,19]).astype(int)\n",
    "df_04['daytime']=df_04['start_hour'].isin([6,7,8,9,10,11,12,13,14,15,16,17,18,19]).astype(int)\n",
    "df_05['daytime']=df_05['start_hour'].isin([6,7,8,9,10,11,12,13,14,15,16,17,18,19]).astype(int)\n",
    "df_06['daytime']=df_06['start_hour'].isin([6,7,8,9,10,11,12,13,14,15,16,17,18,19]).astype(int)\n",
    "df_07['daytime']=df_07['start_hour'].isin([6,7,8,9,10,11,12,13,14,15,16,17,18,19]).astype(int)\n",
    "df_08['daytime']=df_08['start_hour'].isin([6,7,8,9,10,11,12,13,14,15,16,17,18,19]).astype(int)\n",
    "df_09['daytime']=df_09['start_hour'].isin([6,7,8,9,10,11,12,13,14,15,16,17,18,19]).astype(int)\n"
   ]
  },
  {
   "cell_type": "code",
   "execution_count": 69,
   "id": "e33000e0",
   "metadata": {},
   "outputs": [
    {
     "data": {
      "text/html": [
       "<div>\n",
       "<style scoped>\n",
       "    .dataframe tbody tr th:only-of-type {\n",
       "        vertical-align: middle;\n",
       "    }\n",
       "\n",
       "    .dataframe tbody tr th {\n",
       "        vertical-align: top;\n",
       "    }\n",
       "\n",
       "    .dataframe thead th {\n",
       "        text-align: right;\n",
       "    }\n",
       "</style>\n",
       "<table border=\"1\" class=\"dataframe\">\n",
       "  <thead>\n",
       "    <tr style=\"text-align: right;\">\n",
       "      <th></th>\n",
       "      <th>date</th>\n",
       "      <th>day</th>\n",
       "      <th>time</th>\n",
       "      <th>start_hour</th>\n",
       "      <th>weekday</th>\n",
       "      <th>LC_HUMIDITY</th>\n",
       "      <th>LC_RAININ</th>\n",
       "      <th>LC_TEMP_QCL3_list</th>\n",
       "      <th>school</th>\n",
       "      <th>loko</th>\n",
       "      <th>depot</th>\n",
       "      <th>location</th>\n",
       "      <th>Latitude</th>\n",
       "      <th>Longitude</th>\n",
       "      <th>laf50_per_hour</th>\n",
       "      <th>baseline</th>\n",
       "      <th>noisiness</th>\n",
       "      <th>weekend</th>\n",
       "      <th>daytime</th>\n",
       "    </tr>\n",
       "  </thead>\n",
       "  <tbody>\n",
       "    <tr>\n",
       "      <th>0</th>\n",
       "      <td>2022-03-01 00:00:00</td>\n",
       "      <td>2022-03-01</td>\n",
       "      <td>00:00-01:00</td>\n",
       "      <td>0</td>\n",
       "      <td>Tuesday</td>\n",
       "      <td>78.809524</td>\n",
       "      <td>0.0</td>\n",
       "      <td>1.732657</td>\n",
       "      <td>1.0</td>\n",
       "      <td>1.0</td>\n",
       "      <td>0.0</td>\n",
       "      <td>Number 35</td>\n",
       "      <td>50.877146</td>\n",
       "      <td>4.700688</td>\n",
       "      <td>NaN</td>\n",
       "      <td>49.667618</td>\n",
       "      <td>False</td>\n",
       "      <td>0</td>\n",
       "      <td>0</td>\n",
       "    </tr>\n",
       "    <tr>\n",
       "      <th>1</th>\n",
       "      <td>2022-03-01 01:00:00</td>\n",
       "      <td>2022-03-01</td>\n",
       "      <td>01:00-02:00</td>\n",
       "      <td>1</td>\n",
       "      <td>Tuesday</td>\n",
       "      <td>77.738095</td>\n",
       "      <td>0.0</td>\n",
       "      <td>1.727462</td>\n",
       "      <td>1.0</td>\n",
       "      <td>1.0</td>\n",
       "      <td>0.0</td>\n",
       "      <td>Number 35</td>\n",
       "      <td>50.877146</td>\n",
       "      <td>4.700688</td>\n",
       "      <td>NaN</td>\n",
       "      <td>49.667618</td>\n",
       "      <td>False</td>\n",
       "      <td>0</td>\n",
       "      <td>0</td>\n",
       "    </tr>\n",
       "    <tr>\n",
       "      <th>2</th>\n",
       "      <td>2022-03-01 02:00:00</td>\n",
       "      <td>2022-03-01</td>\n",
       "      <td>02:00-03:00</td>\n",
       "      <td>2</td>\n",
       "      <td>Tuesday</td>\n",
       "      <td>76.714286</td>\n",
       "      <td>0.0</td>\n",
       "      <td>1.934884</td>\n",
       "      <td>1.0</td>\n",
       "      <td>1.0</td>\n",
       "      <td>0.0</td>\n",
       "      <td>Number 35</td>\n",
       "      <td>50.877146</td>\n",
       "      <td>4.700688</td>\n",
       "      <td>NaN</td>\n",
       "      <td>49.667618</td>\n",
       "      <td>False</td>\n",
       "      <td>0</td>\n",
       "      <td>0</td>\n",
       "    </tr>\n",
       "    <tr>\n",
       "      <th>3</th>\n",
       "      <td>2022-03-01 03:00:00</td>\n",
       "      <td>2022-03-01</td>\n",
       "      <td>03:00-04:00</td>\n",
       "      <td>3</td>\n",
       "      <td>Tuesday</td>\n",
       "      <td>79.023810</td>\n",
       "      <td>0.0</td>\n",
       "      <td>1.647822</td>\n",
       "      <td>1.0</td>\n",
       "      <td>1.0</td>\n",
       "      <td>0.0</td>\n",
       "      <td>Number 35</td>\n",
       "      <td>50.877146</td>\n",
       "      <td>4.700688</td>\n",
       "      <td>NaN</td>\n",
       "      <td>49.667618</td>\n",
       "      <td>False</td>\n",
       "      <td>0</td>\n",
       "      <td>0</td>\n",
       "    </tr>\n",
       "    <tr>\n",
       "      <th>4</th>\n",
       "      <td>2022-03-01 04:00:00</td>\n",
       "      <td>2022-03-01</td>\n",
       "      <td>04:00-05:00</td>\n",
       "      <td>4</td>\n",
       "      <td>Tuesday</td>\n",
       "      <td>79.928571</td>\n",
       "      <td>0.0</td>\n",
       "      <td>1.468759</td>\n",
       "      <td>1.0</td>\n",
       "      <td>1.0</td>\n",
       "      <td>0.0</td>\n",
       "      <td>Number 35</td>\n",
       "      <td>50.877146</td>\n",
       "      <td>4.700688</td>\n",
       "      <td>NaN</td>\n",
       "      <td>49.667618</td>\n",
       "      <td>False</td>\n",
       "      <td>0</td>\n",
       "      <td>0</td>\n",
       "    </tr>\n",
       "    <tr>\n",
       "      <th>...</th>\n",
       "      <td>...</td>\n",
       "      <td>...</td>\n",
       "      <td>...</td>\n",
       "      <td>...</td>\n",
       "      <td>...</td>\n",
       "      <td>...</td>\n",
       "      <td>...</td>\n",
       "      <td>...</td>\n",
       "      <td>...</td>\n",
       "      <td>...</td>\n",
       "      <td>...</td>\n",
       "      <td>...</td>\n",
       "      <td>...</td>\n",
       "      <td>...</td>\n",
       "      <td>...</td>\n",
       "      <td>...</td>\n",
       "      <td>...</td>\n",
       "      <td>...</td>\n",
       "      <td>...</td>\n",
       "    </tr>\n",
       "    <tr>\n",
       "      <th>7339</th>\n",
       "      <td>2022-12-31 19:00:00</td>\n",
       "      <td>2022-12-31</td>\n",
       "      <td>19:00-20:00</td>\n",
       "      <td>19</td>\n",
       "      <td>Saturday</td>\n",
       "      <td>57.952381</td>\n",
       "      <td>0.0</td>\n",
       "      <td>15.955844</td>\n",
       "      <td>1.0</td>\n",
       "      <td>0.0</td>\n",
       "      <td>0.0</td>\n",
       "      <td>Number 35</td>\n",
       "      <td>50.877146</td>\n",
       "      <td>4.700688</td>\n",
       "      <td>NaN</td>\n",
       "      <td>48.764934</td>\n",
       "      <td>False</td>\n",
       "      <td>1</td>\n",
       "      <td>1</td>\n",
       "    </tr>\n",
       "    <tr>\n",
       "      <th>7340</th>\n",
       "      <td>2022-12-31 20:00:00</td>\n",
       "      <td>2022-12-31</td>\n",
       "      <td>20:00-21:00</td>\n",
       "      <td>20</td>\n",
       "      <td>Saturday</td>\n",
       "      <td>56.500000</td>\n",
       "      <td>0.0</td>\n",
       "      <td>16.187194</td>\n",
       "      <td>1.0</td>\n",
       "      <td>0.0</td>\n",
       "      <td>0.0</td>\n",
       "      <td>Number 35</td>\n",
       "      <td>50.877146</td>\n",
       "      <td>4.700688</td>\n",
       "      <td>NaN</td>\n",
       "      <td>48.898419</td>\n",
       "      <td>False</td>\n",
       "      <td>1</td>\n",
       "      <td>0</td>\n",
       "    </tr>\n",
       "    <tr>\n",
       "      <th>7341</th>\n",
       "      <td>2022-12-31 21:00:00</td>\n",
       "      <td>2022-12-31</td>\n",
       "      <td>21:00-22:00</td>\n",
       "      <td>21</td>\n",
       "      <td>Saturday</td>\n",
       "      <td>56.261905</td>\n",
       "      <td>0.0</td>\n",
       "      <td>16.059805</td>\n",
       "      <td>1.0</td>\n",
       "      <td>0.0</td>\n",
       "      <td>0.0</td>\n",
       "      <td>Number 35</td>\n",
       "      <td>50.877146</td>\n",
       "      <td>4.700688</td>\n",
       "      <td>NaN</td>\n",
       "      <td>48.898419</td>\n",
       "      <td>False</td>\n",
       "      <td>1</td>\n",
       "      <td>0</td>\n",
       "    </tr>\n",
       "    <tr>\n",
       "      <th>7342</th>\n",
       "      <td>2022-12-31 22:00:00</td>\n",
       "      <td>2022-12-31</td>\n",
       "      <td>22:00-23:00</td>\n",
       "      <td>22</td>\n",
       "      <td>Saturday</td>\n",
       "      <td>54.976190</td>\n",
       "      <td>0.0</td>\n",
       "      <td>16.136172</td>\n",
       "      <td>1.0</td>\n",
       "      <td>0.0</td>\n",
       "      <td>0.0</td>\n",
       "      <td>Number 35</td>\n",
       "      <td>50.877146</td>\n",
       "      <td>4.700688</td>\n",
       "      <td>NaN</td>\n",
       "      <td>48.898419</td>\n",
       "      <td>False</td>\n",
       "      <td>1</td>\n",
       "      <td>0</td>\n",
       "    </tr>\n",
       "    <tr>\n",
       "      <th>7343</th>\n",
       "      <td>2022-12-31 23:00:00</td>\n",
       "      <td>2022-12-31</td>\n",
       "      <td>23:00-24:00</td>\n",
       "      <td>23</td>\n",
       "      <td>Saturday</td>\n",
       "      <td>52.452381</td>\n",
       "      <td>0.0</td>\n",
       "      <td>16.415485</td>\n",
       "      <td>1.0</td>\n",
       "      <td>0.0</td>\n",
       "      <td>0.0</td>\n",
       "      <td>Number 35</td>\n",
       "      <td>50.877146</td>\n",
       "      <td>4.700688</td>\n",
       "      <td>NaN</td>\n",
       "      <td>48.898419</td>\n",
       "      <td>False</td>\n",
       "      <td>1</td>\n",
       "      <td>0</td>\n",
       "    </tr>\n",
       "  </tbody>\n",
       "</table>\n",
       "<p>7344 rows × 19 columns</p>\n",
       "</div>"
      ],
      "text/plain": [
       "                     date         day         time  start_hour   weekday  \\\n",
       "0     2022-03-01 00:00:00  2022-03-01  00:00-01:00           0   Tuesday   \n",
       "1     2022-03-01 01:00:00  2022-03-01  01:00-02:00           1   Tuesday   \n",
       "2     2022-03-01 02:00:00  2022-03-01  02:00-03:00           2   Tuesday   \n",
       "3     2022-03-01 03:00:00  2022-03-01  03:00-04:00           3   Tuesday   \n",
       "4     2022-03-01 04:00:00  2022-03-01  04:00-05:00           4   Tuesday   \n",
       "...                   ...         ...          ...         ...       ...   \n",
       "7339  2022-12-31 19:00:00  2022-12-31  19:00-20:00          19  Saturday   \n",
       "7340  2022-12-31 20:00:00  2022-12-31  20:00-21:00          20  Saturday   \n",
       "7341  2022-12-31 21:00:00  2022-12-31  21:00-22:00          21  Saturday   \n",
       "7342  2022-12-31 22:00:00  2022-12-31  22:00-23:00          22  Saturday   \n",
       "7343  2022-12-31 23:00:00  2022-12-31  23:00-24:00          23  Saturday   \n",
       "\n",
       "      LC_HUMIDITY  LC_RAININ  LC_TEMP_QCL3_list  school  loko  depot  \\\n",
       "0       78.809524        0.0           1.732657     1.0   1.0    0.0   \n",
       "1       77.738095        0.0           1.727462     1.0   1.0    0.0   \n",
       "2       76.714286        0.0           1.934884     1.0   1.0    0.0   \n",
       "3       79.023810        0.0           1.647822     1.0   1.0    0.0   \n",
       "4       79.928571        0.0           1.468759     1.0   1.0    0.0   \n",
       "...           ...        ...                ...     ...   ...    ...   \n",
       "7339    57.952381        0.0          15.955844     1.0   0.0    0.0   \n",
       "7340    56.500000        0.0          16.187194     1.0   0.0    0.0   \n",
       "7341    56.261905        0.0          16.059805     1.0   0.0    0.0   \n",
       "7342    54.976190        0.0          16.136172     1.0   0.0    0.0   \n",
       "7343    52.452381        0.0          16.415485     1.0   0.0    0.0   \n",
       "\n",
       "       location   Latitude  Longitude  laf50_per_hour   baseline  noisiness  \\\n",
       "0     Number 35  50.877146   4.700688             NaN  49.667618      False   \n",
       "1     Number 35  50.877146   4.700688             NaN  49.667618      False   \n",
       "2     Number 35  50.877146   4.700688             NaN  49.667618      False   \n",
       "3     Number 35  50.877146   4.700688             NaN  49.667618      False   \n",
       "4     Number 35  50.877146   4.700688             NaN  49.667618      False   \n",
       "...         ...        ...        ...             ...        ...        ...   \n",
       "7339  Number 35  50.877146   4.700688             NaN  48.764934      False   \n",
       "7340  Number 35  50.877146   4.700688             NaN  48.898419      False   \n",
       "7341  Number 35  50.877146   4.700688             NaN  48.898419      False   \n",
       "7342  Number 35  50.877146   4.700688             NaN  48.898419      False   \n",
       "7343  Number 35  50.877146   4.700688             NaN  48.898419      False   \n",
       "\n",
       "      weekend  daytime  \n",
       "0           0        0  \n",
       "1           0        0  \n",
       "2           0        0  \n",
       "3           0        0  \n",
       "4           0        0  \n",
       "...       ...      ...  \n",
       "7339        1        1  \n",
       "7340        1        0  \n",
       "7341        1        0  \n",
       "7342        1        0  \n",
       "7343        1        0  \n",
       "\n",
       "[7344 rows x 19 columns]"
      ]
     },
     "execution_count": 69,
     "metadata": {},
     "output_type": "execute_result"
    }
   ],
   "source": [
    "df_01"
   ]
  },
  {
   "cell_type": "code",
   "execution_count": 70,
   "id": "1cc39697",
   "metadata": {},
   "outputs": [],
   "source": [
    "df_01 = df_01.dropna(subset=['laf50_per_hour'])\n",
    "df_02 = df_02.dropna(subset=['laf50_per_hour'])\n",
    "df_03 = df_03.dropna(subset=['laf50_per_hour'])\n",
    "df_04 = df_04.dropna(subset=['laf50_per_hour'])\n",
    "df_05 = df_05.dropna(subset=['laf50_per_hour'])\n",
    "df_06 = df_06.dropna(subset=['laf50_per_hour'])\n",
    "df_07 = df_07.dropna(subset=['laf50_per_hour'])\n",
    "df_08 = df_08.dropna(subset=['laf50_per_hour'])\n",
    "df_09 = df_09.dropna(subset=['laf50_per_hour'])"
   ]
  },
  {
   "cell_type": "code",
   "execution_count": 71,
   "id": "33b1bf64",
   "metadata": {},
   "outputs": [
    {
     "data": {
      "text/plain": [
       "(6428, 6383, 7343, 1831, 7341, 7343, 6087, 0, 6254)"
      ]
     },
     "execution_count": 71,
     "metadata": {},
     "output_type": "execute_result"
    }
   ],
   "source": [
    "len(df_01), len(df_02), len(df_03), len(df_04), len(df_05), len(df_06), len(df_07), len(df_08), len(df_09)  \n",
    "# df_04, df_08 has few data"
   ]
  },
  {
   "attachments": {},
   "cell_type": "markdown",
   "id": "9657457b",
   "metadata": {},
   "source": [
    "# Selecting Feature and Splitting Data"
   ]
  },
  {
   "cell_type": "code",
   "execution_count": 72,
   "id": "edca9060",
   "metadata": {},
   "outputs": [],
   "source": [
    "X_01 = df_01[['LC_HUMIDITY', 'LC_RAININ','LC_TEMP_QCL3_list','school','loko','depot','weekend','daytime']]\n",
    "X_02 = df_02[['LC_HUMIDITY', 'LC_RAININ','LC_TEMP_QCL3_list','school','loko','depot','weekend','daytime']]\n",
    "X_03 = df_03[['LC_HUMIDITY', 'LC_RAININ','LC_TEMP_QCL3_list','school','loko','depot','weekend','daytime']]\n",
    "X_04 = df_04[['LC_HUMIDITY', 'LC_RAININ','LC_TEMP_QCL3_list','school','loko','depot','weekend','daytime']]\n",
    "X_05 = df_05[['LC_HUMIDITY', 'LC_RAININ','LC_TEMP_QCL3_list','school','loko','depot','weekend','daytime']]\n",
    "X_06 = df_06[['LC_HUMIDITY', 'LC_RAININ','LC_TEMP_QCL3_list','school','loko','depot','weekend','daytime']]\n",
    "X_07 = df_07[['LC_HUMIDITY', 'LC_RAININ','LC_TEMP_QCL3_list','school','loko','depot','weekend','daytime']]\n",
    "# X_08 = df_08[['LC_HUMIDITY', 'LC_RAININ','LC_TEMP_QCL3_list','school','loko','depot','weekend','daytime']]\n",
    "X_09 = df_09[['LC_HUMIDITY', 'LC_RAININ','LC_TEMP_QCL3_list','school','loko','depot','weekend','daytime']]\n",
    "y_01 = df_01['noisiness']\n",
    "y_02 = df_02['noisiness']\n",
    "y_03 = df_03['noisiness']\n",
    "y_04 = df_04['noisiness']\n",
    "y_05 = df_05['noisiness']\n",
    "y_06 = df_06['noisiness']\n",
    "y_07 = df_07['noisiness']\n",
    "# y_08 = df_08['noisiness']\n",
    "y_09 = df_09['noisiness']\n"
   ]
  },
  {
   "cell_type": "code",
   "execution_count": 73,
   "metadata": {},
   "outputs": [],
   "source": [
    "# split X and y into training and testing sets\n",
    "from sklearn.model_selection import train_test_split\n",
    "X_01_train, X_01_test, y_01_train, y_01_test = train_test_split(X_01, y_01, test_size=0.3, random_state=16)\n",
    "X_02_train, X_02_test, y_02_train, y_02_test = train_test_split(X_02, y_02, test_size=0.3, random_state=16)\n",
    "X_03_train, X_03_test, y_03_train, y_03_test = train_test_split(X_03, y_03, test_size=0.3, random_state=16)\n",
    "X_04_train, X_04_test, y_04_train, y_04_test = train_test_split(X_04, y_04, test_size=0.3, random_state=16)\n",
    "X_05_train, X_05_test, y_05_train, y_05_test = train_test_split(X_05, y_05, test_size=0.3, random_state=16)\n",
    "X_06_train, X_06_test, y_06_train, y_06_test = train_test_split(X_06, y_06, test_size=0.3, random_state=16)\n",
    "X_07_train, X_07_test, y_07_train, y_07_test = train_test_split(X_07, y_07, test_size=0.3, random_state=16)\n",
    "# X_08_train, X_08_test, y_08_train, y_08_test = train_test_split(X_08, y_08, test_size=0.3, random_state=16)\n",
    "X_09_train, X_09_test, y_09_train, y_09_test = train_test_split(X_09, y_09, test_size=0.3, random_state=16)"
   ]
  },
  {
   "attachments": {},
   "cell_type": "markdown",
   "id": "a38a5cc6",
   "metadata": {},
   "source": [
    "# logistics regression"
   ]
  },
  {
   "attachments": {},
   "cell_type": "markdown",
   "id": "e8f40fc4",
   "metadata": {},
   "source": [
    "Number35"
   ]
  },
  {
   "cell_type": "code",
   "execution_count": 74,
   "id": "a14fda87",
   "metadata": {},
   "outputs": [
    {
     "data": {
      "text/plain": [
       "array([[458, 422],\n",
       "       [281, 768]])"
      ]
     },
     "execution_count": 74,
     "metadata": {},
     "output_type": "execute_result"
    }
   ],
   "source": [
    "# import the class\n",
    "from sklearn.linear_model import LogisticRegression\n",
    "\n",
    "# instantiate the model (using the default parameters)\n",
    "logreg_01 = LogisticRegression(random_state=16,max_iter=200).fit(X_01_train, y_01_train)\n",
    "y_01_pred = logreg_01.predict(X_01_test)\n",
    "\n",
    "# import the metrics class\n",
    "from sklearn import metrics\n",
    "\n",
    "cnf_matrix_01 = metrics.confusion_matrix(y_01_test, y_01_pred)\n",
    "cnf_matrix_01"
   ]
  },
  {
   "cell_type": "code",
   "execution_count": 75,
   "id": "1ae3cfd0",
   "metadata": {},
   "outputs": [
    {
     "name": "stdout",
     "output_type": "stream",
     "text": [
      "              precision    recall  f1-score   support\n",
      "\n",
      "       False       0.62      0.52      0.57       880\n",
      "        True       0.65      0.73      0.69      1049\n",
      "\n",
      "    accuracy                           0.64      1929\n",
      "   macro avg       0.63      0.63      0.63      1929\n",
      "weighted avg       0.63      0.64      0.63      1929\n",
      "\n"
     ]
    }
   ],
   "source": [
    "from sklearn.metrics import classification_report\n",
    "print(classification_report(y_01_test, y_01_pred))"
   ]
  },
  {
   "attachments": {},
   "cell_type": "markdown",
   "id": "5dc39d0a",
   "metadata": {},
   "source": [
    "Corner of the Parkstraat & Naamse straat"
   ]
  },
  {
   "cell_type": "code",
   "execution_count": 76,
   "id": "0f88e862",
   "metadata": {},
   "outputs": [
    {
     "data": {
      "text/plain": [
       "array([[458, 579],\n",
       "       [326, 840]])"
      ]
     },
     "execution_count": 76,
     "metadata": {},
     "output_type": "execute_result"
    }
   ],
   "source": [
    "# import the class\n",
    "from sklearn.linear_model import LogisticRegression\n",
    "\n",
    "# instantiate the model (using the default parameters)\n",
    "logreg_06 = LogisticRegression(random_state=16,max_iter=200).fit(X_06_train, y_06_train)\n",
    "y_06_pred = logreg_06.predict(X_06_test)\n",
    "\n",
    "# import the metrics class\n",
    "from sklearn import metrics\n",
    "\n",
    "cnf_matrix_06 = metrics.confusion_matrix(y_06_test, y_06_pred)\n",
    "cnf_matrix_06"
   ]
  },
  {
   "cell_type": "code",
   "execution_count": 77,
   "id": "d990064b",
   "metadata": {},
   "outputs": [
    {
     "name": "stdout",
     "output_type": "stream",
     "text": [
      "              precision    recall  f1-score   support\n",
      "\n",
      "       False       0.58      0.44      0.50      1037\n",
      "        True       0.59      0.72      0.65      1166\n",
      "\n",
      "    accuracy                           0.59      2203\n",
      "   macro avg       0.59      0.58      0.58      2203\n",
      "weighted avg       0.59      0.59      0.58      2203\n",
      "\n"
     ]
    }
   ],
   "source": [
    "from sklearn.metrics import classification_report\n",
    "print(classification_report(y_06_test, y_06_pred))"
   ]
  },
  {
   "attachments": {},
   "cell_type": "markdown",
   "id": "d795fd35",
   "metadata": {},
   "source": [
    "# XGBoost"
   ]
  },
  {
   "attachments": {},
   "cell_type": "markdown",
   "id": "bf18ea1b",
   "metadata": {},
   "source": [
    "Number35"
   ]
  },
  {
   "cell_type": "code",
   "execution_count": 78,
   "id": "13f7b39d",
   "metadata": {},
   "outputs": [
    {
     "data": {
      "text/plain": [
       "array([[710, 170],\n",
       "       [120, 929]])"
      ]
     },
     "execution_count": 78,
     "metadata": {},
     "output_type": "execute_result"
    }
   ],
   "source": [
    "import xgboost as xgb\n",
    "xgb_model_01 = xgb.XGBClassifier(objective=\"binary:logistic\", random_state=42).fit(X_01, y_01)\n",
    "y_01_pred = xgb_model_01.predict(X_01_test)\n",
    "\n",
    "# import the metrics class\n",
    "from sklearn import metrics\n",
    "\n",
    "cnf_matrix_01 = metrics.confusion_matrix(y_01_test, y_01_pred)\n",
    "cnf_matrix_01"
   ]
  },
  {
   "cell_type": "code",
   "execution_count": 79,
   "id": "0610e81c",
   "metadata": {},
   "outputs": [
    {
     "name": "stdout",
     "output_type": "stream",
     "text": [
      "              precision    recall  f1-score   support\n",
      "\n",
      "       False       0.86      0.81      0.83       880\n",
      "        True       0.85      0.89      0.86      1049\n",
      "\n",
      "    accuracy                           0.85      1929\n",
      "   macro avg       0.85      0.85      0.85      1929\n",
      "weighted avg       0.85      0.85      0.85      1929\n",
      "\n"
     ]
    }
   ],
   "source": [
    "from sklearn.metrics import classification_report\n",
    "print(classification_report(y_01_test, y_01_pred))"
   ]
  },
  {
   "attachments": {},
   "cell_type": "markdown",
   "id": "965e68aa",
   "metadata": {},
   "source": [
    "Corner of the Parkstraat & Naamse straat"
   ]
  },
  {
   "cell_type": "code",
   "execution_count": 80,
   "id": "ded54af6",
   "metadata": {},
   "outputs": [
    {
     "data": {
      "text/plain": [
       "array([[644, 393],\n",
       "       [294, 872]])"
      ]
     },
     "execution_count": 80,
     "metadata": {},
     "output_type": "execute_result"
    }
   ],
   "source": [
    "import xgboost as xgb\n",
    "xgb_model_06 = xgb.XGBClassifier(objective=\"binary:logistic\", random_state=42).fit(X_06, y_06)\n",
    "y_06_pred = xgb_model_01.predict(X_06_test)\n",
    "\n",
    "# import the metrics class\n",
    "from sklearn import metrics\n",
    "\n",
    "cnf_matrix_06 = metrics.confusion_matrix(y_06_test, y_06_pred)\n",
    "cnf_matrix_06"
   ]
  },
  {
   "cell_type": "code",
   "execution_count": 81,
   "id": "a224e70f",
   "metadata": {},
   "outputs": [
    {
     "name": "stdout",
     "output_type": "stream",
     "text": [
      "              precision    recall  f1-score   support\n",
      "\n",
      "       False       0.69      0.62      0.65      1037\n",
      "        True       0.69      0.75      0.72      1166\n",
      "\n",
      "    accuracy                           0.69      2203\n",
      "   macro avg       0.69      0.68      0.68      2203\n",
      "weighted avg       0.69      0.69      0.69      2203\n",
      "\n"
     ]
    }
   ],
   "source": [
    "from sklearn.metrics import classification_report\n",
    "print(classification_report(y_06_test, y_06_pred))"
   ]
  },
  {
   "attachments": {},
   "cell_type": "markdown",
   "id": "c1dece7d",
   "metadata": {},
   "source": [
    "# Decision Tree"
   ]
  },
  {
   "cell_type": "code",
   "execution_count": 87,
   "id": "1b18cc95",
   "metadata": {},
   "outputs": [
    {
     "data": {
      "text/plain": [
       "array([[536, 344],\n",
       "       [353, 696]])"
      ]
     },
     "execution_count": 87,
     "metadata": {},
     "output_type": "execute_result"
    }
   ],
   "source": [
    "from sklearn.tree import DecisionTreeClassifier # Import Decision Tree Classifier\n",
    "# Create Decision Tree classifer object\n",
    "clf_01 = DecisionTreeClassifier(random_state=42).fit(X_01_train,y_01_train)\n",
    "y_01_pred = clf_01.predict(X_01_test)\n",
    "\n",
    "# import the metrics class\n",
    "from sklearn import metrics\n",
    "\n",
    "cnf_matrix_01 = metrics.confusion_matrix(y_01_test, y_01_pred)\n",
    "cnf_matrix_01"
   ]
  },
  {
   "cell_type": "code",
   "execution_count": 88,
   "id": "e78fa894",
   "metadata": {},
   "outputs": [
    {
     "name": "stdout",
     "output_type": "stream",
     "text": [
      "              precision    recall  f1-score   support\n",
      "\n",
      "       False       0.60      0.61      0.61       880\n",
      "        True       0.67      0.66      0.67      1049\n",
      "\n",
      "    accuracy                           0.64      1929\n",
      "   macro avg       0.64      0.64      0.64      1929\n",
      "weighted avg       0.64      0.64      0.64      1929\n",
      "\n"
     ]
    }
   ],
   "source": [
    "from sklearn.metrics import classification_report\n",
    "print(classification_report(y_01_test, y_01_pred))"
   ]
  },
  {
   "cell_type": "code",
   "execution_count": 89,
   "id": "cad86079",
   "metadata": {},
   "outputs": [
    {
     "data": {
      "text/plain": [
       "array([[596, 441],\n",
       "       [404, 762]])"
      ]
     },
     "execution_count": 89,
     "metadata": {},
     "output_type": "execute_result"
    }
   ],
   "source": [
    "from sklearn.tree import DecisionTreeClassifier # Import Decision Tree Classifier\n",
    "# Create Decision Tree classifer object\n",
    "clf_06 = DecisionTreeClassifier(random_state=42).fit(X_06_train,y_06_train)\n",
    "y_06_pred = clf_06.predict(X_06_test)\n",
    "\n",
    "# import the metrics class\n",
    "from sklearn import metrics\n",
    "\n",
    "cnf_matrix_06 = metrics.confusion_matrix(y_06_test, y_06_pred)\n",
    "cnf_matrix_06"
   ]
  },
  {
   "cell_type": "code",
   "execution_count": 86,
   "id": "352dfa8e",
   "metadata": {},
   "outputs": [
    {
     "name": "stdout",
     "output_type": "stream",
     "text": [
      "              precision    recall  f1-score   support\n",
      "\n",
      "       False       0.60      0.58      0.59      1037\n",
      "        True       0.64      0.66      0.65      1166\n",
      "\n",
      "    accuracy                           0.62      2203\n",
      "   macro avg       0.62      0.62      0.62      2203\n",
      "weighted avg       0.62      0.62      0.62      2203\n",
      "\n"
     ]
    }
   ],
   "source": [
    "from sklearn.metrics import classification_report\n",
    "print(classification_report(y_06_test, y_06_pred))"
   ]
  }
 ],
 "metadata": {
  "kernelspec": {
   "display_name": "Python 3 (ipykernel)",
   "language": "python",
   "name": "python3"
  },
  "language_info": {
   "codemirror_mode": {
    "name": "ipython",
    "version": 3
   },
   "file_extension": ".py",
   "mimetype": "text/x-python",
   "name": "python",
   "nbconvert_exporter": "python",
   "pygments_lexer": "ipython3",
   "version": "3.9.13"
  }
 },
 "nbformat": 4,
 "nbformat_minor": 5
}
