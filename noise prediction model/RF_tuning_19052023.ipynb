{
  "cells": [
    {
      "cell_type": "markdown",
      "metadata": {
        "id": "8Bbm9XjeO3Hy"
      },
      "source": [
        "the task is to tune the RF model for each spot. there will be one set of hyperparameters used for the whole thing.\n",
        "- i set spot 09 to be used as the test data. the accuracy and other necessary metrics will be determined from there.\n",
        "- \n"
      ]
    },
    {
      "cell_type": "code",
      "execution_count": 1,
      "metadata": {
        "id": "RTeSLVxqO3H0"
      },
      "outputs": [],
      "source": [
        "import pandas as pd\n",
        "path = ''\n",
        "df_01 = pd.read_csv(path+\"df_01.csv\")\n",
        "df_02 = pd.read_csv(path+\"df_02.csv\")\n",
        "df_03 = pd.read_csv(path+\"df_03.csv\")\n",
        "df_04 = pd.read_csv(path+\"df_04.csv\")\n",
        "df_05 = pd.read_csv(path+\"df_05.csv\")\n",
        "df_06 = pd.read_csv(path+\"df_06.csv\")\n",
        "df_07 = pd.read_csv(path+\"df_07.csv\")\n",
        "df_09 = pd.read_csv(path+\"df_09.csv\")\n"
      ]
    },
    {
      "cell_type": "code",
      "source": [],
      "metadata": {
        "id": "1oQojfpeO7Pq"
      },
      "execution_count": null,
      "outputs": []
    },
    {
      "cell_type": "code",
      "execution_count": 2,
      "metadata": {
        "id": "6f5gmYVjO3H2"
      },
      "outputs": [],
      "source": [
        "train = pd.concat([df_01,df_02,df_03,df_04,df_05,df_06,df_07]);train=train.dropna(subset=['laf50_per_hour']) #drop NAs in the 'laf50_per_hour'\n",
        "test=df_09\n",
        "#keep in mind that operations done on train do not apply for the constituent dataframes.\n",
        "#convert 'date' and 'day' to datetime for both train and test\n",
        "train['date'] = pd.to_datetime(train[\"date\"]);test['date'] = pd.to_datetime(test[\"date\"])\n",
        "train['day'] = pd.to_datetime(train[\"day\"]);test['day'] = pd.to_datetime(test[\"day\"])\n"
      ]
    },
    {
      "cell_type": "markdown",
      "metadata": {
        "id": "qJN5RXnhO3H2"
      },
      "source": [
        "i want to try using df_07 as validation, then tune hyperparameters with sklearn's GridSearchCV(). \n",
        "next i'll try to see if i can use nested CV: 7-fold hyperparameter tuning, in a sense."
      ]
    },
    {
      "cell_type": "code",
      "execution_count": 3,
      "metadata": {
        "id": "WbMiw5_IO3H2"
      },
      "outputs": [],
      "source": [
        "train_X = train.drop(['date','day','time','noisiness','location','weekday'],axis=1)\n",
        "train_Y = train['noisiness']"
      ]
    },
    {
      "cell_type": "code",
      "execution_count": null,
      "metadata": {
        "id": "vtQnlMdQO3H3",
        "outputId": "b2fb2b1b-cfbc-4fc4-967f-adde6ef8c7c7"
      },
      "outputs": [
        {
          "data": {
            "text/html": [
              "<style>#sk-container-id-1 {color: black;background-color: white;}#sk-container-id-1 pre{padding: 0;}#sk-container-id-1 div.sk-toggleable {background-color: white;}#sk-container-id-1 label.sk-toggleable__label {cursor: pointer;display: block;width: 100%;margin-bottom: 0;padding: 0.3em;box-sizing: border-box;text-align: center;}#sk-container-id-1 label.sk-toggleable__label-arrow:before {content: \"▸\";float: left;margin-right: 0.25em;color: #696969;}#sk-container-id-1 label.sk-toggleable__label-arrow:hover:before {color: black;}#sk-container-id-1 div.sk-estimator:hover label.sk-toggleable__label-arrow:before {color: black;}#sk-container-id-1 div.sk-toggleable__content {max-height: 0;max-width: 0;overflow: hidden;text-align: left;background-color: #f0f8ff;}#sk-container-id-1 div.sk-toggleable__content pre {margin: 0.2em;color: black;border-radius: 0.25em;background-color: #f0f8ff;}#sk-container-id-1 input.sk-toggleable__control:checked~div.sk-toggleable__content {max-height: 200px;max-width: 100%;overflow: auto;}#sk-container-id-1 input.sk-toggleable__control:checked~label.sk-toggleable__label-arrow:before {content: \"▾\";}#sk-container-id-1 div.sk-estimator input.sk-toggleable__control:checked~label.sk-toggleable__label {background-color: #d4ebff;}#sk-container-id-1 div.sk-label input.sk-toggleable__control:checked~label.sk-toggleable__label {background-color: #d4ebff;}#sk-container-id-1 input.sk-hidden--visually {border: 0;clip: rect(1px 1px 1px 1px);clip: rect(1px, 1px, 1px, 1px);height: 1px;margin: -1px;overflow: hidden;padding: 0;position: absolute;width: 1px;}#sk-container-id-1 div.sk-estimator {font-family: monospace;background-color: #f0f8ff;border: 1px dotted black;border-radius: 0.25em;box-sizing: border-box;margin-bottom: 0.5em;}#sk-container-id-1 div.sk-estimator:hover {background-color: #d4ebff;}#sk-container-id-1 div.sk-parallel-item::after {content: \"\";width: 100%;border-bottom: 1px solid gray;flex-grow: 1;}#sk-container-id-1 div.sk-label:hover label.sk-toggleable__label {background-color: #d4ebff;}#sk-container-id-1 div.sk-serial::before {content: \"\";position: absolute;border-left: 1px solid gray;box-sizing: border-box;top: 0;bottom: 0;left: 50%;z-index: 0;}#sk-container-id-1 div.sk-serial {display: flex;flex-direction: column;align-items: center;background-color: white;padding-right: 0.2em;padding-left: 0.2em;position: relative;}#sk-container-id-1 div.sk-item {position: relative;z-index: 1;}#sk-container-id-1 div.sk-parallel {display: flex;align-items: stretch;justify-content: center;background-color: white;position: relative;}#sk-container-id-1 div.sk-item::before, #sk-container-id-1 div.sk-parallel-item::before {content: \"\";position: absolute;border-left: 1px solid gray;box-sizing: border-box;top: 0;bottom: 0;left: 50%;z-index: -1;}#sk-container-id-1 div.sk-parallel-item {display: flex;flex-direction: column;z-index: 1;position: relative;background-color: white;}#sk-container-id-1 div.sk-parallel-item:first-child::after {align-self: flex-end;width: 50%;}#sk-container-id-1 div.sk-parallel-item:last-child::after {align-self: flex-start;width: 50%;}#sk-container-id-1 div.sk-parallel-item:only-child::after {width: 0;}#sk-container-id-1 div.sk-dashed-wrapped {border: 1px dashed gray;margin: 0 0.4em 0.5em 0.4em;box-sizing: border-box;padding-bottom: 0.4em;background-color: white;}#sk-container-id-1 div.sk-label label {font-family: monospace;font-weight: bold;display: inline-block;line-height: 1.2em;}#sk-container-id-1 div.sk-label-container {text-align: center;}#sk-container-id-1 div.sk-container {/* jupyter's `normalize.less` sets `[hidden] { display: none; }` but bootstrap.min.css set `[hidden] { display: none !important; }` so we also need the `!important` here to be able to override the default hidden behavior on the sphinx rendered scikit-learn.org. See: https://github.com/scikit-learn/scikit-learn/issues/21755 */display: inline-block !important;position: relative;}#sk-container-id-1 div.sk-text-repr-fallback {display: none;}</style><div id=\"sk-container-id-1\" class=\"sk-top-container\"><div class=\"sk-text-repr-fallback\"><pre>RandomForestClassifier()</pre><b>In a Jupyter environment, please rerun this cell to show the HTML representation or trust the notebook. <br />On GitHub, the HTML representation is unable to render, please try loading this page with nbviewer.org.</b></div><div class=\"sk-container\" hidden><div class=\"sk-item\"><div class=\"sk-estimator sk-toggleable\"><input class=\"sk-toggleable__control sk-hidden--visually\" id=\"sk-estimator-id-1\" type=\"checkbox\" checked><label for=\"sk-estimator-id-1\" class=\"sk-toggleable__label sk-toggleable__label-arrow\">RandomForestClassifier</label><div class=\"sk-toggleable__content\"><pre>RandomForestClassifier()</pre></div></div></div></div></div>"
            ],
            "text/plain": [
              "RandomForestClassifier()"
            ]
          },
          "execution_count": 42,
          "metadata": {},
          "output_type": "execute_result"
        }
      ],
      "source": [
        "from sklearn.ensemble import RandomForestClassifier\n",
        "from sklearn.model_selection import train_test_split\n",
        "X_train, X_valid, Y_train, Y_valid = train_test_split(train_X, train_Y, test_size=0.3, random_state=19)\n",
        "model = RandomForestClassifier()\n",
        "model.fit(X_train,Y_train)\n"
      ]
    },
    {
      "cell_type": "code",
      "execution_count": null,
      "metadata": {
        "id": "9UhPC-TVO3H4",
        "outputId": "a58f5b14-fa9c-4973-b10c-8fd4e09e705b"
      },
      "outputs": [
        {
          "name": "stdout",
          "output_type": "stream",
          "text": [
            "0.9971154595774538\n"
          ]
        }
      ],
      "source": [
        "from sklearn.metrics import accuracy_score\n",
        "#prediction checking\n",
        "Y_pred = model.predict(X_valid)\n",
        "accuracy = accuracy_score(Y_valid,Y_pred)\n",
        "print(accuracy)"
      ]
    },
    {
      "cell_type": "markdown",
      "metadata": {
        "id": "nNh6KCIAO3H4"
      },
      "source": [
        "99.7% is only done on validation data. "
      ]
    },
    {
      "cell_type": "code",
      "execution_count": null,
      "metadata": {
        "id": "_XKQgfmJO3H4",
        "outputId": "632e668f-2b37-48d8-d6cb-a748119f0190"
      },
      "outputs": [
        {
          "data": {
            "text/plain": [
              "6254"
            ]
          },
          "execution_count": 49,
          "metadata": {},
          "output_type": "execute_result"
        }
      ],
      "source": [
        "len(Y_test_pred)"
      ]
    },
    {
      "cell_type": "code",
      "execution_count": null,
      "metadata": {
        "id": "4B25V6KUO3H5",
        "outputId": "1836646f-2efd-42ee-dde2-d62f74e56c80"
      },
      "outputs": [
        {
          "name": "stdout",
          "output_type": "stream",
          "text": [
            "0.7451231212024304\n"
          ]
        }
      ],
      "source": [
        "#what if we tested on df_09 as planned? does it generalize?\n",
        "test = test.dropna(subset=['laf50_per_hour'])\n",
        "X_test = test.drop(['date','day','time','noisiness','location','weekday'],axis=1)\n",
        "Y_test = test['noisiness']\n",
        "Y_test_pred = model.predict(X_test)\n",
        "accuracy_test = accuracy_score(Y_test_pred,Y_test)\n",
        "print(accuracy_test)"
      ]
    },
    {
      "cell_type": "markdown",
      "metadata": {
        "id": "b0xeANkpO3H5"
      },
      "source": [
        "it generalizes a teensy bit better. now to try tuning, with RandomizedSearchCV() apparently being used before GridSearchCV().\n",
        "source: https://www.geeksforgeeks.org/random-forest-hyperparameter-tuning-in-python/"
      ]
    },
    {
      "cell_type": "code",
      "execution_count": null,
      "metadata": {
        "id": "mFKLOa_rO3H5"
      },
      "outputs": [],
      "source": [
        "from sklearn.model_selection import RandomizedSearchCV\n",
        "from sklearn.ensemble import RandomForestClassifier\n",
        "from sklearn.model_selection import train_test_split\n",
        "X_train, X_valid, Y_train, Y_valid = train_test_split(train_X, train_Y, test_size=0.3, random_state=19)\n",
        "model = RandomForestClassifier()\n",
        "param_grid_rs = {\n",
        "    'max_depth': [10, 20, 30, 40, 50, 60, 70, 80, 90, 100, None],\n",
        "    'min_samples_leaf': [1, 4, 10, 50, 100],\n",
        "    'min_samples_split': [2, 10, 20, 50],\n",
        "    'n_estimators': [200, 400, 600, 800, 1000, 1200, 1400, 1600]\n",
        "}\n",
        "rf_random = RandomizedSearchCV(estimator = model, param_distributions = param_grid_rs, cv = 5, verbose=2, random_state=19)\n",
        "rf_random.fit(train_X, train_Y) #fit is to initiate training process\n"
      ]
    },
    {
      "cell_type": "code",
      "execution_count": 5,
      "metadata": {
        "colab": {
          "base_uri": "https://localhost:8080/"
        },
        "id": "rtVPqh6oO3H5",
        "outputId": "4531dfa2-a6cc-49d8-c2a7-423236acb1fa"
      },
      "outputs": [
        {
          "output_type": "stream",
          "name": "stdout",
          "text": [
            "RandomForestClassifier(max_depth=60, min_samples_leaf=4, n_estimators=600)\n"
          ]
        }
      ],
      "source": [
        "print(rf_random.best_estimator_)"
      ]
    },
    {
      "cell_type": "markdown",
      "source": [
        "thus GridSearchCV() will be trained around max_depth = 60, min_samples_leaf=4, n_estimators=600."
      ],
      "metadata": {
        "id": "a-i4KYjDVKpl"
      }
    },
    {
      "cell_type": "code",
      "source": [
        "from sklearn.model_selection import GridSearchCV\n",
        "param_grid_gs = {\n",
        "    'max_depth': [50, 55, 60, 65, 70],\n",
        "    'min_samples_leaf': [1, 4, 7, 10],\n",
        "    'n_estimators': [400, 500, 600, 700, 800]\n",
        "}\n",
        "rf_grid = GridSearchCV(estimator = model, param_grid = param_grid_gs, cv = 5, verbose=2)\n",
        "rf_grid.fit(train_X, train_Y) #fit is to initiate training process"
      ],
      "metadata": {
        "id": "YrBWXLv8VWaf"
      },
      "execution_count": null,
      "outputs": []
    },
    {
      "cell_type": "code",
      "source": [
        "print(rf_grid.best_estimator_)"
      ],
      "metadata": {
        "colab": {
          "base_uri": "https://localhost:8080/"
        },
        "id": "T8t2HhyBWWhb",
        "outputId": "821d0efb-cfba-450c-938c-04ac76a6cbd9"
      },
      "execution_count": 13,
      "outputs": [
        {
          "output_type": "stream",
          "name": "stdout",
          "text": [
            "RandomForestClassifier(max_depth=65, n_estimators=400)\n"
          ]
        }
      ]
    },
    {
      "cell_type": "markdown",
      "source": [
        "min_samples_leaf apparently doesnt matter as much? but now the max_depth is 65 while n_estimators is 400. the hyperparams will be set to that."
      ],
      "metadata": {
        "id": "uFpCeXPOQ5sG"
      }
    }
  ],
  "metadata": {
    "kernelspec": {
      "display_name": "MDA_proj",
      "language": "python",
      "name": "python3"
    },
    "language_info": {
      "codemirror_mode": {
        "name": "ipython",
        "version": 3
      },
      "file_extension": ".py",
      "mimetype": "text/x-python",
      "name": "python",
      "nbconvert_exporter": "python",
      "pygments_lexer": "ipython3",
      "version": "3.9.16"
    },
    "orig_nbformat": 4,
    "colab": {
      "provenance": []
    }
  },
  "nbformat": 4,
  "nbformat_minor": 0
}