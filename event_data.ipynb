{
 "cells": [
  {
   "cell_type": "code",
   "execution_count": 14,
   "id": "623a22e7",
   "metadata": {
    "scrolled": true
   },
   "outputs": [],
   "source": [
    "##import libraries request and bs4\n",
    "import requests #library needed for requesting permission to website\n",
    "from bs4 import BeautifulSoup #needed for filtering through website html code\n",
    "\n",
    "import pandas as pd"
   ]
  },
  {
   "cell_type": "code",
   "execution_count": 15,
   "id": "ff9b4064",
   "metadata": {},
   "outputs": [],
   "source": [
    "import numpy as np"
   ]
  },
  {
   "cell_type": "code",
   "execution_count": 16,
   "id": "9fc4d464",
   "metadata": {},
   "outputs": [],
   "source": [
    "##adding url of site needed for data\n",
    "url = \"https://www.loko.be/en/past-events\"\n",
    "response = requests.get(url)"
   ]
  },
  {
   "cell_type": "code",
   "execution_count": 17,
   "id": "8bc9fa7d",
   "metadata": {},
   "outputs": [
    {
     "data": {
      "text/plain": [
       "'https://www.loko.be/en/past-events'"
      ]
     },
     "execution_count": 17,
     "metadata": {},
     "output_type": "execute_result"
    }
   ],
   "source": [
    "##making sure everything works and the correct url is used\n",
    "response.url"
   ]
  },
  {
   "cell_type": "code",
   "execution_count": 18,
   "id": "2a6d0431",
   "metadata": {},
   "outputs": [],
   "source": [
    "##storing in beautifulsoup element for further usage\n",
    "soup = BeautifulSoup(response.text, \"html.parser\")"
   ]
  },
  {
   "cell_type": "code",
   "execution_count": 19,
   "id": "2dcc713b",
   "metadata": {},
   "outputs": [],
   "source": [
    "##select the class from the html code we are interested in, all events we need are of this type\n",
    "dates = soup.select('div[class=\"card__img card__img-blue\"]') \n"
   ]
  },
  {
   "cell_type": "code",
   "execution_count": 20,
   "id": "c5ec29f4",
   "metadata": {},
   "outputs": [
    {
     "name": "stdout",
     "output_type": "stream",
     "text": [
      "\n",
      "19 Apr 2023\n",
      "\n",
      "\n",
      "\n",
      "06 Mar 2023\n",
      "                - 12 Mar 2023\n",
      "\n",
      "\n",
      "\n",
      "20 Feb 2023\n",
      "                - 12 Mar 2023\n",
      "\n",
      "\n",
      "\n",
      "29 Nov 2022\n",
      "                - 01 Dec 2022\n",
      "\n",
      "\n",
      "\n",
      "22 Nov 2022\n",
      "\n",
      "\n",
      "\n",
      "25 Oct 2022\n",
      "                - 26 Oct 2022\n",
      "\n",
      "\n",
      "\n",
      "11 May 2022\n",
      "\n",
      "\n",
      "\n",
      "08 Mar 2022\n",
      "\n",
      "\n",
      "\n",
      "24 Feb 2022\n",
      "                - 24 Mar 2022\n",
      "\n",
      "\n",
      "\n",
      "26 Oct 2021\n",
      "                - 27 Oct 2021\n",
      "\n",
      "\n",
      "\n",
      "01 Mar 2021\n",
      "                - 06 Mar 2021\n",
      "\n",
      "\n",
      "\n",
      "22 Feb 2021\n",
      "                - 27 Feb 2021\n",
      "\n",
      "\n"
     ]
    }
   ],
   "source": [
    "##print only the text that is stored in the results element, which are only dates in this case\n",
    "date = []\n",
    "for x in dates:\n",
    "    print(x.text)\n",
    "    date.append(x.text)\n"
   ]
  },
  {
   "cell_type": "code",
   "execution_count": 26,
   "id": "e3d73fbc",
   "metadata": {},
   "outputs": [
    {
     "data": {
      "text/plain": [
       "\"['\\\\n19 Apr 2023\\\\n\\\\n', '\\\\n06 Mar 2023\\\\n                - 12 Mar 2023\\\\n\\\\n', '\\\\n20 Feb 2023\\\\n                - 12 Mar 2023\\\\n\\\\n', '\\\\n29 Nov 2022\\\\n                - 01 Dec 2022\\\\n\\\\n', '\\\\n22 Nov 2022\\\\n\\\\n', '\\\\n25 Oct 2022\\\\n                - 26 Oct 2022\\\\n\\\\n', '\\\\n11 May 2022\\\\n\\\\n', '\\\\n08 Mar 2022\\\\n\\\\n', '\\\\n24 Feb 2022\\\\n                - 24 Mar 2022\\\\n\\\\n', '\\\\n26 Oct 2021\\\\n                - 27 Oct 2021\\\\n\\\\n', '\\\\n01 Mar 2021\\\\n                - 06 Mar 2021\\\\n\\\\n', '\\\\n22 Feb 2021\\\\n                - 27 Feb 2021\\\\n\\\\n']\""
      ]
     },
     "execution_count": 26,
     "metadata": {},
     "output_type": "execute_result"
    }
   ],
   "source": [
    "date = str(date)\n",
    "date"
   ]
  },
  {
   "cell_type": "code",
   "execution_count": 31,
   "id": "8bbbde45",
   "metadata": {},
   "outputs": [
    {
     "data": {
      "text/plain": [
       "\"['19 Apr 2023', '06 Mar 2023                - 12 Mar 2023', '20 Feb 2023                - 12 Mar 2023', '29 Nov 2022                - 01 Dec 2022', '22 Nov 2022', '25 Oct 2022                - 26 Oct 2022', '11 May 2022', '08 Mar 2022', '24 Feb 2022                - 24 Mar 2022', '26 Oct 2021                - 27 Oct 2021', '01 Mar 2021                - 06 Mar 2021', '22 Feb 2021                - 27 Feb 2021']\""
      ]
     },
     "execution_count": 31,
     "metadata": {},
     "output_type": "execute_result"
    }
   ],
   "source": [
    "date = date.replace('\\\\n', '')\n",
    "date\n"
   ]
  },
  {
   "cell_type": "code",
   "execution_count": 41,
   "id": "4685c94a",
   "metadata": {},
   "outputs": [],
   "source": [
    "date = str(date)"
   ]
  },
  {
   "cell_type": "code",
   "execution_count": 50,
   "id": "89155594",
   "metadata": {},
   "outputs": [
    {
     "data": {
      "text/html": [
       "<div>\n",
       "<style scoped>\n",
       "    .dataframe tbody tr th:only-of-type {\n",
       "        vertical-align: middle;\n",
       "    }\n",
       "\n",
       "    .dataframe tbody tr th {\n",
       "        vertical-align: top;\n",
       "    }\n",
       "\n",
       "    .dataframe thead th {\n",
       "        text-align: right;\n",
       "    }\n",
       "</style>\n",
       "<table border=\"1\" class=\"dataframe\">\n",
       "  <thead>\n",
       "    <tr style=\"text-align: right;\">\n",
       "      <th></th>\n",
       "      <th>0</th>\n",
       "      <th>1</th>\n",
       "      <th>2</th>\n",
       "      <th>3</th>\n",
       "      <th>4</th>\n",
       "      <th>5</th>\n",
       "      <th>6</th>\n",
       "      <th>7</th>\n",
       "      <th>8</th>\n",
       "      <th>9</th>\n",
       "      <th>10</th>\n",
       "      <th>11</th>\n",
       "    </tr>\n",
       "  </thead>\n",
       "  <tbody>\n",
       "    <tr>\n",
       "      <th>0</th>\n",
       "      <td>19 Apr 2023</td>\n",
       "      <td>06 Mar 2023                - 12 Mar 2023</td>\n",
       "      <td>20 Feb 2023                - 12 Mar 2023</td>\n",
       "      <td>29 Nov 2022                - 01 Dec 2022</td>\n",
       "      <td>22 Nov 2022</td>\n",
       "      <td>25 Oct 2022                - 26 Oct 2022</td>\n",
       "      <td>11 May 2022</td>\n",
       "      <td>08 Mar 2022</td>\n",
       "      <td>24 Feb 2022                - 24 Mar 2022</td>\n",
       "      <td>26 Oct 2021                - 27 Oct 2021</td>\n",
       "      <td>01 Mar 2021                - 06 Mar 2021</td>\n",
       "      <td>22 Feb 2021                - 27 Feb 2021</td>\n",
       "    </tr>\n",
       "  </tbody>\n",
       "</table>\n",
       "</div>"
      ],
      "text/plain": [
       "            0                                         1   \\\n",
       "0  19 Apr 2023  06 Mar 2023                - 12 Mar 2023   \n",
       "\n",
       "                                         2   \\\n",
       "0  20 Feb 2023                - 12 Mar 2023   \n",
       "\n",
       "                                         3            4   \\\n",
       "0  29 Nov 2022                - 01 Dec 2022  22 Nov 2022   \n",
       "\n",
       "                                         5            6            7   \\\n",
       "0  25 Oct 2022                - 26 Oct 2022  11 May 2022  08 Mar 2022   \n",
       "\n",
       "                                         8   \\\n",
       "0  24 Feb 2022                - 24 Mar 2022   \n",
       "\n",
       "                                         9   \\\n",
       "0  26 Oct 2021                - 27 Oct 2021   \n",
       "\n",
       "                                         10  \\\n",
       "0  01 Mar 2021                - 06 Mar 2021   \n",
       "\n",
       "                                         11  \n",
       "0  22 Feb 2021                - 27 Feb 2021  "
      ]
     },
     "execution_count": 50,
     "metadata": {},
     "output_type": "execute_result"
    }
   ],
   "source": [
    "df_date"
   ]
  },
  {
   "cell_type": "code",
   "execution_count": 27,
   "id": "d3ffa41f",
   "metadata": {},
   "outputs": [],
   "source": [
    "titles = soup.select('h3[class=\"heading--4 card__title\"]') "
   ]
  },
  {
   "cell_type": "code",
   "execution_count": 28,
   "id": "09546fc3",
   "metadata": {},
   "outputs": [
    {
     "name": "stdout",
     "output_type": "stream",
     "text": [
      "\n",
      "Survival of the Student\n",
      "\n",
      "\n",
      "Ithaka - Down to Earth\n",
      "\n",
      "\n",
      "Werving projectmedewerkers Ithaka\n",
      "\n",
      "\n",
      "Student Conference 2022\n",
      "\n",
      "\n",
      "Het Groot Dictee der Leuvense Studenten\n",
      "\n",
      "\n",
      "24 urenloop 2022\n",
      "\n",
      "\n",
      "Beiaardcantus 2022\n",
      "\n",
      "\n",
      "Openingsavond Interfacultair Theaterfestival\n",
      "\n",
      "\n",
      "Think Abroad Month - Around the world\n",
      "\n",
      "\n",
      "24 urenloop 2021\n",
      "\n",
      "\n",
      "Think Abroad Week 2021\n",
      "\n",
      "\n",
      "Student Conference 2021\n",
      "\n"
     ]
    }
   ],
   "source": [
    "title = []\n",
    "for y in titles:\n",
    "    print(y.text)\n",
    "    title.append(str(y.text))"
   ]
  },
  {
   "cell_type": "code",
   "execution_count": 18,
   "id": "896882db",
   "metadata": {},
   "outputs": [
    {
     "name": "stdout",
     "output_type": "stream",
     "text": [
      "['\\nSurvival of the Student\\n', '\\nIthaka - Down to Earth\\n', '\\nWerving projectmedewerkers Ithaka\\n', '\\nStudent Conference 2022\\n', '\\nHet Groot Dictee der Leuvense Studenten\\n', '\\n24 urenloop 2022\\n', '\\nBeiaardcantus 2022\\n', '\\nOpeningsavond Interfacultair Theaterfestival\\n', '\\nThink Abroad Month - Around the world\\n', '\\n24 urenloop 2021\\n', '\\nThink Abroad Week 2021\\n', '\\nStudent Conference 2021\\n']\n"
     ]
    }
   ],
   "source": [
    "print(title)"
   ]
  },
  {
   "cell_type": "code",
   "execution_count": null,
   "id": "10c1d8a3",
   "metadata": {},
   "outputs": [],
   "source": []
  }
 ],
 "metadata": {
  "kernelspec": {
   "display_name": "Python 3 (ipykernel)",
   "language": "python",
   "name": "python3"
  },
  "language_info": {
   "codemirror_mode": {
    "name": "ipython",
    "version": 3
   },
   "file_extension": ".py",
   "mimetype": "text/x-python",
   "name": "python",
   "nbconvert_exporter": "python",
   "pygments_lexer": "ipython3",
   "version": "3.9.13"
  }
 },
 "nbformat": 4,
 "nbformat_minor": 5
}
