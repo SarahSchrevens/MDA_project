{
 "cells": [
  {
   "cell_type": "code",
   "execution_count": 1,
   "id": "623a22e7",
   "metadata": {
    "scrolled": true
   },
   "outputs": [],
   "source": [
    "##import libraries request and bs4\n",
    "import requests #library needed for requesting permission to website\n",
    "from bs4 import BeautifulSoup #needed for filtering through website html code\n",
    "\n",
    "import pandas as pd"
   ]
  },
  {
   "cell_type": "code",
   "execution_count": 2,
   "id": "ff9b4064",
   "metadata": {},
   "outputs": [],
   "source": [
    "import numpy as np"
   ]
  },
  {
   "cell_type": "code",
   "execution_count": 3,
   "id": "9fc4d464",
   "metadata": {},
   "outputs": [],
   "source": [
    "##adding url of site needed for data\n",
    "url = \"https://www.loko.be/en/past-events\"\n",
    "response = requests.get(url)"
   ]
  },
  {
   "cell_type": "code",
   "execution_count": 4,
   "id": "8bc9fa7d",
   "metadata": {},
   "outputs": [
    {
     "data": {
      "text/plain": [
       "'https://www.loko.be/en/past-events'"
      ]
     },
     "execution_count": 4,
     "metadata": {},
     "output_type": "execute_result"
    }
   ],
   "source": [
    "##making sure everything works and the correct url is used\n",
    "response.url"
   ]
  },
  {
   "cell_type": "code",
   "execution_count": 5,
   "id": "2a6d0431",
   "metadata": {},
   "outputs": [],
   "source": [
    "##storing in beautifulsoup element for further usage\n",
    "soup = BeautifulSoup(response.text, \"html.parser\")"
   ]
  },
  {
   "cell_type": "code",
   "execution_count": 6,
   "id": "2dcc713b",
   "metadata": {},
   "outputs": [],
   "source": [
    "##select the class from the html code we are interested in, all events we need are of this type\n",
    "dates = soup.select('div[class=\"card__img card__img-blue\"]') \n"
   ]
  },
  {
   "cell_type": "code",
   "execution_count": 7,
   "id": "c5ec29f4",
   "metadata": {},
   "outputs": [
    {
     "name": "stdout",
     "output_type": "stream",
     "text": [
      "\n",
      "19 Apr 2023\n",
      "\n",
      "\n",
      "\n",
      "06 Mar 2023\n",
      "                - 12 Mar 2023\n",
      "\n",
      "\n",
      "\n",
      "20 Feb 2023\n",
      "                - 12 Mar 2023\n",
      "\n",
      "\n",
      "\n",
      "29 Nov 2022\n",
      "                - 01 Dec 2022\n",
      "\n",
      "\n",
      "\n",
      "22 Nov 2022\n",
      "\n",
      "\n",
      "\n",
      "25 Oct 2022\n",
      "                - 26 Oct 2022\n",
      "\n",
      "\n",
      "\n",
      "11 May 2022\n",
      "\n",
      "\n",
      "\n",
      "08 Mar 2022\n",
      "\n",
      "\n",
      "\n",
      "24 Feb 2022\n",
      "                - 24 Mar 2022\n",
      "\n",
      "\n",
      "\n",
      "26 Oct 2021\n",
      "                - 27 Oct 2021\n",
      "\n",
      "\n",
      "\n",
      "01 Mar 2021\n",
      "                - 06 Mar 2021\n",
      "\n",
      "\n",
      "\n",
      "22 Feb 2021\n",
      "                - 27 Feb 2021\n",
      "\n",
      "\n"
     ]
    }
   ],
   "source": [
    "##print only the text that is stored in the results element, which are only dates in this case\n",
    "date = []\n",
    "for x in dates:\n",
    "    print(x.text)\n",
    "    date.append(x.text)\n"
   ]
  },
  {
   "cell_type": "code",
   "execution_count": 8,
   "id": "e3d73fbc",
   "metadata": {},
   "outputs": [
    {
     "data": {
      "text/plain": [
       "\"['\\\\n19 Apr 2023\\\\n\\\\n', '\\\\n06 Mar 2023\\\\n                - 12 Mar 2023\\\\n\\\\n', '\\\\n20 Feb 2023\\\\n                - 12 Mar 2023\\\\n\\\\n', '\\\\n29 Nov 2022\\\\n                - 01 Dec 2022\\\\n\\\\n', '\\\\n22 Nov 2022\\\\n\\\\n', '\\\\n25 Oct 2022\\\\n                - 26 Oct 2022\\\\n\\\\n', '\\\\n11 May 2022\\\\n\\\\n', '\\\\n08 Mar 2022\\\\n\\\\n', '\\\\n24 Feb 2022\\\\n                - 24 Mar 2022\\\\n\\\\n', '\\\\n26 Oct 2021\\\\n                - 27 Oct 2021\\\\n\\\\n', '\\\\n01 Mar 2021\\\\n                - 06 Mar 2021\\\\n\\\\n', '\\\\n22 Feb 2021\\\\n                - 27 Feb 2021\\\\n\\\\n']\""
      ]
     },
     "execution_count": 8,
     "metadata": {},
     "output_type": "execute_result"
    }
   ],
   "source": [
    "date = str(date)\n",
    "date"
   ]
  },
  {
   "cell_type": "code",
   "execution_count": 9,
   "id": "8bbbde45",
   "metadata": {},
   "outputs": [
    {
     "data": {
      "text/plain": [
       "\"['19 Apr 2023', '06 Mar 2023                - 12 Mar 2023', '20 Feb 2023                - 12 Mar 2023', '29 Nov 2022                - 01 Dec 2022', '22 Nov 2022', '25 Oct 2022                - 26 Oct 2022', '11 May 2022', '08 Mar 2022', '24 Feb 2022                - 24 Mar 2022', '26 Oct 2021                - 27 Oct 2021', '01 Mar 2021                - 06 Mar 2021', '22 Feb 2021                - 27 Feb 2021']\""
      ]
     },
     "execution_count": 9,
     "metadata": {},
     "output_type": "execute_result"
    }
   ],
   "source": [
    "date = date.replace('\\\\n', '')\n",
    "date\n"
   ]
  },
  {
   "cell_type": "code",
   "execution_count": 10,
   "id": "f57fe18e",
   "metadata": {},
   "outputs": [],
   "source": [
    "date = eval(date)\n",
    "df_date = pd.DataFrame(date)"
   ]
  },
  {
   "cell_type": "code",
   "execution_count": 11,
   "id": "823f7fc1",
   "metadata": {},
   "outputs": [
    {
     "data": {
      "text/html": [
       "<div>\n",
       "<style scoped>\n",
       "    .dataframe tbody tr th:only-of-type {\n",
       "        vertical-align: middle;\n",
       "    }\n",
       "\n",
       "    .dataframe tbody tr th {\n",
       "        vertical-align: top;\n",
       "    }\n",
       "\n",
       "    .dataframe thead th {\n",
       "        text-align: right;\n",
       "    }\n",
       "</style>\n",
       "<table border=\"1\" class=\"dataframe\">\n",
       "  <thead>\n",
       "    <tr style=\"text-align: right;\">\n",
       "      <th></th>\n",
       "      <th>0</th>\n",
       "    </tr>\n",
       "  </thead>\n",
       "  <tbody>\n",
       "    <tr>\n",
       "      <th>0</th>\n",
       "      <td>19 Apr 2023</td>\n",
       "    </tr>\n",
       "    <tr>\n",
       "      <th>1</th>\n",
       "      <td>06 Mar 2023                - 12 Mar 2023</td>\n",
       "    </tr>\n",
       "    <tr>\n",
       "      <th>2</th>\n",
       "      <td>20 Feb 2023                - 12 Mar 2023</td>\n",
       "    </tr>\n",
       "    <tr>\n",
       "      <th>3</th>\n",
       "      <td>29 Nov 2022                - 01 Dec 2022</td>\n",
       "    </tr>\n",
       "    <tr>\n",
       "      <th>4</th>\n",
       "      <td>22 Nov 2022</td>\n",
       "    </tr>\n",
       "    <tr>\n",
       "      <th>5</th>\n",
       "      <td>25 Oct 2022                - 26 Oct 2022</td>\n",
       "    </tr>\n",
       "    <tr>\n",
       "      <th>6</th>\n",
       "      <td>11 May 2022</td>\n",
       "    </tr>\n",
       "    <tr>\n",
       "      <th>7</th>\n",
       "      <td>08 Mar 2022</td>\n",
       "    </tr>\n",
       "    <tr>\n",
       "      <th>8</th>\n",
       "      <td>24 Feb 2022                - 24 Mar 2022</td>\n",
       "    </tr>\n",
       "    <tr>\n",
       "      <th>9</th>\n",
       "      <td>26 Oct 2021                - 27 Oct 2021</td>\n",
       "    </tr>\n",
       "    <tr>\n",
       "      <th>10</th>\n",
       "      <td>01 Mar 2021                - 06 Mar 2021</td>\n",
       "    </tr>\n",
       "    <tr>\n",
       "      <th>11</th>\n",
       "      <td>22 Feb 2021                - 27 Feb 2021</td>\n",
       "    </tr>\n",
       "  </tbody>\n",
       "</table>\n",
       "</div>"
      ],
      "text/plain": [
       "                                           0\n",
       "0                                19 Apr 2023\n",
       "1   06 Mar 2023                - 12 Mar 2023\n",
       "2   20 Feb 2023                - 12 Mar 2023\n",
       "3   29 Nov 2022                - 01 Dec 2022\n",
       "4                                22 Nov 2022\n",
       "5   25 Oct 2022                - 26 Oct 2022\n",
       "6                                11 May 2022\n",
       "7                                08 Mar 2022\n",
       "8   24 Feb 2022                - 24 Mar 2022\n",
       "9   26 Oct 2021                - 27 Oct 2021\n",
       "10  01 Mar 2021                - 06 Mar 2021\n",
       "11  22 Feb 2021                - 27 Feb 2021"
      ]
     },
     "execution_count": 11,
     "metadata": {},
     "output_type": "execute_result"
    }
   ],
   "source": [
    "df_date"
   ]
  },
  {
   "cell_type": "code",
   "execution_count": 12,
   "id": "d3ffa41f",
   "metadata": {},
   "outputs": [],
   "source": [
    "titles = soup.select('h3[class=\"heading--4 card__title\"]') "
   ]
  },
  {
   "cell_type": "code",
   "execution_count": 13,
   "id": "09546fc3",
   "metadata": {},
   "outputs": [
    {
     "name": "stdout",
     "output_type": "stream",
     "text": [
      "\n",
      "Survival of the Student\n",
      "\n",
      "\n",
      "Ithaka - Down to Earth\n",
      "\n",
      "\n",
      "Werving projectmedewerkers Ithaka\n",
      "\n",
      "\n",
      "Student Conference 2022\n",
      "\n",
      "\n",
      "Het Groot Dictee der Leuvense Studenten\n",
      "\n",
      "\n",
      "24 urenloop 2022\n",
      "\n",
      "\n",
      "Beiaardcantus 2022\n",
      "\n",
      "\n",
      "Openingsavond Interfacultair Theaterfestival\n",
      "\n",
      "\n",
      "Think Abroad Month - Around the world\n",
      "\n",
      "\n",
      "24 urenloop 2021\n",
      "\n",
      "\n",
      "Think Abroad Week 2021\n",
      "\n",
      "\n",
      "Student Conference 2021\n",
      "\n"
     ]
    }
   ],
   "source": [
    "title = []\n",
    "for y in titles:\n",
    "    print(y.text)\n",
    "    title.append(y.text)"
   ]
  },
  {
   "cell_type": "code",
   "execution_count": 14,
   "id": "896882db",
   "metadata": {},
   "outputs": [],
   "source": [
    "title = str(title)"
   ]
  },
  {
   "cell_type": "code",
   "execution_count": 15,
   "id": "10c1d8a3",
   "metadata": {},
   "outputs": [],
   "source": [
    "title = title.replace('\\\\n', \"\")"
   ]
  },
  {
   "cell_type": "code",
   "execution_count": 16,
   "id": "1ee4c171",
   "metadata": {},
   "outputs": [
    {
     "data": {
      "text/plain": [
       "\"['Survival of the Student', 'Ithaka - Down to Earth', 'Werving projectmedewerkers Ithaka', 'Student Conference 2022', 'Het Groot Dictee der Leuvense Studenten', '24 urenloop 2022', 'Beiaardcantus 2022', 'Openingsavond Interfacultair Theaterfestival', 'Think Abroad Month - Around the world', '24 urenloop 2021', 'Think Abroad Week 2021', 'Student Conference 2021']\""
      ]
     },
     "execution_count": 16,
     "metadata": {},
     "output_type": "execute_result"
    }
   ],
   "source": [
    "title"
   ]
  },
  {
   "cell_type": "code",
   "execution_count": 17,
   "id": "9e78c838",
   "metadata": {},
   "outputs": [],
   "source": [
    "title = eval(title)\n",
    "df_title = pd.DataFrame(title)"
   ]
  },
  {
   "cell_type": "code",
   "execution_count": 18,
   "id": "d0b7605f",
   "metadata": {},
   "outputs": [
    {
     "data": {
      "text/html": [
       "<div>\n",
       "<style scoped>\n",
       "    .dataframe tbody tr th:only-of-type {\n",
       "        vertical-align: middle;\n",
       "    }\n",
       "\n",
       "    .dataframe tbody tr th {\n",
       "        vertical-align: top;\n",
       "    }\n",
       "\n",
       "    .dataframe thead th {\n",
       "        text-align: right;\n",
       "    }\n",
       "</style>\n",
       "<table border=\"1\" class=\"dataframe\">\n",
       "  <thead>\n",
       "    <tr style=\"text-align: right;\">\n",
       "      <th></th>\n",
       "      <th>0</th>\n",
       "    </tr>\n",
       "  </thead>\n",
       "  <tbody>\n",
       "    <tr>\n",
       "      <th>0</th>\n",
       "      <td>Survival of the Student</td>\n",
       "    </tr>\n",
       "    <tr>\n",
       "      <th>1</th>\n",
       "      <td>Ithaka - Down to Earth</td>\n",
       "    </tr>\n",
       "    <tr>\n",
       "      <th>2</th>\n",
       "      <td>Werving projectmedewerkers Ithaka</td>\n",
       "    </tr>\n",
       "    <tr>\n",
       "      <th>3</th>\n",
       "      <td>Student Conference 2022</td>\n",
       "    </tr>\n",
       "    <tr>\n",
       "      <th>4</th>\n",
       "      <td>Het Groot Dictee der Leuvense Studenten</td>\n",
       "    </tr>\n",
       "    <tr>\n",
       "      <th>5</th>\n",
       "      <td>24 urenloop 2022</td>\n",
       "    </tr>\n",
       "    <tr>\n",
       "      <th>6</th>\n",
       "      <td>Beiaardcantus 2022</td>\n",
       "    </tr>\n",
       "    <tr>\n",
       "      <th>7</th>\n",
       "      <td>Openingsavond Interfacultair Theaterfestival</td>\n",
       "    </tr>\n",
       "    <tr>\n",
       "      <th>8</th>\n",
       "      <td>Think Abroad Month - Around the world</td>\n",
       "    </tr>\n",
       "    <tr>\n",
       "      <th>9</th>\n",
       "      <td>24 urenloop 2021</td>\n",
       "    </tr>\n",
       "    <tr>\n",
       "      <th>10</th>\n",
       "      <td>Think Abroad Week 2021</td>\n",
       "    </tr>\n",
       "    <tr>\n",
       "      <th>11</th>\n",
       "      <td>Student Conference 2021</td>\n",
       "    </tr>\n",
       "  </tbody>\n",
       "</table>\n",
       "</div>"
      ],
      "text/plain": [
       "                                               0\n",
       "0                        Survival of the Student\n",
       "1                         Ithaka - Down to Earth\n",
       "2              Werving projectmedewerkers Ithaka\n",
       "3                        Student Conference 2022\n",
       "4        Het Groot Dictee der Leuvense Studenten\n",
       "5                               24 urenloop 2022\n",
       "6                             Beiaardcantus 2022\n",
       "7   Openingsavond Interfacultair Theaterfestival\n",
       "8          Think Abroad Month - Around the world\n",
       "9                               24 urenloop 2021\n",
       "10                        Think Abroad Week 2021\n",
       "11                       Student Conference 2021"
      ]
     },
     "execution_count": 18,
     "metadata": {},
     "output_type": "execute_result"
    }
   ],
   "source": [
    "df_title"
   ]
  },
  {
   "cell_type": "code",
   "execution_count": 25,
   "id": "90a0d20c",
   "metadata": {},
   "outputs": [
    {
     "data": {
      "text/html": [
       "<div>\n",
       "<style scoped>\n",
       "    .dataframe tbody tr th:only-of-type {\n",
       "        vertical-align: middle;\n",
       "    }\n",
       "\n",
       "    .dataframe tbody tr th {\n",
       "        vertical-align: top;\n",
       "    }\n",
       "\n",
       "    .dataframe thead th {\n",
       "        text-align: right;\n",
       "    }\n",
       "</style>\n",
       "<table border=\"1\" class=\"dataframe\">\n",
       "  <thead>\n",
       "    <tr style=\"text-align: right;\">\n",
       "      <th></th>\n",
       "      <th>0</th>\n",
       "      <th>0</th>\n",
       "    </tr>\n",
       "  </thead>\n",
       "  <tbody>\n",
       "    <tr>\n",
       "      <th>0</th>\n",
       "      <td>19 Apr 2023</td>\n",
       "      <td>Survival of the Student</td>\n",
       "    </tr>\n",
       "    <tr>\n",
       "      <th>1</th>\n",
       "      <td>06 Mar 2023                - 12 Mar 2023</td>\n",
       "      <td>Ithaka - Down to Earth</td>\n",
       "    </tr>\n",
       "    <tr>\n",
       "      <th>2</th>\n",
       "      <td>20 Feb 2023                - 12 Mar 2023</td>\n",
       "      <td>Werving projectmedewerkers Ithaka</td>\n",
       "    </tr>\n",
       "    <tr>\n",
       "      <th>3</th>\n",
       "      <td>29 Nov 2022                - 01 Dec 2022</td>\n",
       "      <td>Student Conference 2022</td>\n",
       "    </tr>\n",
       "    <tr>\n",
       "      <th>4</th>\n",
       "      <td>22 Nov 2022</td>\n",
       "      <td>Het Groot Dictee der Leuvense Studenten</td>\n",
       "    </tr>\n",
       "    <tr>\n",
       "      <th>5</th>\n",
       "      <td>25 Oct 2022                - 26 Oct 2022</td>\n",
       "      <td>24 urenloop 2022</td>\n",
       "    </tr>\n",
       "    <tr>\n",
       "      <th>6</th>\n",
       "      <td>11 May 2022</td>\n",
       "      <td>Beiaardcantus 2022</td>\n",
       "    </tr>\n",
       "    <tr>\n",
       "      <th>7</th>\n",
       "      <td>08 Mar 2022</td>\n",
       "      <td>Openingsavond Interfacultair Theaterfestival</td>\n",
       "    </tr>\n",
       "    <tr>\n",
       "      <th>8</th>\n",
       "      <td>24 Feb 2022                - 24 Mar 2022</td>\n",
       "      <td>Think Abroad Month - Around the world</td>\n",
       "    </tr>\n",
       "    <tr>\n",
       "      <th>9</th>\n",
       "      <td>26 Oct 2021                - 27 Oct 2021</td>\n",
       "      <td>24 urenloop 2021</td>\n",
       "    </tr>\n",
       "    <tr>\n",
       "      <th>10</th>\n",
       "      <td>01 Mar 2021                - 06 Mar 2021</td>\n",
       "      <td>Think Abroad Week 2021</td>\n",
       "    </tr>\n",
       "    <tr>\n",
       "      <th>11</th>\n",
       "      <td>22 Feb 2021                - 27 Feb 2021</td>\n",
       "      <td>Student Conference 2021</td>\n",
       "    </tr>\n",
       "  </tbody>\n",
       "</table>\n",
       "</div>"
      ],
      "text/plain": [
       "                                           0   \n",
       "0                                19 Apr 2023  \\\n",
       "1   06 Mar 2023                - 12 Mar 2023   \n",
       "2   20 Feb 2023                - 12 Mar 2023   \n",
       "3   29 Nov 2022                - 01 Dec 2022   \n",
       "4                                22 Nov 2022   \n",
       "5   25 Oct 2022                - 26 Oct 2022   \n",
       "6                                11 May 2022   \n",
       "7                                08 Mar 2022   \n",
       "8   24 Feb 2022                - 24 Mar 2022   \n",
       "9   26 Oct 2021                - 27 Oct 2021   \n",
       "10  01 Mar 2021                - 06 Mar 2021   \n",
       "11  22 Feb 2021                - 27 Feb 2021   \n",
       "\n",
       "                                               0  \n",
       "0                        Survival of the Student  \n",
       "1                         Ithaka - Down to Earth  \n",
       "2              Werving projectmedewerkers Ithaka  \n",
       "3                        Student Conference 2022  \n",
       "4        Het Groot Dictee der Leuvense Studenten  \n",
       "5                               24 urenloop 2022  \n",
       "6                             Beiaardcantus 2022  \n",
       "7   Openingsavond Interfacultair Theaterfestival  \n",
       "8          Think Abroad Month - Around the world  \n",
       "9                               24 urenloop 2021  \n",
       "10                        Think Abroad Week 2021  \n",
       "11                       Student Conference 2021  "
      ]
     },
     "execution_count": 25,
     "metadata": {},
     "output_type": "execute_result"
    }
   ],
   "source": [
    "frames = [df_date, df_title]\n",
    "df = pd.concat(frames, axis = 1, join = 'inner')\n",
    "df"
   ]
  },
  {
   "cell_type": "markdown",
   "id": "0773e87c",
   "metadata": {},
   "source": [
    "stefan incoming.\n",
    "aim: split the dates into two.\n",
    "- rename columns into 'dates', 'event'\n",
    "- create function:\n",
    "    - take a look at the row value\n",
    "    - create new columns 'start date' and 'end date'.\n",
    "    - chatgpt did it for me yo"
   ]
  },
  {
   "cell_type": "code",
   "execution_count": 37,
   "id": "ce335c6c",
   "metadata": {},
   "outputs": [],
   "source": [
    "df_test = df.copy()\n",
    "df_test.columns=['dates','event']\n",
    "df_test = df_test.astype(str)\n"
   ]
  },
  {
   "cell_type": "code",
   "execution_count": 60,
   "id": "9ec602e8",
   "metadata": {},
   "outputs": [
    {
     "data": {
      "text/html": [
       "<div>\n",
       "<style scoped>\n",
       "    .dataframe tbody tr th:only-of-type {\n",
       "        vertical-align: middle;\n",
       "    }\n",
       "\n",
       "    .dataframe tbody tr th {\n",
       "        vertical-align: top;\n",
       "    }\n",
       "\n",
       "    .dataframe thead th {\n",
       "        text-align: right;\n",
       "    }\n",
       "</style>\n",
       "<table border=\"1\" class=\"dataframe\">\n",
       "  <thead>\n",
       "    <tr style=\"text-align: right;\">\n",
       "      <th></th>\n",
       "      <th>event</th>\n",
       "      <th>startdate</th>\n",
       "      <th>enddate</th>\n",
       "    </tr>\n",
       "  </thead>\n",
       "  <tbody>\n",
       "    <tr>\n",
       "      <th>0</th>\n",
       "      <td>Survival of the Student</td>\n",
       "      <td>19 Apr 2023</td>\n",
       "      <td>19 Apr 2023</td>\n",
       "    </tr>\n",
       "    <tr>\n",
       "      <th>1</th>\n",
       "      <td>Ithaka - Down to Earth</td>\n",
       "      <td>06 Mar 2023</td>\n",
       "      <td>12 Mar 2023</td>\n",
       "    </tr>\n",
       "    <tr>\n",
       "      <th>2</th>\n",
       "      <td>Werving projectmedewerkers Ithaka</td>\n",
       "      <td>20 Feb 2023</td>\n",
       "      <td>12 Mar 2023</td>\n",
       "    </tr>\n",
       "    <tr>\n",
       "      <th>3</th>\n",
       "      <td>Student Conference 2022</td>\n",
       "      <td>29 Nov 2022</td>\n",
       "      <td>01 Dec 2022</td>\n",
       "    </tr>\n",
       "    <tr>\n",
       "      <th>4</th>\n",
       "      <td>Het Groot Dictee der Leuvense Studenten</td>\n",
       "      <td>22 Nov 2022</td>\n",
       "      <td>22 Nov 2022</td>\n",
       "    </tr>\n",
       "    <tr>\n",
       "      <th>5</th>\n",
       "      <td>24 urenloop 2022</td>\n",
       "      <td>25 Oct 2022</td>\n",
       "      <td>26 Oct 2022</td>\n",
       "    </tr>\n",
       "    <tr>\n",
       "      <th>6</th>\n",
       "      <td>Beiaardcantus 2022</td>\n",
       "      <td>11 May 2022</td>\n",
       "      <td>11 May 2022</td>\n",
       "    </tr>\n",
       "    <tr>\n",
       "      <th>7</th>\n",
       "      <td>Openingsavond Interfacultair Theaterfestival</td>\n",
       "      <td>08 Mar 2022</td>\n",
       "      <td>08 Mar 2022</td>\n",
       "    </tr>\n",
       "    <tr>\n",
       "      <th>8</th>\n",
       "      <td>Think Abroad Month - Around the world</td>\n",
       "      <td>24 Feb 2022</td>\n",
       "      <td>24 Mar 2022</td>\n",
       "    </tr>\n",
       "    <tr>\n",
       "      <th>9</th>\n",
       "      <td>24 urenloop 2021</td>\n",
       "      <td>26 Oct 2021</td>\n",
       "      <td>27 Oct 2021</td>\n",
       "    </tr>\n",
       "    <tr>\n",
       "      <th>10</th>\n",
       "      <td>Think Abroad Week 2021</td>\n",
       "      <td>01 Mar 2021</td>\n",
       "      <td>06 Mar 2021</td>\n",
       "    </tr>\n",
       "    <tr>\n",
       "      <th>11</th>\n",
       "      <td>Student Conference 2021</td>\n",
       "      <td>22 Feb 2021</td>\n",
       "      <td>27 Feb 2021</td>\n",
       "    </tr>\n",
       "  </tbody>\n",
       "</table>\n",
       "</div>"
      ],
      "text/plain": [
       "                                           event    startdate      enddate\n",
       "0                        Survival of the Student  19 Apr 2023  19 Apr 2023\n",
       "1                         Ithaka - Down to Earth  06 Mar 2023  12 Mar 2023\n",
       "2              Werving projectmedewerkers Ithaka  20 Feb 2023  12 Mar 2023\n",
       "3                        Student Conference 2022  29 Nov 2022  01 Dec 2022\n",
       "4        Het Groot Dictee der Leuvense Studenten  22 Nov 2022  22 Nov 2022\n",
       "5                               24 urenloop 2022  25 Oct 2022  26 Oct 2022\n",
       "6                             Beiaardcantus 2022  11 May 2022  11 May 2022\n",
       "7   Openingsavond Interfacultair Theaterfestival  08 Mar 2022  08 Mar 2022\n",
       "8          Think Abroad Month - Around the world  24 Feb 2022  24 Mar 2022\n",
       "9                               24 urenloop 2021  26 Oct 2021  27 Oct 2021\n",
       "10                        Think Abroad Week 2021  01 Mar 2021  06 Mar 2021\n",
       "11                       Student Conference 2021  22 Feb 2021  27 Feb 2021"
      ]
     },
     "execution_count": 60,
     "metadata": {},
     "output_type": "execute_result"
    }
   ],
   "source": [
    "def date_split(df):\n",
    "    for i, row in df.iterrows():\n",
    "        date_range = row['dates'].split('-')\n",
    "        startdate = date_range[0].strip()\n",
    "        if len(date_range) == 1:\n",
    "            enddate = startdate\n",
    "        else:\n",
    "            enddate = date_range[1].strip()\n",
    "        df.loc[i, 'startdate'] = startdate\n",
    "        df.loc[i, 'enddate'] = enddate\n",
    "    df = df.drop('dates', axis=1)\n",
    "    return df\n",
    "date_split(df_test)"
   ]
  },
  {
   "cell_type": "code",
   "execution_count": null,
   "id": "c48782b1",
   "metadata": {},
   "outputs": [],
   "source": []
  }
 ],
 "metadata": {
  "kernelspec": {
   "display_name": "Python 3 (ipykernel)",
   "language": "python",
   "name": "python3"
  },
  "language_info": {
   "codemirror_mode": {
    "name": "ipython",
    "version": 3
   },
   "file_extension": ".py",
   "mimetype": "text/x-python",
   "name": "python",
   "nbconvert_exporter": "python",
   "pygments_lexer": "ipython3",
   "version": "3.9.13"
  }
 },
 "nbformat": 4,
 "nbformat_minor": 5
}
