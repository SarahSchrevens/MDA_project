{
 "cells": [
  {
   "cell_type": "code",
   "execution_count": 8,
   "id": "ffedf244",
   "metadata": {},
   "outputs": [],
   "source": [
    "##import libraries request and bs4\n",
    "import requests #library needed for requesting permission to website\n",
    "from bs4 import BeautifulSoup #needed for filtering through website html code"
   ]
  },
  {
   "cell_type": "code",
   "execution_count": 9,
   "id": "fedd8cb9",
   "metadata": {},
   "outputs": [],
   "source": [
    "##adding url of site needed for data\n",
    "url = \"https://www.weeronline.nl/Europa/Belgie/Leuven/4054147/weersverwachting-14dagen\"\n",
    "response = requests.get(url)"
   ]
  },
  {
   "cell_type": "code",
   "execution_count": 10,
   "id": "832302c5",
   "metadata": {},
   "outputs": [
    {
     "data": {
      "text/plain": [
       "'https://www.weeronline.nl/Europa/Belgie/Leuven/4054147/weersverwachting-14dagen'"
      ]
     },
     "execution_count": 10,
     "metadata": {},
     "output_type": "execute_result"
    }
   ],
   "source": [
    "##making sure everything works and the correct url is used\n",
    "response.url"
   ]
  },
  {
   "cell_type": "code",
   "execution_count": 11,
   "id": "43a365c7",
   "metadata": {},
   "outputs": [],
   "source": [
    "##storing in beautifulsoup element for further usage\n",
    "soup = BeautifulSoup(response.text, \"html.parser\")"
   ]
  },
  {
   "cell_type": "code",
   "execution_count": 13,
   "id": "357ce199",
   "metadata": {},
   "outputs": [],
   "source": [
    "##select the class from the html code we are interested in, all events we need are of this type\n",
    "dates = soup.select('div[class=\"styled__Day-sc-1g67f0q-15 cmEQpP\"]') \n",
    "\n"
   ]
  },
  {
   "cell_type": "code",
   "execution_count": 19,
   "id": "e451cd66",
   "metadata": {},
   "outputs": [
    {
     "name": "stdout",
     "output_type": "stream",
     "text": [
      "<div class=\"styled__Day-sc-1g67f0q-15 cmEQpP\">27 apr</div>\n"
     ]
    }
   ],
   "source": [
    "for x in dates:\n",
    "    print(x.text)"
   ]
  },
  {
   "cell_type": "code",
   "execution_count": 21,
   "id": "f015bacc",
   "metadata": {},
   "outputs": [],
   "source": [
    "temp = soup.select('div[class=\"styled__RowMinMaxTemp-sc-1g67f0q-8 dOyNoL\"]') "
   ]
  },
  {
   "cell_type": "code",
   "execution_count": 22,
   "id": "a9f4e66a",
   "metadata": {},
   "outputs": [
    {
     "name": "stdout",
     "output_type": "stream",
     "text": [
      "<div class=\"styled__RowMinMaxTemp-sc-1g67f0q-8 dOyNoL\"><span>1<!-- -->°/</span><span>15<!-- -->°</span></div>\n"
     ]
    }
   ],
   "source": [
    "for y in temp:\n",
    "    print(y.text)"
   ]
  },
  {
   "cell_type": "code",
   "execution_count": 29,
   "id": "608f838b",
   "metadata": {},
   "outputs": [],
   "source": [
    "rain = soup.select('span[class=\"styled__RowPrecipitation-sc-1g67f0q-9 dPVegl\"]') "
   ]
  },
  {
   "cell_type": "code",
   "execution_count": 32,
   "id": "d1308416",
   "metadata": {},
   "outputs": [
    {
     "name": "stdout",
     "output_type": "stream",
     "text": [
      "0,1 mm\n",
      "4,7 mm\n",
      "0 mm\n",
      "0 mm\n",
      "0 mm\n",
      "0 mm\n",
      "0 mm\n",
      "0 mm\n",
      "0 mm\n",
      "0 mm\n",
      "0,3 mm\n",
      "0,2 mm\n",
      "1,5 mm\n",
      "2,3 mm\n"
     ]
    }
   ],
   "source": [
    "for z in rain:\n",
    "    print(z.text)"
   ]
  },
  {
   "cell_type": "code",
   "execution_count": null,
   "id": "ce4f8947",
   "metadata": {},
   "outputs": [],
   "source": []
  }
 ],
 "metadata": {
  "kernelspec": {
   "display_name": "Python 3 (ipykernel)",
   "language": "python",
   "name": "python3"
  },
  "language_info": {
   "codemirror_mode": {
    "name": "ipython",
    "version": 3
   },
   "file_extension": ".py",
   "mimetype": "text/x-python",
   "name": "python",
   "nbconvert_exporter": "python",
   "pygments_lexer": "ipython3",
   "version": "3.9.13"
  }
 },
 "nbformat": 4,
 "nbformat_minor": 5
}
