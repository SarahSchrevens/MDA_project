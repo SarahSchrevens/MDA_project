{
 "cells": [
  {
   "cell_type": "code",
   "execution_count": 5,
   "id": "70c877b4",
   "metadata": {},
   "outputs": [],
   "source": [
    "##import libraries request and bs4\n",
    "import requests #library needed for requesting permission to website\n",
    "from bs4 import BeautifulSoup #needed for filtering through website html code\n",
    "import datetime as datetime\n",
    "##import re for regular expressions and pandas\n",
    "import re\n",
    "import pandas as pd"
   ]
  },
  {
   "cell_type": "code",
   "execution_count": 6,
   "id": "12712365",
   "metadata": {},
   "outputs": [],
   "source": [
    "##adding url of site needed for data\n",
    "url = \"https://schoolvakanties-be.be/schoolvakanties-2022/\"\n",
    "response = requests.get(url)"
   ]
  },
  {
   "cell_type": "code",
   "execution_count": 7,
   "id": "fffd7b96",
   "metadata": {},
   "outputs": [
    {
     "data": {
      "text/plain": [
       "'https://schoolvakanties-be.be/schoolvakanties-2022/'"
      ]
     },
     "execution_count": 7,
     "metadata": {},
     "output_type": "execute_result"
    }
   ],
   "source": [
    "##making sure everything works and the correct url is used\n",
    "response.url"
   ]
  },
  {
   "cell_type": "code",
   "execution_count": 8,
   "id": "67f32b01",
   "metadata": {},
   "outputs": [],
   "source": [
    "##storing in beautifulsoup element for further usage\n",
    "soup = BeautifulSoup(response.text, \"html.parser\")"
   ]
  },
  {
   "cell_type": "code",
   "execution_count": 9,
   "id": "97fa1aed",
   "metadata": {},
   "outputs": [],
   "source": [
    "## scraping the Belgian school holidays\n",
    "holidays = soup.select('span[class=\"event-place\"]') "
   ]
  },
  {
   "cell_type": "code",
   "execution_count": 10,
   "id": "f0836d64",
   "metadata": {},
   "outputs": [
    {
     "name": "stdout",
     "output_type": "stream",
     "text": [
      "Krokusvakantie 2022 – Wallonië – \n",
      "Krokusvakantie 2022 – Vlaanderen – \n",
      "Paasvakantie 2022 – Wallonië – \n",
      "Paasvakantie 2022 – Vlaanderen – \n",
      "Hemelvaartvakantie 2022 – Wallonië – \n",
      "Hemelvaartvakantie 2022 – Vlaanderen – \n",
      "Zomervakantie 2022 – Wallonië – \n",
      "Zomervakantie 2022 – Vlaanderen – \n",
      "Herfstvakantie 2022 – Wallonië – \n",
      "Herfstvakantie 2022 – Vlaanderen – \n",
      "Kerstvakantie 2022 – Wallonië – \n",
      "Kerstvakantie 2022 – Vlaanderen – \n"
     ]
    }
   ],
   "source": [
    "## store the holidays in a list\n",
    "holiday = []\n",
    "for y in holidays:\n",
    "    print(y.text)\n",
    "    holiday.append(y.text)\n",
    "   "
   ]
  },
  {
   "cell_type": "code",
   "execution_count": 11,
   "id": "e78e5826",
   "metadata": {},
   "outputs": [],
   "source": [
    "## create a dataframe from the holidays\n",
    "df_holiday = pd.DataFrame(holiday)"
   ]
  },
  {
   "cell_type": "code",
   "execution_count": 12,
   "id": "1f849471",
   "metadata": {},
   "outputs": [
    {
     "data": {
      "text/html": [
       "<div>\n",
       "<style scoped>\n",
       "    .dataframe tbody tr th:only-of-type {\n",
       "        vertical-align: middle;\n",
       "    }\n",
       "\n",
       "    .dataframe tbody tr th {\n",
       "        vertical-align: top;\n",
       "    }\n",
       "\n",
       "    .dataframe thead th {\n",
       "        text-align: right;\n",
       "    }\n",
       "</style>\n",
       "<table border=\"1\" class=\"dataframe\">\n",
       "  <thead>\n",
       "    <tr style=\"text-align: right;\">\n",
       "      <th></th>\n",
       "      <th>0</th>\n",
       "    </tr>\n",
       "  </thead>\n",
       "  <tbody>\n",
       "    <tr>\n",
       "      <th>0</th>\n",
       "      <td>Krokusvakantie 2022 – Wallonië –</td>\n",
       "    </tr>\n",
       "    <tr>\n",
       "      <th>1</th>\n",
       "      <td>Krokusvakantie 2022 – Vlaanderen –</td>\n",
       "    </tr>\n",
       "    <tr>\n",
       "      <th>2</th>\n",
       "      <td>Paasvakantie 2022 – Wallonië –</td>\n",
       "    </tr>\n",
       "    <tr>\n",
       "      <th>3</th>\n",
       "      <td>Paasvakantie 2022 – Vlaanderen –</td>\n",
       "    </tr>\n",
       "    <tr>\n",
       "      <th>4</th>\n",
       "      <td>Hemelvaartvakantie 2022 – Wallonië –</td>\n",
       "    </tr>\n",
       "    <tr>\n",
       "      <th>5</th>\n",
       "      <td>Hemelvaartvakantie 2022 – Vlaanderen –</td>\n",
       "    </tr>\n",
       "    <tr>\n",
       "      <th>6</th>\n",
       "      <td>Zomervakantie 2022 – Wallonië –</td>\n",
       "    </tr>\n",
       "    <tr>\n",
       "      <th>7</th>\n",
       "      <td>Zomervakantie 2022 – Vlaanderen –</td>\n",
       "    </tr>\n",
       "    <tr>\n",
       "      <th>8</th>\n",
       "      <td>Herfstvakantie 2022 – Wallonië –</td>\n",
       "    </tr>\n",
       "    <tr>\n",
       "      <th>9</th>\n",
       "      <td>Herfstvakantie 2022 – Vlaanderen –</td>\n",
       "    </tr>\n",
       "    <tr>\n",
       "      <th>10</th>\n",
       "      <td>Kerstvakantie 2022 – Wallonië –</td>\n",
       "    </tr>\n",
       "    <tr>\n",
       "      <th>11</th>\n",
       "      <td>Kerstvakantie 2022 – Vlaanderen –</td>\n",
       "    </tr>\n",
       "  </tbody>\n",
       "</table>\n",
       "</div>"
      ],
      "text/plain": [
       "                                          0\n",
       "0         Krokusvakantie 2022 – Wallonië – \n",
       "1       Krokusvakantie 2022 – Vlaanderen – \n",
       "2           Paasvakantie 2022 – Wallonië – \n",
       "3         Paasvakantie 2022 – Vlaanderen – \n",
       "4     Hemelvaartvakantie 2022 – Wallonië – \n",
       "5   Hemelvaartvakantie 2022 – Vlaanderen – \n",
       "6          Zomervakantie 2022 – Wallonië – \n",
       "7        Zomervakantie 2022 – Vlaanderen – \n",
       "8         Herfstvakantie 2022 – Wallonië – \n",
       "9       Herfstvakantie 2022 – Vlaanderen – \n",
       "10         Kerstvakantie 2022 – Wallonië – \n",
       "11       Kerstvakantie 2022 – Vlaanderen – "
      ]
     },
     "execution_count": 12,
     "metadata": {},
     "output_type": "execute_result"
    }
   ],
   "source": [
    "## check the holiday df\n",
    "df_holiday"
   ]
  },
  {
   "cell_type": "code",
   "execution_count": 13,
   "id": "5b6670d4",
   "metadata": {},
   "outputs": [],
   "source": [
    "## select the startdate of the school holidays in Belgium\n",
    "starts = soup.select('span[itemprop=\"startDate\"]') "
   ]
  },
  {
   "cell_type": "code",
   "execution_count": 14,
   "id": "27833609",
   "metadata": {},
   "outputs": [
    {
     "name": "stdout",
     "output_type": "stream",
     "text": [
      "maandag 28 februari 2022\n",
      "maandag 28 februari 2022\n",
      "maandag 4 april 2022\n",
      "maandag 4 april 2022\n",
      "donderdag 26 mei 2022\n",
      "donderdag 26 mei 2022\n",
      "vrijdag 1 juli 2022\n",
      "vrijdag 1 juli 2022\n",
      "maandag 24 oktober 2022\n",
      "maandag 31 oktober 2022\n",
      "maandag 26 december 2022\n",
      "maandag 26 december 2022\n"
     ]
    }
   ],
   "source": [
    "## store the start dates in a list\n",
    "start = []\n",
    "for z in starts:\n",
    "    print(z.text)\n",
    "    start.append(z.text)"
   ]
  },
  {
   "cell_type": "code",
   "execution_count": 16,
   "id": "f143bcf9",
   "metadata": {},
   "outputs": [],
   "source": [
    "##format the dates in the list in string format\n",
    "start = str(start)"
   ]
  },
  {
   "cell_type": "code",
   "execution_count": 17,
   "id": "337bbb83",
   "metadata": {},
   "outputs": [],
   "source": [
    "## creating a list of weekdays in dutch for removal\n",
    "days = ['maandag', 'dinsdag', 'woensdag', 'donderdag', 'vrijdag', 'zaterdag', 'zondag']"
   ]
  },
  {
   "cell_type": "code",
   "execution_count": 18,
   "id": "f40f5e0a",
   "metadata": {},
   "outputs": [],
   "source": [
    "## creating a regular expression for searching through the text and removing the days\n",
    "pattern = re.compile(r'\\b(?:{})\\b'.format('|'.join(days)), flags=re.IGNORECASE)"
   ]
  },
  {
   "cell_type": "code",
   "execution_count": 19,
   "id": "9ca239ca",
   "metadata": {},
   "outputs": [],
   "source": [
    "## replacing the days with a blank\n",
    "en_start = pattern.sub('', start)"
   ]
  },
  {
   "cell_type": "code",
   "execution_count": 20,
   "id": "07930e6b",
   "metadata": {},
   "outputs": [
    {
     "data": {
      "text/plain": [
       "\"[' 28 februari 2022', ' 28 februari 2022', ' 4 april 2022', ' 4 april 2022', ' 26 mei 2022', ' 26 mei 2022', ' 1 juli 2022', ' 1 juli 2022', ' 24 oktober 2022', ' 31 oktober 2022', ' 26 december 2022', ' 26 december 2022']\""
      ]
     },
     "execution_count": 20,
     "metadata": {},
     "output_type": "execute_result"
    }
   ],
   "source": [
    "## checking the results without days\n",
    "en_start"
   ]
  },
  {
   "cell_type": "code",
   "execution_count": 21,
   "id": "0cc4e7ae",
   "metadata": {},
   "outputs": [
    {
     "data": {
      "text/plain": [
       "\"['28february2022','28february2022','4april2022','4april2022','26may2022','26may2022','1july2022','1july2022','24october2022','31october2022','26december2022','26december2022']\""
      ]
     },
     "execution_count": 21,
     "metadata": {},
     "output_type": "execute_result"
    }
   ],
   "source": [
    "## translating the dutch months into english months for formating datetime format\n",
    "en_start = en_start.replace(\"januari\", \"january\")\n",
    "en_start = en_start.replace('februari', 'february')\n",
    "en_start = en_start.replace('maart', 'march')\n",
    "en_start = en_start.replace('mei', 'may')\n",
    "en_start = en_start.replace('juni', 'june')\n",
    "en_start = en_start.replace('juli', 'july')\n",
    "en_start = en_start.replace('augustus', 'august')\n",
    "en_start = en_start.replace('oktober', 'october')\n",
    "en_start = en_start.replace(' ', '')\n",
    "en_start"
   ]
  },
  {
   "cell_type": "code",
   "execution_count": 22,
   "id": "6c199e7b",
   "metadata": {},
   "outputs": [],
   "source": [
    "## creating a df from the start dates of the holidays\n",
    "en_start = eval(en_start)\n",
    "df_start = pd.DataFrame(en_start)"
   ]
  },
  {
   "cell_type": "code",
   "execution_count": 23,
   "id": "7d914ee1",
   "metadata": {},
   "outputs": [
    {
     "data": {
      "text/html": [
       "<div>\n",
       "<style scoped>\n",
       "    .dataframe tbody tr th:only-of-type {\n",
       "        vertical-align: middle;\n",
       "    }\n",
       "\n",
       "    .dataframe tbody tr th {\n",
       "        vertical-align: top;\n",
       "    }\n",
       "\n",
       "    .dataframe thead th {\n",
       "        text-align: right;\n",
       "    }\n",
       "</style>\n",
       "<table border=\"1\" class=\"dataframe\">\n",
       "  <thead>\n",
       "    <tr style=\"text-align: right;\">\n",
       "      <th></th>\n",
       "      <th>0</th>\n",
       "    </tr>\n",
       "  </thead>\n",
       "  <tbody>\n",
       "    <tr>\n",
       "      <th>0</th>\n",
       "      <td>28february2022</td>\n",
       "    </tr>\n",
       "    <tr>\n",
       "      <th>1</th>\n",
       "      <td>28february2022</td>\n",
       "    </tr>\n",
       "    <tr>\n",
       "      <th>2</th>\n",
       "      <td>4april2022</td>\n",
       "    </tr>\n",
       "    <tr>\n",
       "      <th>3</th>\n",
       "      <td>4april2022</td>\n",
       "    </tr>\n",
       "    <tr>\n",
       "      <th>4</th>\n",
       "      <td>26may2022</td>\n",
       "    </tr>\n",
       "    <tr>\n",
       "      <th>5</th>\n",
       "      <td>26may2022</td>\n",
       "    </tr>\n",
       "    <tr>\n",
       "      <th>6</th>\n",
       "      <td>1july2022</td>\n",
       "    </tr>\n",
       "    <tr>\n",
       "      <th>7</th>\n",
       "      <td>1july2022</td>\n",
       "    </tr>\n",
       "    <tr>\n",
       "      <th>8</th>\n",
       "      <td>24october2022</td>\n",
       "    </tr>\n",
       "    <tr>\n",
       "      <th>9</th>\n",
       "      <td>31october2022</td>\n",
       "    </tr>\n",
       "    <tr>\n",
       "      <th>10</th>\n",
       "      <td>26december2022</td>\n",
       "    </tr>\n",
       "    <tr>\n",
       "      <th>11</th>\n",
       "      <td>26december2022</td>\n",
       "    </tr>\n",
       "  </tbody>\n",
       "</table>\n",
       "</div>"
      ],
      "text/plain": [
       "                 0\n",
       "0   28february2022\n",
       "1   28february2022\n",
       "2       4april2022\n",
       "3       4april2022\n",
       "4        26may2022\n",
       "5        26may2022\n",
       "6        1july2022\n",
       "7        1july2022\n",
       "8    24october2022\n",
       "9    31october2022\n",
       "10  26december2022\n",
       "11  26december2022"
      ]
     },
     "execution_count": 23,
     "metadata": {},
     "output_type": "execute_result"
    }
   ],
   "source": [
    "## checking the new df\n",
    "df_start"
   ]
  },
  {
   "cell_type": "code",
   "execution_count": 24,
   "id": "deaed85f",
   "metadata": {},
   "outputs": [],
   "source": [
    "## scraping the enddate of the belgian school holidays\n",
    "ends = soup.select('span[itemprop=\"endDate\"]') "
   ]
  },
  {
   "cell_type": "code",
   "execution_count": 25,
   "id": "1a3e0a4c",
   "metadata": {},
   "outputs": [
    {
     "name": "stdout",
     "output_type": "stream",
     "text": [
      "zondag 6 maart 2022\n",
      "zondag 6 maart 2022\n",
      "maandag 18 april 2022\n",
      "maandag 18 april 2022\n",
      "vrijdag 27 mei 2022\n",
      "vrijdag 27 mei 2022\n",
      "zondag 28 augustus 2022\n",
      "woensdag 31 augustus 2022\n",
      "zondag 6 november 2022\n",
      "zondag 6 november 2022\n",
      "zondag 8 januari 2023\n",
      "zondag 8 januari 2023\n"
     ]
    }
   ],
   "source": [
    "## storing the scraping results in a list\n",
    "end = []\n",
    "for i in ends:\n",
    "    print(i.text)\n",
    "    end.append(i.text)"
   ]
  },
  {
   "cell_type": "code",
   "execution_count": 26,
   "id": "b6473654",
   "metadata": {},
   "outputs": [],
   "source": [
    "## format the list into string format\n",
    "end = str(end)"
   ]
  },
  {
   "cell_type": "code",
   "execution_count": 27,
   "id": "86727cb4",
   "metadata": {},
   "outputs": [],
   "source": [
    "## searching for the dutch days in the string and remove them/replace them with a blank\n",
    "en_end = pattern.sub('', end)"
   ]
  },
  {
   "cell_type": "code",
   "execution_count": 28,
   "id": "93d2fd9c",
   "metadata": {},
   "outputs": [
    {
     "data": {
      "text/plain": [
       "\"[' 6 maart 2022', ' 6 maart 2022', ' 18 april 2022', ' 18 april 2022', ' 27 mei 2022', ' 27 mei 2022', ' 28 augustus 2022', ' 31 augustus 2022', ' 6 november 2022', ' 6 november 2022', ' 8 januari 2023', ' 8 januari 2023']\""
      ]
     },
     "execution_count": 28,
     "metadata": {},
     "output_type": "execute_result"
    }
   ],
   "source": [
    "## checking the results after the day removal\n",
    "en_end "
   ]
  },
  {
   "cell_type": "code",
   "execution_count": 29,
   "id": "c3b0817d",
   "metadata": {},
   "outputs": [
    {
     "data": {
      "text/plain": [
       "\"['6march2022','6march2022','18april2022','18april2022','27may2022','27may2022','28august2022','31august2022','6november2022','6november2022','8january2023','8january2023']\""
      ]
     },
     "execution_count": 29,
     "metadata": {},
     "output_type": "execute_result"
    }
   ],
   "source": [
    "## translating the dutch names into english names for the months\n",
    "en_end = en_end.replace(\"januari\", \"january\")\n",
    "en_end = en_end.replace('februari', 'february')\n",
    "en_end = en_end.replace('maart', 'march')\n",
    "en_end = en_end.replace('mei', 'may')\n",
    "en_end = en_end.replace('juni', 'june')\n",
    "en_end = en_end.replace('juli', 'july')\n",
    "en_end = en_end.replace('augustus', 'august')\n",
    "en_end = en_end.replace('oktober', 'october')\n",
    "en_end = en_end.replace(' ', '')\n",
    "en_end"
   ]
  },
  {
   "cell_type": "code",
   "execution_count": 30,
   "id": "e6f48892",
   "metadata": {},
   "outputs": [],
   "source": [
    "## creating a new df from the end dates of the belgian school holidays\n",
    "en_end = eval(en_end)\n",
    "df_end = pd.DataFrame(en_end)"
   ]
  },
  {
   "cell_type": "code",
   "execution_count": 31,
   "id": "86e245ec",
   "metadata": {},
   "outputs": [],
   "source": [
    "## creating a new df from the holidays with their start- and enddate\n",
    "frames = [df_holiday, df_start, df_end]\n",
    "df = pd.concat(frames, axis = 1, join = 'inner')\n",
    "df.columns =['Holiday', 'StartDate', 'EndDate']"
   ]
  },
  {
   "cell_type": "code",
   "execution_count": 32,
   "id": "7ed717e3",
   "metadata": {},
   "outputs": [
    {
     "data": {
      "text/html": [
       "<div>\n",
       "<style scoped>\n",
       "    .dataframe tbody tr th:only-of-type {\n",
       "        vertical-align: middle;\n",
       "    }\n",
       "\n",
       "    .dataframe tbody tr th {\n",
       "        vertical-align: top;\n",
       "    }\n",
       "\n",
       "    .dataframe thead th {\n",
       "        text-align: right;\n",
       "    }\n",
       "</style>\n",
       "<table border=\"1\" class=\"dataframe\">\n",
       "  <thead>\n",
       "    <tr style=\"text-align: right;\">\n",
       "      <th></th>\n",
       "      <th>Holiday</th>\n",
       "      <th>StartDate</th>\n",
       "      <th>EndDate</th>\n",
       "    </tr>\n",
       "  </thead>\n",
       "  <tbody>\n",
       "    <tr>\n",
       "      <th>0</th>\n",
       "      <td>Krokusvakantie 2022 – Wallonië –</td>\n",
       "      <td>2022-02-28</td>\n",
       "      <td>2022-03-06</td>\n",
       "    </tr>\n",
       "    <tr>\n",
       "      <th>1</th>\n",
       "      <td>Krokusvakantie 2022 – Vlaanderen –</td>\n",
       "      <td>2022-02-28</td>\n",
       "      <td>2022-03-06</td>\n",
       "    </tr>\n",
       "    <tr>\n",
       "      <th>2</th>\n",
       "      <td>Paasvakantie 2022 – Wallonië –</td>\n",
       "      <td>2022-04-04</td>\n",
       "      <td>2022-04-18</td>\n",
       "    </tr>\n",
       "    <tr>\n",
       "      <th>3</th>\n",
       "      <td>Paasvakantie 2022 – Vlaanderen –</td>\n",
       "      <td>2022-04-04</td>\n",
       "      <td>2022-04-18</td>\n",
       "    </tr>\n",
       "    <tr>\n",
       "      <th>4</th>\n",
       "      <td>Hemelvaartvakantie 2022 – Wallonië –</td>\n",
       "      <td>2022-05-26</td>\n",
       "      <td>2022-05-27</td>\n",
       "    </tr>\n",
       "    <tr>\n",
       "      <th>5</th>\n",
       "      <td>Hemelvaartvakantie 2022 – Vlaanderen –</td>\n",
       "      <td>2022-05-26</td>\n",
       "      <td>2022-05-27</td>\n",
       "    </tr>\n",
       "    <tr>\n",
       "      <th>6</th>\n",
       "      <td>Zomervakantie 2022 – Wallonië –</td>\n",
       "      <td>2022-07-01</td>\n",
       "      <td>2022-08-28</td>\n",
       "    </tr>\n",
       "    <tr>\n",
       "      <th>7</th>\n",
       "      <td>Zomervakantie 2022 – Vlaanderen –</td>\n",
       "      <td>2022-07-01</td>\n",
       "      <td>2022-08-31</td>\n",
       "    </tr>\n",
       "    <tr>\n",
       "      <th>8</th>\n",
       "      <td>Herfstvakantie 2022 – Wallonië –</td>\n",
       "      <td>2022-10-24</td>\n",
       "      <td>2022-11-06</td>\n",
       "    </tr>\n",
       "    <tr>\n",
       "      <th>9</th>\n",
       "      <td>Herfstvakantie 2022 – Vlaanderen –</td>\n",
       "      <td>2022-10-31</td>\n",
       "      <td>2022-11-06</td>\n",
       "    </tr>\n",
       "    <tr>\n",
       "      <th>10</th>\n",
       "      <td>Kerstvakantie 2022 – Wallonië –</td>\n",
       "      <td>2022-12-26</td>\n",
       "      <td>2023-01-08</td>\n",
       "    </tr>\n",
       "    <tr>\n",
       "      <th>11</th>\n",
       "      <td>Kerstvakantie 2022 – Vlaanderen –</td>\n",
       "      <td>2022-12-26</td>\n",
       "      <td>2023-01-08</td>\n",
       "    </tr>\n",
       "  </tbody>\n",
       "</table>\n",
       "</div>"
      ],
      "text/plain": [
       "                                    Holiday  StartDate    EndDate\n",
       "0         Krokusvakantie 2022 – Wallonië –  2022-02-28 2022-03-06\n",
       "1       Krokusvakantie 2022 – Vlaanderen –  2022-02-28 2022-03-06\n",
       "2           Paasvakantie 2022 – Wallonië –  2022-04-04 2022-04-18\n",
       "3         Paasvakantie 2022 – Vlaanderen –  2022-04-04 2022-04-18\n",
       "4     Hemelvaartvakantie 2022 – Wallonië –  2022-05-26 2022-05-27\n",
       "5   Hemelvaartvakantie 2022 – Vlaanderen –  2022-05-26 2022-05-27\n",
       "6          Zomervakantie 2022 – Wallonië –  2022-07-01 2022-08-28\n",
       "7        Zomervakantie 2022 – Vlaanderen –  2022-07-01 2022-08-31\n",
       "8         Herfstvakantie 2022 – Wallonië –  2022-10-24 2022-11-06\n",
       "9       Herfstvakantie 2022 – Vlaanderen –  2022-10-31 2022-11-06\n",
       "10         Kerstvakantie 2022 – Wallonië –  2022-12-26 2023-01-08\n",
       "11       Kerstvakantie 2022 – Vlaanderen –  2022-12-26 2023-01-08"
      ]
     },
     "execution_count": 32,
     "metadata": {},
     "output_type": "execute_result"
    }
   ],
   "source": [
    "## formatting the dates in the datetime format + checking df\n",
    "df[\"StartDate\"] = pd.to_datetime(df[\"StartDate\"], format=\"%d%B%Y\")\n",
    "df[\"EndDate\"] = pd.to_datetime(df[\"EndDate\"], format=\"%d%B%Y\")\n",
    "df"
   ]
  },
  {
   "cell_type": "code",
   "execution_count": 33,
   "id": "f2761587",
   "metadata": {},
   "outputs": [],
   "source": [
    "##creating a csv format from the new df\n",
    "df.to_csv(\"school_holidays_belg\", index = False)"
   ]
  }
 ],
 "metadata": {
  "kernelspec": {
   "display_name": "Python 3 (ipykernel)",
   "language": "python",
   "name": "python3"
  },
  "language_info": {
   "codemirror_mode": {
    "name": "ipython",
    "version": 3
   },
   "file_extension": ".py",
   "mimetype": "text/x-python",
   "name": "python",
   "nbconvert_exporter": "python",
   "pygments_lexer": "ipython3",
   "version": "3.9.13"
  }
 },
 "nbformat": 4,
 "nbformat_minor": 5
}
