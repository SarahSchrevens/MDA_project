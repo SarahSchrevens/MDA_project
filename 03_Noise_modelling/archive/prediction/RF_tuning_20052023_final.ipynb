{
  "cells": [
    {
      "cell_type": "markdown",
      "metadata": {
        "id": "8Bbm9XjeO3Hy"
      },
      "source": [
        "the task is to tune the RF model for each spot. there will be one set of hyperparameters used for the whole thing.\n",
        "- i set spot 09 to be used as the test data. the accuracy and other necessary metrics will be determined from there.\n",
        "- \n"
      ]
    },
    {
      "cell_type": "code",
      "execution_count": 83,
      "metadata": {
        "id": "RTeSLVxqO3H0"
      },
      "outputs": [],
      "source": [
        "import pandas as pd\n",
        "path = ''\n",
        "df_01 = pd.read_csv(path+\"df_01.csv\")\n",
        "df_02 = pd.read_csv(path+\"df_02.csv\")\n",
        "df_03 = pd.read_csv(path+\"df_03.csv\")\n",
        "df_04 = pd.read_csv(path+\"df_04.csv\")\n",
        "df_05 = pd.read_csv(path+\"df_05.csv\")\n",
        "df_06 = pd.read_csv(path+\"df_06.csv\")\n",
        "df_07 = pd.read_csv(path+\"df_07.csv\")\n",
        "df_09 = pd.read_csv(path+\"df_09.csv\")\n"
      ]
    },
    {
      "cell_type": "code",
      "execution_count": 84,
      "metadata": {
        "id": "6f5gmYVjO3H2"
      },
      "outputs": [],
      "source": [
        "merge = pd.concat([df_01,df_02,df_03,df_04,df_05,df_06,df_07,df_09]);merge=merge.dropna(subset=['laf50_per_hour']) #drop NAs in the 'laf50_per_hour'\n",
        "#keep in mind that operations done on train do not apply for the constituent dataframes.\n",
        "#convert 'date' and 'day' to datetime for both train and test\n",
        "merge['date'] = pd.to_datetime(merge['date']); merge['day'] = pd.to_datetime(merge['date'])\n",
        "\n",
        "weekday_mapping = {\n",
        "    'Monday': 1,\n",
        "    'Tuesday': 2,\n",
        "    'Wednesday': 3,\n",
        "    'Thursday': 4,\n",
        "    'Friday': 5,\n",
        "    'Saturday': 6,\n",
        "    'Sunday': 7\n",
        "}\n",
        "merge['weekday'] = merge['weekday'].map(weekday_mapping)"
      ]
    },
    {
      "cell_type": "code",
      "source": [
        "merge.head(1)"
      ],
      "metadata": {
        "colab": {
          "base_uri": "https://localhost:8080/",
          "height": 179
        },
        "id": "2jtw6rESsOF9",
        "outputId": "d06969a4-dd6d-412d-ef6a-32263bbd3d85"
      },
      "execution_count": 85,
      "outputs": [
        {
          "output_type": "execute_result",
          "data": {
            "text/plain": [
              "                   date                 day         time  start_hour  weekday  \\\n",
              "157 2022-03-07 13:00:00 2022-03-07 13:00:00  13:00-14:00          13        1   \n",
              "\n",
              "     LC_HUMIDITY  LC_RAININ  LC_TEMP_QCL3_list  school  loko  depot  \\\n",
              "157    42.873016        0.0           5.789435     0.0   1.0    2.0   \n",
              "\n",
              "      location   Latitude  Longitude  laf50_per_hour   baseline  noisiness  \n",
              "157  Number 35  50.877146   4.700688            51.1  53.243815      False  "
            ],
            "text/html": [
              "\n",
              "  <div id=\"df-d9a1ae71-bbcb-4887-b573-7068410c9dd1\">\n",
              "    <div class=\"colab-df-container\">\n",
              "      <div>\n",
              "<style scoped>\n",
              "    .dataframe tbody tr th:only-of-type {\n",
              "        vertical-align: middle;\n",
              "    }\n",
              "\n",
              "    .dataframe tbody tr th {\n",
              "        vertical-align: top;\n",
              "    }\n",
              "\n",
              "    .dataframe thead th {\n",
              "        text-align: right;\n",
              "    }\n",
              "</style>\n",
              "<table border=\"1\" class=\"dataframe\">\n",
              "  <thead>\n",
              "    <tr style=\"text-align: right;\">\n",
              "      <th></th>\n",
              "      <th>date</th>\n",
              "      <th>day</th>\n",
              "      <th>time</th>\n",
              "      <th>start_hour</th>\n",
              "      <th>weekday</th>\n",
              "      <th>LC_HUMIDITY</th>\n",
              "      <th>LC_RAININ</th>\n",
              "      <th>LC_TEMP_QCL3_list</th>\n",
              "      <th>school</th>\n",
              "      <th>loko</th>\n",
              "      <th>depot</th>\n",
              "      <th>location</th>\n",
              "      <th>Latitude</th>\n",
              "      <th>Longitude</th>\n",
              "      <th>laf50_per_hour</th>\n",
              "      <th>baseline</th>\n",
              "      <th>noisiness</th>\n",
              "    </tr>\n",
              "  </thead>\n",
              "  <tbody>\n",
              "    <tr>\n",
              "      <th>157</th>\n",
              "      <td>2022-03-07 13:00:00</td>\n",
              "      <td>2022-03-07 13:00:00</td>\n",
              "      <td>13:00-14:00</td>\n",
              "      <td>13</td>\n",
              "      <td>1</td>\n",
              "      <td>42.873016</td>\n",
              "      <td>0.0</td>\n",
              "      <td>5.789435</td>\n",
              "      <td>0.0</td>\n",
              "      <td>1.0</td>\n",
              "      <td>2.0</td>\n",
              "      <td>Number 35</td>\n",
              "      <td>50.877146</td>\n",
              "      <td>4.700688</td>\n",
              "      <td>51.1</td>\n",
              "      <td>53.243815</td>\n",
              "      <td>False</td>\n",
              "    </tr>\n",
              "  </tbody>\n",
              "</table>\n",
              "</div>\n",
              "      <button class=\"colab-df-convert\" onclick=\"convertToInteractive('df-d9a1ae71-bbcb-4887-b573-7068410c9dd1')\"\n",
              "              title=\"Convert this dataframe to an interactive table.\"\n",
              "              style=\"display:none;\">\n",
              "        \n",
              "  <svg xmlns=\"http://www.w3.org/2000/svg\" height=\"24px\"viewBox=\"0 0 24 24\"\n",
              "       width=\"24px\">\n",
              "    <path d=\"M0 0h24v24H0V0z\" fill=\"none\"/>\n",
              "    <path d=\"M18.56 5.44l.94 2.06.94-2.06 2.06-.94-2.06-.94-.94-2.06-.94 2.06-2.06.94zm-11 1L8.5 8.5l.94-2.06 2.06-.94-2.06-.94L8.5 2.5l-.94 2.06-2.06.94zm10 10l.94 2.06.94-2.06 2.06-.94-2.06-.94-.94-2.06-.94 2.06-2.06.94z\"/><path d=\"M17.41 7.96l-1.37-1.37c-.4-.4-.92-.59-1.43-.59-.52 0-1.04.2-1.43.59L10.3 9.45l-7.72 7.72c-.78.78-.78 2.05 0 2.83L4 21.41c.39.39.9.59 1.41.59.51 0 1.02-.2 1.41-.59l7.78-7.78 2.81-2.81c.8-.78.8-2.07 0-2.86zM5.41 20L4 18.59l7.72-7.72 1.47 1.35L5.41 20z\"/>\n",
              "  </svg>\n",
              "      </button>\n",
              "      \n",
              "  <style>\n",
              "    .colab-df-container {\n",
              "      display:flex;\n",
              "      flex-wrap:wrap;\n",
              "      gap: 12px;\n",
              "    }\n",
              "\n",
              "    .colab-df-convert {\n",
              "      background-color: #E8F0FE;\n",
              "      border: none;\n",
              "      border-radius: 50%;\n",
              "      cursor: pointer;\n",
              "      display: none;\n",
              "      fill: #1967D2;\n",
              "      height: 32px;\n",
              "      padding: 0 0 0 0;\n",
              "      width: 32px;\n",
              "    }\n",
              "\n",
              "    .colab-df-convert:hover {\n",
              "      background-color: #E2EBFA;\n",
              "      box-shadow: 0px 1px 2px rgba(60, 64, 67, 0.3), 0px 1px 3px 1px rgba(60, 64, 67, 0.15);\n",
              "      fill: #174EA6;\n",
              "    }\n",
              "\n",
              "    [theme=dark] .colab-df-convert {\n",
              "      background-color: #3B4455;\n",
              "      fill: #D2E3FC;\n",
              "    }\n",
              "\n",
              "    [theme=dark] .colab-df-convert:hover {\n",
              "      background-color: #434B5C;\n",
              "      box-shadow: 0px 1px 3px 1px rgba(0, 0, 0, 0.15);\n",
              "      filter: drop-shadow(0px 1px 2px rgba(0, 0, 0, 0.3));\n",
              "      fill: #FFFFFF;\n",
              "    }\n",
              "  </style>\n",
              "\n",
              "      <script>\n",
              "        const buttonEl =\n",
              "          document.querySelector('#df-d9a1ae71-bbcb-4887-b573-7068410c9dd1 button.colab-df-convert');\n",
              "        buttonEl.style.display =\n",
              "          google.colab.kernel.accessAllowed ? 'block' : 'none';\n",
              "\n",
              "        async function convertToInteractive(key) {\n",
              "          const element = document.querySelector('#df-d9a1ae71-bbcb-4887-b573-7068410c9dd1');\n",
              "          const dataTable =\n",
              "            await google.colab.kernel.invokeFunction('convertToInteractive',\n",
              "                                                     [key], {});\n",
              "          if (!dataTable) return;\n",
              "\n",
              "          const docLinkHtml = 'Like what you see? Visit the ' +\n",
              "            '<a target=\"_blank\" href=https://colab.research.google.com/notebooks/data_table.ipynb>data table notebook</a>'\n",
              "            + ' to learn more about interactive tables.';\n",
              "          element.innerHTML = '';\n",
              "          dataTable['output_type'] = 'display_data';\n",
              "          await google.colab.output.renderOutput(dataTable, element);\n",
              "          const docLink = document.createElement('div');\n",
              "          docLink.innerHTML = docLinkHtml;\n",
              "          element.appendChild(docLink);\n",
              "        }\n",
              "      </script>\n",
              "    </div>\n",
              "  </div>\n",
              "  "
            ]
          },
          "metadata": {},
          "execution_count": 85
        }
      ]
    },
    {
      "cell_type": "markdown",
      "metadata": {
        "id": "qJN5RXnhO3H2"
      },
      "source": [
        "i want to try using df_09 as validation, then tune hyperparameters with sklearn's GridSearchCV(). \n",
        "next i'll try to see if i can use nested CV: 7-fold hyperparameter tuning, in a sense."
      ]
    },
    {
      "cell_type": "code",
      "execution_count": 86,
      "metadata": {
        "id": "WbMiw5_IO3H2"
      },
      "outputs": [],
      "source": [
        "predictor_vars = ['start_hour','weekday','LC_HUMIDITY','LC_RAININ','LC_TEMP_QCL3_list','school','loko','depot']\n",
        "merge_X = merge.loc[:,predictor_vars]\n",
        "merge_Y = merge.loc[:,'noisiness']"
      ]
    },
    {
      "cell_type": "code",
      "execution_count": 90,
      "metadata": {
        "id": "vtQnlMdQO3H3",
        "outputId": "f7240217-8ee9-4f98-9bce-c94a6c8ba3a4",
        "colab": {
          "base_uri": "https://localhost:8080/",
          "height": 75
        }
      },
      "outputs": [
        {
          "output_type": "execute_result",
          "data": {
            "text/plain": [
              "RandomForestClassifier()"
            ],
            "text/html": [
              "<style>#sk-container-id-13 {color: black;background-color: white;}#sk-container-id-13 pre{padding: 0;}#sk-container-id-13 div.sk-toggleable {background-color: white;}#sk-container-id-13 label.sk-toggleable__label {cursor: pointer;display: block;width: 100%;margin-bottom: 0;padding: 0.3em;box-sizing: border-box;text-align: center;}#sk-container-id-13 label.sk-toggleable__label-arrow:before {content: \"▸\";float: left;margin-right: 0.25em;color: #696969;}#sk-container-id-13 label.sk-toggleable__label-arrow:hover:before {color: black;}#sk-container-id-13 div.sk-estimator:hover label.sk-toggleable__label-arrow:before {color: black;}#sk-container-id-13 div.sk-toggleable__content {max-height: 0;max-width: 0;overflow: hidden;text-align: left;background-color: #f0f8ff;}#sk-container-id-13 div.sk-toggleable__content pre {margin: 0.2em;color: black;border-radius: 0.25em;background-color: #f0f8ff;}#sk-container-id-13 input.sk-toggleable__control:checked~div.sk-toggleable__content {max-height: 200px;max-width: 100%;overflow: auto;}#sk-container-id-13 input.sk-toggleable__control:checked~label.sk-toggleable__label-arrow:before {content: \"▾\";}#sk-container-id-13 div.sk-estimator input.sk-toggleable__control:checked~label.sk-toggleable__label {background-color: #d4ebff;}#sk-container-id-13 div.sk-label input.sk-toggleable__control:checked~label.sk-toggleable__label {background-color: #d4ebff;}#sk-container-id-13 input.sk-hidden--visually {border: 0;clip: rect(1px 1px 1px 1px);clip: rect(1px, 1px, 1px, 1px);height: 1px;margin: -1px;overflow: hidden;padding: 0;position: absolute;width: 1px;}#sk-container-id-13 div.sk-estimator {font-family: monospace;background-color: #f0f8ff;border: 1px dotted black;border-radius: 0.25em;box-sizing: border-box;margin-bottom: 0.5em;}#sk-container-id-13 div.sk-estimator:hover {background-color: #d4ebff;}#sk-container-id-13 div.sk-parallel-item::after {content: \"\";width: 100%;border-bottom: 1px solid gray;flex-grow: 1;}#sk-container-id-13 div.sk-label:hover label.sk-toggleable__label {background-color: #d4ebff;}#sk-container-id-13 div.sk-serial::before {content: \"\";position: absolute;border-left: 1px solid gray;box-sizing: border-box;top: 0;bottom: 0;left: 50%;z-index: 0;}#sk-container-id-13 div.sk-serial {display: flex;flex-direction: column;align-items: center;background-color: white;padding-right: 0.2em;padding-left: 0.2em;position: relative;}#sk-container-id-13 div.sk-item {position: relative;z-index: 1;}#sk-container-id-13 div.sk-parallel {display: flex;align-items: stretch;justify-content: center;background-color: white;position: relative;}#sk-container-id-13 div.sk-item::before, #sk-container-id-13 div.sk-parallel-item::before {content: \"\";position: absolute;border-left: 1px solid gray;box-sizing: border-box;top: 0;bottom: 0;left: 50%;z-index: -1;}#sk-container-id-13 div.sk-parallel-item {display: flex;flex-direction: column;z-index: 1;position: relative;background-color: white;}#sk-container-id-13 div.sk-parallel-item:first-child::after {align-self: flex-end;width: 50%;}#sk-container-id-13 div.sk-parallel-item:last-child::after {align-self: flex-start;width: 50%;}#sk-container-id-13 div.sk-parallel-item:only-child::after {width: 0;}#sk-container-id-13 div.sk-dashed-wrapped {border: 1px dashed gray;margin: 0 0.4em 0.5em 0.4em;box-sizing: border-box;padding-bottom: 0.4em;background-color: white;}#sk-container-id-13 div.sk-label label {font-family: monospace;font-weight: bold;display: inline-block;line-height: 1.2em;}#sk-container-id-13 div.sk-label-container {text-align: center;}#sk-container-id-13 div.sk-container {/* jupyter's `normalize.less` sets `[hidden] { display: none; }` but bootstrap.min.css set `[hidden] { display: none !important; }` so we also need the `!important` here to be able to override the default hidden behavior on the sphinx rendered scikit-learn.org. See: https://github.com/scikit-learn/scikit-learn/issues/21755 */display: inline-block !important;position: relative;}#sk-container-id-13 div.sk-text-repr-fallback {display: none;}</style><div id=\"sk-container-id-13\" class=\"sk-top-container\"><div class=\"sk-text-repr-fallback\"><pre>RandomForestClassifier()</pre><b>In a Jupyter environment, please rerun this cell to show the HTML representation or trust the notebook. <br />On GitHub, the HTML representation is unable to render, please try loading this page with nbviewer.org.</b></div><div class=\"sk-container\" hidden><div class=\"sk-item\"><div class=\"sk-estimator sk-toggleable\"><input class=\"sk-toggleable__control sk-hidden--visually\" id=\"sk-estimator-id-19\" type=\"checkbox\" checked><label for=\"sk-estimator-id-19\" class=\"sk-toggleable__label sk-toggleable__label-arrow\">RandomForestClassifier</label><div class=\"sk-toggleable__content\"><pre>RandomForestClassifier()</pre></div></div></div></div></div>"
            ]
          },
          "metadata": {},
          "execution_count": 90
        }
      ],
      "source": [
        "from sklearn.ensemble import RandomForestClassifier\n",
        "from sklearn.model_selection import train_test_split\n",
        "X_tv, X_test, Y_tv, Y_test = train_test_split(merge_X, merge_Y, test_size=0.1, random_state=19)\n",
        "X_train, X_valid, Y_train, Y_valid = train_test_split(X_tv,Y_tv,test_size=0.3,random_state=19)\n",
        "model = RandomForestClassifier()\n",
        "model.fit(X_train,Y_train)\n"
      ]
    },
    {
      "cell_type": "code",
      "source": [
        "print(len(X_tv))\n",
        "print(len(X_test))"
      ],
      "metadata": {
        "colab": {
          "base_uri": "https://localhost:8080/"
        },
        "id": "UJGb0c4xq7ql",
        "outputId": "5d93a955-bd9f-4d06-df90-4d8f9cc6f6dc"
      },
      "execution_count": 89,
      "outputs": [
        {
          "output_type": "stream",
          "name": "stdout",
          "text": [
            "44109\n",
            "4901\n"
          ]
        }
      ]
    },
    {
      "cell_type": "code",
      "execution_count": 91,
      "metadata": {
        "id": "9UhPC-TVO3H4",
        "outputId": "2e77cbf0-06ac-4345-e51d-dc273d791004",
        "colab": {
          "base_uri": "https://localhost:8080/"
        }
      },
      "outputs": [
        {
          "output_type": "stream",
          "name": "stdout",
          "text": [
            "0.8332955490062722\n"
          ]
        }
      ],
      "source": [
        "from sklearn.metrics import accuracy_score\n",
        "#prediction checking\n",
        "Y_pred = model.predict(X_valid)\n",
        "accuracy = accuracy_score(Y_valid,Y_pred)\n",
        "print(accuracy)"
      ]
    },
    {
      "cell_type": "markdown",
      "metadata": {
        "id": "nNh6KCIAO3H4"
      },
      "source": [
        "83.3% is only done on validation data. "
      ]
    },
    {
      "cell_type": "code",
      "execution_count": 92,
      "metadata": {
        "id": "4B25V6KUO3H5",
        "outputId": "b5aa0f2d-149d-4166-93c1-2d584ca882a5",
        "colab": {
          "base_uri": "https://localhost:8080/"
        }
      },
      "outputs": [
        {
          "output_type": "stream",
          "name": "stdout",
          "text": [
            "0.8306468067741277\n"
          ]
        }
      ],
      "source": [
        "#what if we tested on df_09 as planned? does it generalize?\n",
        "Y_test_pred = model.predict(X_test)\n",
        "accuracy_test = accuracy_score(Y_test_pred,Y_test)\n",
        "print(accuracy_test)"
      ]
    },
    {
      "cell_type": "markdown",
      "metadata": {
        "id": "b0xeANkpO3H5"
      },
      "source": [
        "it generalizes a teensy bit better. now to try tuning, with RandomizedSearchCV() apparently being used before GridSearchCV().\n",
        "source: https://www.geeksforgeeks.org/random-forest-hyperparameter-tuning-in-python/"
      ]
    },
    {
      "cell_type": "code",
      "execution_count": null,
      "metadata": {
        "id": "mFKLOa_rO3H5"
      },
      "outputs": [],
      "source": [
        "from sklearn.model_selection import RandomizedSearchCV\n",
        "from sklearn.ensemble import RandomForestClassifier\n",
        "from sklearn.model_selection import train_test_split\n",
        "model = RandomForestClassifier()\n",
        "param_grid_rs = {\n",
        "    'criterion': ['entropy'],\n",
        "    'max_depth': [20, 30, 40, 50],\n",
        "    'min_samples_leaf': [4, 10, 50, 100],\n",
        "    'min_samples_split': [2, 10, 20, 50],\n",
        "    'max_leaf_nodes': [2,4,6,8,10],\n",
        "    'n_estimators': [200, 400, 600, 800, 1000],\n",
        "    'max_samples': [0.2,0.4,0.6]\n",
        "}\n",
        "rf_random = RandomizedSearchCV(estimator = model, param_distributions = param_grid_rs, cv = 4, verbose=2, random_state=19)\n",
        "rf_random.fit(X_train, Y_train) #fit is to initiate training process\n"
      ]
    },
    {
      "cell_type": "code",
      "execution_count": 95,
      "metadata": {
        "colab": {
          "base_uri": "https://localhost:8080/"
        },
        "id": "rtVPqh6oO3H5",
        "outputId": "ad3f2515-8aab-44a6-d627-0b01644093b9"
      },
      "outputs": [
        {
          "output_type": "stream",
          "name": "stdout",
          "text": [
            "RandomForestClassifier(criterion='entropy', max_depth=20, max_leaf_nodes=10,\n",
            "                       max_samples=0.4, min_samples_leaf=4, n_estimators=800)\n"
          ]
        }
      ],
      "source": [
        "print(rf_random.best_estimator_)"
      ]
    },
    {
      "cell_type": "markdown",
      "source": [
        "thus GridSearchCV() will be trained around:\n",
        "\n",
        "criterion='entropy', max_depth=20, max_leaf_nodes=10,\n",
        "                       max_samples=0.4, min_samples_leaf=4, n_estimators=800"
      ],
      "metadata": {
        "id": "a-i4KYjDVKpl"
      }
    },
    {
      "cell_type": "code",
      "source": [
        "from sklearn.model_selection import GridSearchCV\n",
        "param_grid_gs = {\n",
        "    'criterion': ['entropy'],\n",
        "    'max_depth': [15,20,25],\n",
        "    'min_samples_leaf': [2,4,6],\n",
        "    'max_leaf_nodes': [9,10,11],\n",
        "    'n_estimators': [800],\n",
        "    'max_samples': [0.4]\n",
        "}\n",
        "rf_grid = GridSearchCV(estimator = model, param_grid = param_grid_gs, cv = 3, verbose=2)\n",
        "rf_grid.fit(X_train, Y_train) #fit is to initiate training process"
      ],
      "metadata": {
        "id": "YrBWXLv8VWaf"
      },
      "execution_count": null,
      "outputs": []
    },
    {
      "cell_type": "code",
      "source": [
        "print(rf_grid.best_estimator_)"
      ],
      "metadata": {
        "colab": {
          "base_uri": "https://localhost:8080/"
        },
        "id": "T8t2HhyBWWhb",
        "outputId": "586591a1-13bc-4757-f6d6-58c90b5ce475"
      },
      "execution_count": 98,
      "outputs": [
        {
          "output_type": "stream",
          "name": "stdout",
          "text": [
            "RandomForestClassifier(criterion='entropy', max_depth=25, max_leaf_nodes=11,\n",
            "                       max_samples=0.4, min_samples_leaf=6, n_estimators=800)\n"
          ]
        }
      ]
    },
    {
      "cell_type": "markdown",
      "source": [
        "criterion='entropy', max_depth=25, max_leaf_nodes=11,\n",
        "                       max_samples=0.4, min_samples_leaf=6, n_estimators=800"
      ],
      "metadata": {
        "id": "uFpCeXPOQ5sG"
      }
    },
    {
      "cell_type": "code",
      "source": [
        "#test data accuracy?\n",
        "from sklearn.metrics import accuracy_score\n",
        "param_grid_final = {\n",
        "    'criterion': ['entropy'],\n",
        "    'max_depth': [25],\n",
        "    'min_samples_leaf': [6],\n",
        "    'max_leaf_nodes': [11],\n",
        "    'n_estimators': [800],\n",
        "    'max_samples': [0.4]\n",
        "}\n",
        "model.fit(X_tv,Y_tv)\n",
        "Y_test_pred = model.predict(X_test)\n",
        "accuracy = accuracy_score(Y_test,Y_test_pred)\n",
        "print(accuracy)"
      ],
      "metadata": {
        "colab": {
          "base_uri": "https://localhost:8080/"
        },
        "id": "VFydcCydRcZn",
        "outputId": "a92e7785-72aa-4005-dfbf-8f992105cc2e"
      },
      "execution_count": 100,
      "outputs": [
        {
          "output_type": "stream",
          "name": "stdout",
          "text": [
            "0.8453376861864925\n"
          ]
        }
      ]
    },
    {
      "cell_type": "markdown",
      "source": [
        "marginal gains. seems ok? time to train on each location and see."
      ],
      "metadata": {
        "id": "BJb72rBxzPH0"
      }
    },
    {
      "cell_type": "code",
      "source": [
        "# Create an empty dictionary to store accuracy scores\n",
        "accuracy_scores = {}\n",
        "# Define the mapping of weekdays to numerical values\n",
        "weekday_mapping = {\n",
        "    'Monday': 1,\n",
        "    'Tuesday': 2,\n",
        "    'Wednesday': 3,\n",
        "    'Thursday': 4,\n",
        "    'Friday': 5,\n",
        "    'Saturday': 6,\n",
        "    'Sunday': 7\n",
        "}\n",
        "predictor_vars = ['start_hour','weekday','LC_HUMIDITY','LC_RAININ','LC_TEMP_QCL3_list','school','loko','depot']\n",
        "data = [df_01,df_02,df_03,df_04,df_05,df_06,df_07,df_09]\n",
        "name_df = ['df_01','df_02','df_03','df_04','df_05','df_06','df_07','df_09']\n",
        "param_grid_final = {\n",
        "    'criterion': ['entropy'],\n",
        "    'max_depth': [25],\n",
        "    'min_samples_leaf': [6],\n",
        "    'max_leaf_nodes': [11],\n",
        "    'n_estimators': [800],\n",
        "    'max_samples': [0.4]\n",
        "}\n",
        "iter_c = 0\n",
        "for iter in data:\n",
        "  data_it = pd.DataFrame(iter)\n",
        "  data_it = data_it.dropna(subset=['laf50_per_hour'])\n",
        "  data_it['weekday'] = data_it['weekday'].map(weekday_mapping)\n",
        "  data_it['date'] = pd.to_datetime(data_it['date'])\n",
        "  X = data_it.loc[:,predictor_vars]\n",
        "  Y = data_it.loc[:,'noisiness']\n",
        "\n",
        "  X_train, X_test, y_train, y_test = train_test_split(X, Y, test_size=0.3, random_state=19)\n",
        "  rf_model = RandomForestClassifier(criterion='entropy',max_depth=25,min_samples_leaf=6,\n",
        "                                    max_leaf_nodes=6, n_estimators=800,max_samples=0.4,\n",
        "                                    random_state=19)\n",
        "  rf_model.fit(X_train, y_train)\n",
        "  y_pred_rf = rf_model.predict(X_test)\n",
        "  accuracy_rf = accuracy_score(y_test, y_pred_rf)\n",
        "  accuracy_scores[name_df[iter_c]] = {\n",
        "        'Random Forest Accuracy': accuracy_rf}\n",
        "  iter_c = iter_c+1\n",
        "#loop ends\n",
        "accuracy_df = pd.DataFrame.from_dict(accuracy_scores, orient='index')\n",
        "print(accuracy_df)\n"
      ],
      "metadata": {
        "colab": {
          "base_uri": "https://localhost:8080/"
        },
        "id": "umTfG-ppzbGj",
        "outputId": "6e97f274-6401-41a9-8e18-29ec2626b668"
      },
      "execution_count": 110,
      "outputs": [
        {
          "output_type": "stream",
          "name": "stderr",
          "text": [
            "<ipython-input-110-aa3233084e1d>:28: SettingWithCopyWarning: \n",
            "A value is trying to be set on a copy of a slice from a DataFrame.\n",
            "Try using .loc[row_indexer,col_indexer] = value instead\n",
            "\n",
            "See the caveats in the documentation: https://pandas.pydata.org/pandas-docs/stable/user_guide/indexing.html#returning-a-view-versus-a-copy\n",
            "  data_it['weekday'] = data_it['weekday'].map(weekday_mapping)\n",
            "<ipython-input-110-aa3233084e1d>:29: SettingWithCopyWarning: \n",
            "A value is trying to be set on a copy of a slice from a DataFrame.\n",
            "Try using .loc[row_indexer,col_indexer] = value instead\n",
            "\n",
            "See the caveats in the documentation: https://pandas.pydata.org/pandas-docs/stable/user_guide/indexing.html#returning-a-view-versus-a-copy\n",
            "  data_it['date'] = pd.to_datetime(data_it['date'])\n"
          ]
        },
        {
          "output_type": "stream",
          "name": "stdout",
          "text": [
            "       Random Forest Accuracy\n",
            "df_01                0.745982\n",
            "df_02                0.774935\n",
            "df_03                0.799365\n",
            "df_04                0.814545\n",
            "df_05                0.790286\n",
            "df_06                0.773945\n",
            "df_07                0.783799\n",
            "df_09                0.673415\n"
          ]
        }
      ]
    }
  ],
  "metadata": {
    "kernelspec": {
      "display_name": "MDA_proj",
      "language": "python",
      "name": "python3"
    },
    "language_info": {
      "codemirror_mode": {
        "name": "ipython",
        "version": 3
      },
      "file_extension": ".py",
      "mimetype": "text/x-python",
      "name": "python",
      "nbconvert_exporter": "python",
      "pygments_lexer": "ipython3",
      "version": "3.9.16"
    },
    "orig_nbformat": 4,
    "colab": {
      "provenance": []
    }
  },
  "nbformat": 4,
  "nbformat_minor": 0
}