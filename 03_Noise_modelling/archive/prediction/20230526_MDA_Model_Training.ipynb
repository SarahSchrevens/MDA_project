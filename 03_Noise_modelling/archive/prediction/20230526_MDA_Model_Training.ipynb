{
  "nbformat": 4,
  "nbformat_minor": 0,
  "metadata": {
    "colab": {
      "provenance": []
    },
    "kernelspec": {
      "name": "python3",
      "display_name": "Python 3"
    },
    "language_info": {
      "name": "python"
    }
  },
  "cells": [
    {
      "cell_type": "code",
      "execution_count": null,
      "metadata": {
        "id": "W4lQ5SVZghDN"
      },
      "outputs": [],
      "source": [
        "import pandas as pd\n",
        "from sklearn.metrics import accuracy_score\n",
        "from sklearn.model_selection import RandomizedSearchCV\n",
        "from sklearn.ensemble import RandomForestClassifier\n",
        "from sklearn.model_selection import train_test_split\n",
        "import joblib\n",
        "\n",
        "path = ''\n",
        "df_01 = pd.read_csv(path+\"df_01.csv\")\n",
        "df_02 = pd.read_csv(path+\"df_02.csv\")\n",
        "df_03 = pd.read_csv(path+\"df_03.csv\")\n",
        "df_04 = pd.read_csv(path+\"df_04.csv\")\n",
        "df_05 = pd.read_csv(path+\"df_05.csv\")\n",
        "df_06 = pd.read_csv(path+\"df_06.csv\")\n",
        "df_07 = pd.read_csv(path+\"df_07.csv\")\n",
        "df_09 = pd.read_csv(path+\"df_09.csv\")\n",
        "\n",
        "name_df = ['df_01','df_02','df_03','df_04','df_05','df_06','df_07','df_09']\n",
        "list_df = [df_01,df_02,df_03,df_04,df_05,df_06,df_07,df_09]\n",
        "#make variables \"weekend\" from 'weekday' (1 if saturday/sunday) and 'daytime' from start_hour (1 if 20-05)\n",
        "def weekend_daytime(df):\n",
        "  df['weekend'] = df['weekday'].isin(['Saturday','Sunday']).astype(int)\n",
        "  df['daytime'] = df['start_hour'].isin([6,7,8,9,10,11,12,13,14,15,16,17,18,19]).astype(int)\n",
        "  return df\n",
        "for i in list_df:\n",
        "  i = weekend_daytime(i)\n",
        "\n",
        "merge = pd.concat(list_df);merge=merge.dropna(subset=['laf50_per_hour']); merge.reset_index() #drop NAs in the 'laf50_per_hour'\n",
        "#keep in mind that operations done on train do not apply for the constituent dataframes.\n",
        "#convert 'date' and 'day' to datetime for both train and test\n",
        "merge['date'] = pd.to_datetime(merge['date']); merge['day'] = pd.to_datetime(merge['day'])"
      ]
    },
    {
      "cell_type": "code",
      "source": [
        "# Create an empty dictionary to store accuracy scores\n",
        "accuracy_scores = {}\n",
        "predictor_vars = ['LC_HUMIDITY','LC_RAININ','LC_TEMP_QCL3_list','school','loko','depot','weekend','daytime']\n",
        "data = [df_01,df_02,df_03,df_04,df_05,df_06,df_07,df_09]\n",
        "name_df = ['df_01','df_02','df_03','df_04','df_05','df_06','df_07','df_09']\n",
        "param_grid_final = {\n",
        "    'criterion': ['entropy'],\n",
        "    'max_depth': [25],\n",
        "    'min_samples_leaf': [6],\n",
        "    'max_leaf_nodes': [11],\n",
        "    'n_estimators': [800],\n",
        "    'max_samples': [0.6]\n",
        "}\n",
        "iter_c = 0\n",
        "for iter in data:\n",
        "  data_it = pd.DataFrame(iter)\n",
        "  data_it = data_it.dropna(subset=['laf50_per_hour'])\n",
        "  data_it['date'] = pd.to_datetime(data_it['date'])\n",
        "  X = data_it.loc[:,predictor_vars]\n",
        "  Y = data_it.loc[:,'noisiness']\n",
        "\n",
        "  X_train, X_test, y_train, y_test = train_test_split(X, Y, test_size=0.3, random_state=19)\n",
        "  rf_model = RandomForestClassifier(criterion='entropy',max_depth=25,min_samples_leaf=6,\n",
        "                                    max_leaf_nodes=6, n_estimators=800,max_samples=0.6,\n",
        "                                    random_state=19)\n",
        "  rf_model.fit(X_train, y_train)\n",
        "  y_pred_rf = rf_model.predict(X_test)\n",
        "  accuracy_rf = accuracy_score(y_test, y_pred_rf)\n",
        "  accuracy_scores[name_df[iter_c]] = {\n",
        "        'Random Forest Accuracy': accuracy_rf}\n",
        "  joblib.dump(value=rf_model,filename='model_'+str(name_df[iter_c])+'.gz',compress=3)\n",
        "  iter_c = iter_c+1\n",
        "#loop ends\n",
        "accuracy_df = pd.DataFrame.from_dict(accuracy_scores, orient='index')\n",
        "print(accuracy_df)"
      ],
      "metadata": {
        "colab": {
          "base_uri": "https://localhost:8080/"
        },
        "id": "YlFsUZ_Yt7_X",
        "outputId": "72df02fb-5019-4b5b-cff2-374aedfd8191"
      },
      "execution_count": null,
      "outputs": [
        {
          "output_type": "stream",
          "name": "stdout",
          "text": [
            "       Random Forest Accuracy\n",
            "df_01                0.634007\n",
            "df_02                0.627676\n",
            "df_03                0.645937\n",
            "df_04                0.669091\n",
            "df_05                0.640036\n",
            "df_06                0.620971\n",
            "df_07                0.621784\n",
            "df_09                0.635589\n"
          ]
        }
      ]
    }
  ]
}