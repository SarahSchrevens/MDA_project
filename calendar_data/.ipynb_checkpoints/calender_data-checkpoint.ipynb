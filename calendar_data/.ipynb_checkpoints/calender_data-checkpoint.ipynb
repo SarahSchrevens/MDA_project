{
 "cells": [
  {
   "cell_type": "code",
   "execution_count": 68,
   "id": "bb85e0bb",
   "metadata": {},
   "outputs": [],
   "source": [
    "##import libraries request and bs4\n",
    "import requests #library needed for requesting permission to website\n",
    "from bs4 import BeautifulSoup #needed for filtering through website html code\n",
    "import re\n",
    "import pandas as pd"
   ]
  },
  {
   "cell_type": "code",
   "execution_count": 69,
   "id": "9915c8de",
   "metadata": {},
   "outputs": [],
   "source": [
    "##adding url of site needed for data\n",
    "url = \"https://www.kuleuven.be/english/about-kuleuven/calendars/2021-2022/ku-leuven-leuven-main-campus\"\n",
    "response = requests.get(url)"
   ]
  },
  {
   "cell_type": "code",
   "execution_count": 70,
   "id": "0261e88f",
   "metadata": {},
   "outputs": [
    {
     "data": {
      "text/plain": [
       "'https://www.kuleuven.be/english/about-kuleuven/calendars/2021-2022/ku-leuven-leuven-main-campus'"
      ]
     },
     "execution_count": 70,
     "metadata": {},
     "output_type": "execute_result"
    }
   ],
   "source": [
    "##making sure everything works and the correct url is used\n",
    "response.url"
   ]
  },
  {
   "cell_type": "code",
   "execution_count": 71,
   "id": "af7e0325",
   "metadata": {},
   "outputs": [],
   "source": [
    "##storing in beautifulsoup element for further usage\n",
    "soup = BeautifulSoup(response.text, \"html.parser\")"
   ]
  },
  {
   "cell_type": "code",
   "execution_count": 72,
   "id": "abf9ff71",
   "metadata": {},
   "outputs": [],
   "source": [
    "dates = soup.select('p') "
   ]
  },
  {
   "cell_type": "code",
   "execution_count": 73,
   "id": "de560cfb",
   "metadata": {},
   "outputs": [
    {
     "name": "stdout",
     "output_type": "stream",
     "text": [
      "September 2021\n",
      "Mo.\n",
      "27\n",
      "Opening academic year 2021-2022 in Leuven\n",
      "October 2021\n",
      " \n",
      " \n",
      " \n",
      "November 2021\n",
      "Mo. \n",
      "1\n",
      "All Saints (Bank holiday) (1)\n",
      "Tu. \n",
      "2 \n",
      "All Souls' Day (Bank holiday) (1)\n",
      "Th.\n",
      "11\n",
      "Armistice Day (Bank holiday) (1)\n",
      "December 2021\n",
      "Sa.\n",
      "25\n",
      "Christmas holiday from Saturday 25 December until Sunday 9 January\n",
      "Sa.\n",
      "25\n",
      "Christmas (Bank holiday) (1)\n",
      "Su.\n",
      "26\n",
      "Boxing Day (Bank holiday) (1)\n",
      "January 2022\n",
      "Sa.\n",
      "1\n",
      "New Year's Day (Bank holiday) (1)\n",
      "Mo.\n",
      "10\n",
      "Study period until Thursday January 13\n",
      "Start of the first examination period*\n",
      "February 2022\n",
      "We.\n",
      "2\n",
      "KU Leuven Patron Saint's Day Celebration (Bank holiday) (1)\n",
      "Mo.\n",
      "14\n",
      "Start of second semester\n",
      "March 2022\n",
      "April 2022\n",
      "Sa.\n",
      "2\n",
      "Easter holiday from Saturday 2 April until Monday 18 April\n",
      "Sun.\n",
      "17\n",
      "Easter (1)\n",
      "Mo.\n",
      "18\n",
      "Easter Monday (Bank holiday) (1)\n",
      "May 2022\n",
      "Su.\n",
      "1\n",
      "Labour Day (Bank holiday) (1)\n",
      "Th.\n",
      "26\n",
      "Feast of the Ascension (Bank holiday) (1)\n",
      "Sa.\n",
      "28\n",
      "End of second semester classes\n",
      "\t\t\tStudy period until Sunday 12 June\n",
      "June 2022\n",
      "Mo.\n",
      "13\n",
      "Start of second examination period*\n",
      "July 2022\n",
      "Sa.\n",
      "9\n",
      "Mo.\n",
      "11\n",
      "Holiday of the Flemish Community (Bank holiday) (1)\n",
      "Th.\n",
      "21\n",
      "Belgian National Holiday (Bank holiday) (1)\n",
      "August 2022\n",
      "Mo.\n",
      "15\n",
      "Assumption of Mary (Bank holiday) (1)\n",
      "Tu.\n",
      "16\n",
      "Start of registration for the 2022-2023 academic year\n",
      "Mo.\n",
      "22\n",
      "Start of third examination period*\n",
      "September 2022\n",
      "Mo.  \n",
      "5\n",
      "Monday of Leuven Funfair (Bank holiday) (1)\n",
      "Mo.\n",
      "12\n",
      "Start of examination board meetings\n",
      "Sa.\n",
      "17\n",
      "End of examination board meetings\n",
      "* Some faculties start their exam period earlier. Please check the faculty’s website for more information.\n",
      "(1) = The university’s campus in Leuven is closed.\n",
      "\n",
      "      Last update:\n",
      "      08 Mar 2022\n",
      "    \n",
      "\n"
     ]
    }
   ],
   "source": [
    "date = []\n",
    "for y in dates:\n",
    "    print(y.text)\n",
    "    date.append(y.text)\n",
    "   "
   ]
  },
  {
   "cell_type": "code",
   "execution_count": 74,
   "id": "9c1922a5",
   "metadata": {},
   "outputs": [
    {
     "data": {
      "text/plain": [
       "'[\\'September 2021\\', \\'Mo.\\', \\'27\\', \\'Opening academic year2021-2022inLeuven\\', \\'October 2021\\', \\'\\', \\'\\', \\'\\', \\'November 2021\\', \\'Mo. \\', \\'1\\', \\'All Saints (Bank holiday)(1)\\', \\'Tu. \\', \\'2 \\', \"All Souls\\' Day (Bank holiday)(1)\", \\'Th.\\', \\'11\\', \\'Armistice Day (Bank holiday) (1)\\', \\'December 2021\\', \\'Sa.\\', \\'25\\', \\'Christmas holiday from Saturday 25 December until Sunday 9January\\', \\'Sa.\\', \\'25\\', \\'Christmas (Bank holiday) (1)\\', \\'Su.\\', \\'26\\', \\'Boxing Day (Bank holiday)(1)\\', \\'January2022\\', \\'Sa.\\', \\'1\\', \"New Year\\'s Day (Bank holiday) (1)\", \\'Mo.\\', \\'10\\', \\'Study period until Thursday January 13\\', \\'Start of the first examination period*\\', \\'February2022\\', \\'We.\\', \\'2\\', \"KU Leuven Patron Saint\\'s Day Celebration (Bank holiday)(1)\", \\'Mo.\\', \\'14\\', \\'Start of second semester\\', \\'March 2022\\', \\'April 2022\\', \\'Sa.\\', \\'2\\', \\'Easter holiday from Saturday 2April until Monday 18 April\\', \\'Sun.\\', \\'17\\', \\'Easter (1)\\', \\'Mo.\\', \\'18\\', \\'Easter Monday (Bank holiday)(1)\\', \\'May2022\\', \\'Su.\\', \\'1\\', \\'Labour Day (Bank holiday) (1)\\', \\'Th.\\', \\'26\\', \\'Feast of the Ascension (Bank holiday)(1)\\', \\'Sa.\\', \\'28\\', \\'End of second semester classesntttStudy period until Sunday 12June\\', \\'June2022\\', \\'Mo.\\', \\'13\\', \\'Start of second examination period*\\', \\'July2022\\', \\'Sa.\\', \\'9\\', \\'Mo.\\', \\'11\\', \\'Holiday of the Flemish Community (Bank holiday) (1)\\', \\'Th.\\', \\'21\\', \\'Belgian National Holiday (Bank holiday)(1)\\', \\'August2022\\', \\'Mo.\\', \\'15\\', \\'Assumption of Mary (Bank holiday)(1)\\', \\'Tu.\\', \\'16\\', \\'Start of registration for the 2022-2023academic year\\', \\'Mo.\\', \\'22\\', \\'Start of third examination period*\\', \\'September 2022\\', \\'Mo. \\', \\'5\\', \\'Monday of Leuven Funfair (Bank holiday)(1)\\', \\'Mo.\\', \\'12\\', \\'Start of examination board meetings\\', \\'Sa.\\', \\'17\\', \\'End of examination board meetings\\', \\'* Some faculties start their exam period earlier. Please check the faculty’s website for more information.\\', \\'(1) = The university’s campus in Leuven is closed.\\', \\'n      Last update:n      08 Mar 2022n    \\', \\'\\']'"
      ]
     },
     "execution_count": 74,
     "metadata": {},
     "output_type": "execute_result"
    }
   ],
   "source": [
    "date = str(date)\n",
    "date = date.replace('xa0', '')\n",
    "date = date.replace('\\\\', '')\n",
    "date"
   ]
  },
  {
   "cell_type": "code",
   "execution_count": 75,
   "id": "2b739b45",
   "metadata": {},
   "outputs": [],
   "source": [
    "# Regular expression to match \"month year\" pattern\n",
    "pattern = r\"([A-Za-z]+)\\s*\\.?\\s*(\\d{4})\"\n",
    "\n",
    "# Find all matches of pattern in the string\n",
    "matches = re.findall(pattern, date)"
   ]
  },
  {
   "cell_type": "code",
   "execution_count": 76,
   "id": "34c640de",
   "metadata": {},
   "outputs": [
    {
     "data": {
      "text/plain": [
       "[('September', '2021'),\n",
       " ('year', '2021'),\n",
       " ('October', '2021'),\n",
       " ('November', '2021'),\n",
       " ('December', '2021'),\n",
       " ('January', '2022'),\n",
       " ('February', '2022'),\n",
       " ('March', '2022'),\n",
       " ('April', '2022'),\n",
       " ('May', '2022'),\n",
       " ('June', '2022'),\n",
       " ('July', '2022'),\n",
       " ('August', '2022'),\n",
       " ('the', '2022'),\n",
       " ('September', '2022'),\n",
       " ('Mar', '2022')]"
      ]
     },
     "execution_count": 76,
     "metadata": {},
     "output_type": "execute_result"
    }
   ],
   "source": [
    "matches"
   ]
  },
  {
   "cell_type": "code",
   "execution_count": 77,
   "id": "1cb0951b",
   "metadata": {},
   "outputs": [],
   "source": [
    "indexes = [1, 13, 15]\n",
    "for index in sorted(indexes, reverse=True):\n",
    "    del matches[index]\n",
    "matches"
   ]
  },
  {
   "cell_type": "code",
   "execution_count": 79,
   "id": "b497c4a9",
   "metadata": {},
   "outputs": [
    {
     "data": {
      "text/html": [
       "<div>\n",
       "<style scoped>\n",
       "    .dataframe tbody tr th:only-of-type {\n",
       "        vertical-align: middle;\n",
       "    }\n",
       "\n",
       "    .dataframe tbody tr th {\n",
       "        vertical-align: top;\n",
       "    }\n",
       "\n",
       "    .dataframe thead th {\n",
       "        text-align: right;\n",
       "    }\n",
       "</style>\n",
       "<table border=\"1\" class=\"dataframe\">\n",
       "  <thead>\n",
       "    <tr style=\"text-align: right;\">\n",
       "      <th></th>\n",
       "      <th>0</th>\n",
       "      <th>1</th>\n",
       "    </tr>\n",
       "  </thead>\n",
       "  <tbody>\n",
       "    <tr>\n",
       "      <th>0</th>\n",
       "      <td>September</td>\n",
       "      <td>2021</td>\n",
       "    </tr>\n",
       "    <tr>\n",
       "      <th>1</th>\n",
       "      <td>October</td>\n",
       "      <td>2021</td>\n",
       "    </tr>\n",
       "    <tr>\n",
       "      <th>2</th>\n",
       "      <td>November</td>\n",
       "      <td>2021</td>\n",
       "    </tr>\n",
       "    <tr>\n",
       "      <th>3</th>\n",
       "      <td>December</td>\n",
       "      <td>2021</td>\n",
       "    </tr>\n",
       "    <tr>\n",
       "      <th>4</th>\n",
       "      <td>January</td>\n",
       "      <td>2022</td>\n",
       "    </tr>\n",
       "    <tr>\n",
       "      <th>5</th>\n",
       "      <td>February</td>\n",
       "      <td>2022</td>\n",
       "    </tr>\n",
       "    <tr>\n",
       "      <th>6</th>\n",
       "      <td>March</td>\n",
       "      <td>2022</td>\n",
       "    </tr>\n",
       "    <tr>\n",
       "      <th>7</th>\n",
       "      <td>April</td>\n",
       "      <td>2022</td>\n",
       "    </tr>\n",
       "    <tr>\n",
       "      <th>8</th>\n",
       "      <td>May</td>\n",
       "      <td>2022</td>\n",
       "    </tr>\n",
       "    <tr>\n",
       "      <th>9</th>\n",
       "      <td>June</td>\n",
       "      <td>2022</td>\n",
       "    </tr>\n",
       "    <tr>\n",
       "      <th>10</th>\n",
       "      <td>July</td>\n",
       "      <td>2022</td>\n",
       "    </tr>\n",
       "    <tr>\n",
       "      <th>11</th>\n",
       "      <td>August</td>\n",
       "      <td>2022</td>\n",
       "    </tr>\n",
       "    <tr>\n",
       "      <th>12</th>\n",
       "      <td>September</td>\n",
       "      <td>2022</td>\n",
       "    </tr>\n",
       "  </tbody>\n",
       "</table>\n",
       "</div>"
      ],
      "text/plain": [
       "            0     1\n",
       "0   September  2021\n",
       "1     October  2021\n",
       "2    November  2021\n",
       "3    December  2021\n",
       "4     January  2022\n",
       "5    February  2022\n",
       "6       March  2022\n",
       "7       April  2022\n",
       "8         May  2022\n",
       "9        June  2022\n",
       "10       July  2022\n",
       "11     August  2022\n",
       "12  September  2022"
      ]
     },
     "execution_count": 79,
     "metadata": {},
     "output_type": "execute_result"
    }
   ],
   "source": [
    "df_months = pd.DataFrame(matches)\n",
    "df_months"
   ]
  }
 ],
 "metadata": {
  "kernelspec": {
   "display_name": "Python 3 (ipykernel)",
   "language": "python",
   "name": "python3"
  },
  "language_info": {
   "codemirror_mode": {
    "name": "ipython",
    "version": 3
   },
   "file_extension": ".py",
   "mimetype": "text/x-python",
   "name": "python",
   "nbconvert_exporter": "python",
   "pygments_lexer": "ipython3",
   "version": "3.9.13"
  }
 },
 "nbformat": 4,
 "nbformat_minor": 5
}
