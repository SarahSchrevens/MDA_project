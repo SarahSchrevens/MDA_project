{
 "cells": [
  {
   "cell_type": "code",
   "execution_count": 1,
   "id": "bb85e0bb",
   "metadata": {},
   "outputs": [],
   "source": [
    "##import libraries request and bs4\n",
    "import requests #library needed for requesting permission to website\n",
    "from bs4 import BeautifulSoup #needed for filtering through website html code\n",
    "import re\n",
    "import pandas as pd"
   ]
  },
  {
   "cell_type": "code",
   "execution_count": 2,
   "id": "9915c8de",
   "metadata": {},
   "outputs": [],
   "source": [
    "##adding url of site needed for data\n",
    "url = \"https://www.kuleuven.be/english/about-kuleuven/calendars/2021-2022/ku-leuven-leuven-main-campus\"\n",
    "response = requests.get(url)"
   ]
  },
  {
   "cell_type": "code",
   "execution_count": 3,
   "id": "0261e88f",
   "metadata": {},
   "outputs": [
    {
     "data": {
      "text/plain": [
       "'https://www.kuleuven.be/english/about-kuleuven/calendars/2021-2022/ku-leuven-leuven-main-campus'"
      ]
     },
     "execution_count": 3,
     "metadata": {},
     "output_type": "execute_result"
    }
   ],
   "source": [
    "##making sure everything works and the correct url is used\n",
    "response.url"
   ]
  },
  {
   "cell_type": "code",
   "execution_count": 4,
   "id": "af7e0325",
   "metadata": {},
   "outputs": [],
   "source": [
    "##storing in beautifulsoup element for further usage\n",
    "soup = BeautifulSoup(response.text, \"html.parser\")"
   ]
  },
  {
   "cell_type": "code",
   "execution_count": 5,
   "id": "abf9ff71",
   "metadata": {},
   "outputs": [],
   "source": [
    "dates = soup.select('p') "
   ]
  },
  {
   "cell_type": "code",
   "execution_count": 6,
   "id": "de560cfb",
   "metadata": {},
   "outputs": [
    {
     "name": "stdout",
     "output_type": "stream",
     "text": [
      "September 2021\n",
      "Mo.\n",
      "27\n",
      "Opening academic year 2021-2022 in Leuven\n",
      "October 2021\n",
      " \n",
      " \n",
      " \n",
      "November 2021\n",
      "Mo. \n",
      "1\n",
      "All Saints (Bank holiday) (1)\n",
      "Tu. \n",
      "2 \n",
      "All Souls' Day (Bank holiday) (1)\n",
      "Th.\n",
      "11\n",
      "Armistice Day (Bank holiday) (1)\n",
      "December 2021\n",
      "Sa.\n",
      "25\n",
      "Christmas holiday from Saturday 25 December until Sunday 9 January\n",
      "Sa.\n",
      "25\n",
      "Christmas (Bank holiday) (1)\n",
      "Su.\n",
      "26\n",
      "Boxing Day (Bank holiday) (1)\n",
      "January 2022\n",
      "Sa.\n",
      "1\n",
      "New Year's Day (Bank holiday) (1)\n",
      "Mo.\n",
      "10\n",
      "Study period until Thursday January 13\n",
      "Start of the first examination period*\n",
      "February 2022\n",
      "We.\n",
      "2\n",
      "KU Leuven Patron Saint's Day Celebration (Bank holiday) (1)\n",
      "Mo.\n",
      "14\n",
      "Start of second semester\n",
      "March 2022\n",
      "April 2022\n",
      "Sa.\n",
      "2\n",
      "Easter holiday from Saturday 2 April until Monday 18 April\n",
      "Sun.\n",
      "17\n",
      "Easter (1)\n",
      "Mo.\n",
      "18\n",
      "Easter Monday (Bank holiday) (1)\n",
      "May 2022\n",
      "Su.\n",
      "1\n",
      "Labour Day (Bank holiday) (1)\n",
      "Th.\n",
      "26\n",
      "Feast of the Ascension (Bank holiday) (1)\n",
      "Sa.\n",
      "28\n",
      "End of second semester classes\n",
      "\t\t\tStudy period until Sunday 12 June\n",
      "June 2022\n",
      "Mo.\n",
      "13\n",
      "Start of second examination period*\n",
      "July 2022\n",
      "Sa.\n",
      "9\n",
      "Mo.\n",
      "11\n",
      "Holiday of the Flemish Community (Bank holiday) (1)\n",
      "Th.\n",
      "21\n",
      "Belgian National Holiday (Bank holiday) (1)\n",
      "August 2022\n",
      "Mo.\n",
      "15\n",
      "Assumption of Mary (Bank holiday) (1)\n",
      "Tu.\n",
      "16\n",
      "Start of registration for the 2022-2023 academic year\n",
      "Mo.\n",
      "22\n",
      "Start of third examination period*\n",
      "September 2022\n",
      "Mo.  \n",
      "5\n",
      "Monday of Leuven Funfair (Bank holiday) (1)\n",
      "Mo.\n",
      "12\n",
      "Start of examination board meetings\n",
      "Sa.\n",
      "17\n",
      "End of examination board meetings\n",
      "* Some faculties start their exam period earlier. Please check the faculty’s website for more information.\n",
      "(1) = The university’s campus in Leuven is closed.\n",
      "\n",
      "      Last update:\n",
      "      08 Mar 2022\n",
      "    \n",
      "\n"
     ]
    }
   ],
   "source": [
    "date = []\n",
    "for y in dates:\n",
    "    print(y.text)\n",
    "    date.append(y.text)\n",
    "   "
   ]
  },
  {
   "cell_type": "code",
   "execution_count": 7,
   "id": "9c1922a5",
   "metadata": {},
   "outputs": [
    {
     "data": {
      "text/plain": [
       "['September 2021',\n",
       " 'Mo.',\n",
       " '27',\n",
       " 'Opening academic year\\xa02021-2022\\xa0in\\xa0Leuven',\n",
       " 'October 2021',\n",
       " '\\xa0',\n",
       " '\\xa0',\n",
       " '\\xa0',\n",
       " 'November 2021',\n",
       " 'Mo. ',\n",
       " '1',\n",
       " 'All Saints (Bank holiday)\\xa0(1)',\n",
       " 'Tu. ',\n",
       " '2 ',\n",
       " \"All Souls' Day (Bank holiday)\\xa0(1)\",\n",
       " 'Th.',\n",
       " '11',\n",
       " 'Armistice Day (Bank holiday) (1)',\n",
       " 'December 2021',\n",
       " 'Sa.',\n",
       " '25',\n",
       " 'Christmas holiday from Saturday 25 December until Sunday 9\\xa0January',\n",
       " 'Sa.',\n",
       " '25',\n",
       " 'Christmas (Bank holiday) (1)',\n",
       " 'Su.',\n",
       " '26',\n",
       " 'Boxing Day (Bank holiday)\\xa0(1)',\n",
       " 'January\\xa02022',\n",
       " 'Sa.',\n",
       " '1',\n",
       " \"New Year's Day (Bank holiday) (1)\",\n",
       " 'Mo.',\n",
       " '10',\n",
       " 'Study period until Thursday January 13',\n",
       " 'Start of the first examination period*',\n",
       " 'February\\xa02022',\n",
       " 'We.',\n",
       " '2',\n",
       " \"KU Leuven Patron Saint's Day Celebration (Bank holiday)\\xa0(1)\",\n",
       " 'Mo.',\n",
       " '14',\n",
       " 'Start of second semester',\n",
       " 'March 2022',\n",
       " 'April 2022',\n",
       " 'Sa.',\n",
       " '2',\n",
       " 'Easter holiday from Saturday 2\\xa0April until Monday 18 April',\n",
       " 'Sun.',\n",
       " '17',\n",
       " 'Easter (1)',\n",
       " 'Mo.',\n",
       " '18',\n",
       " 'Easter Monday (Bank holiday)\\xa0(1)',\n",
       " 'May\\xa02022',\n",
       " 'Su.',\n",
       " '1',\n",
       " 'Labour Day (Bank holiday) (1)',\n",
       " 'Th.',\n",
       " '26',\n",
       " 'Feast of the Ascension (Bank holiday)\\xa0(1)',\n",
       " 'Sa.',\n",
       " '28',\n",
       " 'End of second semester classes\\n\\t\\t\\tStudy period until Sunday 12\\xa0June',\n",
       " 'June\\xa02022',\n",
       " 'Mo.',\n",
       " '13',\n",
       " 'Start of second examination period*',\n",
       " 'July\\xa02022',\n",
       " 'Sa.',\n",
       " '9',\n",
       " 'Mo.',\n",
       " '11',\n",
       " 'Holiday of the Flemish Community (Bank holiday) (1)',\n",
       " 'Th.',\n",
       " '21',\n",
       " 'Belgian National Holiday (Bank holiday)\\xa0(1)',\n",
       " 'August\\xa02022',\n",
       " 'Mo.',\n",
       " '15',\n",
       " 'Assumption of Mary (Bank holiday)\\xa0(1)',\n",
       " 'Tu.',\n",
       " '16',\n",
       " 'Start of registration for the 2022-2023\\xa0academic year',\n",
       " 'Mo.',\n",
       " '22',\n",
       " 'Start of third examination period*',\n",
       " 'September 2022',\n",
       " 'Mo.\\xa0 ',\n",
       " '5',\n",
       " 'Monday of Leuven Funfair (Bank holiday)\\xa0(1)',\n",
       " 'Mo.',\n",
       " '12',\n",
       " 'Start of examination board meetings',\n",
       " 'Sa.',\n",
       " '17',\n",
       " 'End of examination board meetings',\n",
       " '* Some faculties start their exam period earlier. Please check the faculty’s website for more information.',\n",
       " '(1) = The university’s campus in Leuven is closed.',\n",
       " '\\n      Last update:\\n      08 Mar 2022\\n    ',\n",
       " '']"
      ]
     },
     "execution_count": 7,
     "metadata": {},
     "output_type": "execute_result"
    }
   ],
   "source": [
    "\n",
    "date"
   ]
  },
  {
   "cell_type": "code",
   "execution_count": 15,
   "id": "98ef4ea9",
   "metadata": {},
   "outputs": [
    {
     "data": {
      "text/plain": [
       "'[\\'September 2021\\', \\'Mo.\\', \\'27\\', \\'Opening academic year\\\\xa02021-2022\\\\xa0in\\\\xa0Leuven\\', \\'October 2021\\', \\'\\\\xa0\\', \\'\\\\xa0\\', \\'\\\\xa0\\', \\'November 2021\\', \\'Mo. \\', \\'1\\', \\'All Saints (Bank holiday)\\\\xa0(1)\\', \\'Tu. \\', \\'2 \\', \"All Souls\\' Day (Bank holiday)\\\\xa0(1)\", \\'Th.\\', \\'11\\', \\'Armistice Day (Bank holiday) (1)\\', \\'December 2021\\', \\'Sa.\\', \\'25\\', \\'Christmas holiday from Saturday 25 December until Sunday 9\\\\xa0January\\', \\'Sa.\\', \\'25\\', \\'Christmas (Bank holiday) (1)\\', \\'Su.\\', \\'26\\', \\'Boxing Day (Bank holiday)\\\\xa0(1)\\', \\'January\\\\xa02022\\', \\'Sa.\\', \\'1\\', \"New Year\\'s Day (Bank holiday) (1)\", \\'Mo.\\', \\'10\\', \\'Study period until Thursday January 13\\', \\'Start of the first examination period*\\', \\'February\\\\xa02022\\', \\'We.\\', \\'2\\', \"KU Leuven Patron Saint\\'s Day Celebration (Bank holiday)\\\\xa0(1)\", \\'Mo.\\', \\'14\\', \\'Start of second semester\\', \\'March 2022\\', \\'April 2022\\', \\'Sa.\\', \\'2\\', \\'Easter holiday from Saturday 2\\\\xa0April until Monday 18 April\\', \\'Sun.\\', \\'17\\', \\'Easter (1)\\', \\'Mo.\\', \\'18\\', \\'Easter Monday (Bank holiday)\\\\xa0(1)\\', \\'May\\\\xa02022\\', \\'Su.\\', \\'1\\', \\'Labour Day (Bank holiday) (1)\\', \\'Th.\\', \\'26\\', \\'Feast of the Ascension (Bank holiday)\\\\xa0(1)\\', \\'Sa.\\', \\'28\\', \\'End of second semester classes\\\\n\\\\t\\\\t\\\\tStudy period until Sunday 12\\\\xa0June\\', \\'June\\\\xa02022\\', \\'Mo.\\', \\'13\\', \\'Start of second examination period*\\', \\'July\\\\xa02022\\', \\'Sa.\\', \\'9\\', \\'Mo.\\', \\'11\\', \\'Holiday of the Flemish Community (Bank holiday) (1)\\', \\'Th.\\', \\'21\\', \\'Belgian National Holiday (Bank holiday)\\\\xa0(1)\\', \\'August\\\\xa02022\\', \\'Mo.\\', \\'15\\', \\'Assumption of Mary (Bank holiday)\\\\xa0(1)\\', \\'Tu.\\', \\'16\\', \\'Start of registration for the 2022-2023\\\\xa0academic year\\', \\'Mo.\\', \\'22\\', \\'Start of third examination period*\\', \\'September 2022\\', \\'Mo.\\\\xa0 \\', \\'5\\', \\'Monday of Leuven Funfair (Bank holiday)\\\\xa0(1)\\', \\'Mo.\\', \\'12\\', \\'Start of examination board meetings\\', \\'Sa.\\', \\'17\\', \\'End of examination board meetings\\', \\'* Some faculties start their exam period earlier. Please check the faculty’s website for more information.\\', \\'(1) = The university’s campus in Leuven is closed.\\', \\'\\\\n      Last update:\\\\n      08 Mar 2022\\\\n    \\', \\'\\']'"
      ]
     },
     "execution_count": 15,
     "metadata": {},
     "output_type": "execute_result"
    }
   ],
   "source": [
    "date = str(date)\n",
    "date"
   ]
  },
  {
   "cell_type": "code",
   "execution_count": 13,
   "id": "2b739b45",
   "metadata": {},
   "outputs": [],
   "source": [
    "pattern = r\"([A-Za-z]{2}\\.))\""
   ]
  },
  {
   "cell_type": "code",
   "execution_count": 14,
   "id": "34c640de",
   "metadata": {},
   "outputs": [
    {
     "ename": "error",
     "evalue": "unbalanced parenthesis at position 15",
     "output_type": "error",
     "traceback": [
      "\u001b[1;31m---------------------------------------------------------------------------\u001b[0m",
      "\u001b[1;31merror\u001b[0m                                     Traceback (most recent call last)",
      "\u001b[1;32m~\\AppData\\Local\\Temp\\ipykernel_55052\\321261549.py\u001b[0m in \u001b[0;36m<module>\u001b[1;34m\u001b[0m\n\u001b[1;32m----> 1\u001b[1;33m \u001b[0mmatches\u001b[0m \u001b[1;33m=\u001b[0m \u001b[0mre\u001b[0m\u001b[1;33m.\u001b[0m\u001b[0mfindall\u001b[0m\u001b[1;33m(\u001b[0m\u001b[0mpattern\u001b[0m\u001b[1;33m,\u001b[0m \u001b[0mdate\u001b[0m\u001b[1;33m)\u001b[0m\u001b[1;33m\u001b[0m\u001b[1;33m\u001b[0m\u001b[0m\n\u001b[0m",
      "\u001b[1;32m~\\anaconda3\\lib\\re.py\u001b[0m in \u001b[0;36mfindall\u001b[1;34m(pattern, string, flags)\u001b[0m\n\u001b[0;32m    239\u001b[0m \u001b[1;33m\u001b[0m\u001b[0m\n\u001b[0;32m    240\u001b[0m     Empty matches are included in the result.\"\"\"\n\u001b[1;32m--> 241\u001b[1;33m     \u001b[1;32mreturn\u001b[0m \u001b[0m_compile\u001b[0m\u001b[1;33m(\u001b[0m\u001b[0mpattern\u001b[0m\u001b[1;33m,\u001b[0m \u001b[0mflags\u001b[0m\u001b[1;33m)\u001b[0m\u001b[1;33m.\u001b[0m\u001b[0mfindall\u001b[0m\u001b[1;33m(\u001b[0m\u001b[0mstring\u001b[0m\u001b[1;33m)\u001b[0m\u001b[1;33m\u001b[0m\u001b[1;33m\u001b[0m\u001b[0m\n\u001b[0m\u001b[0;32m    242\u001b[0m \u001b[1;33m\u001b[0m\u001b[0m\n\u001b[0;32m    243\u001b[0m \u001b[1;32mdef\u001b[0m \u001b[0mfinditer\u001b[0m\u001b[1;33m(\u001b[0m\u001b[0mpattern\u001b[0m\u001b[1;33m,\u001b[0m \u001b[0mstring\u001b[0m\u001b[1;33m,\u001b[0m \u001b[0mflags\u001b[0m\u001b[1;33m=\u001b[0m\u001b[1;36m0\u001b[0m\u001b[1;33m)\u001b[0m\u001b[1;33m:\u001b[0m\u001b[1;33m\u001b[0m\u001b[1;33m\u001b[0m\u001b[0m\n",
      "\u001b[1;32m~\\anaconda3\\lib\\re.py\u001b[0m in \u001b[0;36m_compile\u001b[1;34m(pattern, flags)\u001b[0m\n\u001b[0;32m    302\u001b[0m     \u001b[1;32mif\u001b[0m \u001b[1;32mnot\u001b[0m \u001b[0msre_compile\u001b[0m\u001b[1;33m.\u001b[0m\u001b[0misstring\u001b[0m\u001b[1;33m(\u001b[0m\u001b[0mpattern\u001b[0m\u001b[1;33m)\u001b[0m\u001b[1;33m:\u001b[0m\u001b[1;33m\u001b[0m\u001b[1;33m\u001b[0m\u001b[0m\n\u001b[0;32m    303\u001b[0m         \u001b[1;32mraise\u001b[0m \u001b[0mTypeError\u001b[0m\u001b[1;33m(\u001b[0m\u001b[1;34m\"first argument must be string or compiled pattern\"\u001b[0m\u001b[1;33m)\u001b[0m\u001b[1;33m\u001b[0m\u001b[1;33m\u001b[0m\u001b[0m\n\u001b[1;32m--> 304\u001b[1;33m     \u001b[0mp\u001b[0m \u001b[1;33m=\u001b[0m \u001b[0msre_compile\u001b[0m\u001b[1;33m.\u001b[0m\u001b[0mcompile\u001b[0m\u001b[1;33m(\u001b[0m\u001b[0mpattern\u001b[0m\u001b[1;33m,\u001b[0m \u001b[0mflags\u001b[0m\u001b[1;33m)\u001b[0m\u001b[1;33m\u001b[0m\u001b[1;33m\u001b[0m\u001b[0m\n\u001b[0m\u001b[0;32m    305\u001b[0m     \u001b[1;32mif\u001b[0m \u001b[1;32mnot\u001b[0m \u001b[1;33m(\u001b[0m\u001b[0mflags\u001b[0m \u001b[1;33m&\u001b[0m \u001b[0mDEBUG\u001b[0m\u001b[1;33m)\u001b[0m\u001b[1;33m:\u001b[0m\u001b[1;33m\u001b[0m\u001b[1;33m\u001b[0m\u001b[0m\n\u001b[0;32m    306\u001b[0m         \u001b[1;32mif\u001b[0m \u001b[0mlen\u001b[0m\u001b[1;33m(\u001b[0m\u001b[0m_cache\u001b[0m\u001b[1;33m)\u001b[0m \u001b[1;33m>=\u001b[0m \u001b[0m_MAXCACHE\u001b[0m\u001b[1;33m:\u001b[0m\u001b[1;33m\u001b[0m\u001b[1;33m\u001b[0m\u001b[0m\n",
      "\u001b[1;32m~\\anaconda3\\lib\\sre_compile.py\u001b[0m in \u001b[0;36mcompile\u001b[1;34m(p, flags)\u001b[0m\n\u001b[0;32m    786\u001b[0m     \u001b[1;32mif\u001b[0m \u001b[0misstring\u001b[0m\u001b[1;33m(\u001b[0m\u001b[0mp\u001b[0m\u001b[1;33m)\u001b[0m\u001b[1;33m:\u001b[0m\u001b[1;33m\u001b[0m\u001b[1;33m\u001b[0m\u001b[0m\n\u001b[0;32m    787\u001b[0m         \u001b[0mpattern\u001b[0m \u001b[1;33m=\u001b[0m \u001b[0mp\u001b[0m\u001b[1;33m\u001b[0m\u001b[1;33m\u001b[0m\u001b[0m\n\u001b[1;32m--> 788\u001b[1;33m         \u001b[0mp\u001b[0m \u001b[1;33m=\u001b[0m \u001b[0msre_parse\u001b[0m\u001b[1;33m.\u001b[0m\u001b[0mparse\u001b[0m\u001b[1;33m(\u001b[0m\u001b[0mp\u001b[0m\u001b[1;33m,\u001b[0m \u001b[0mflags\u001b[0m\u001b[1;33m)\u001b[0m\u001b[1;33m\u001b[0m\u001b[1;33m\u001b[0m\u001b[0m\n\u001b[0m\u001b[0;32m    789\u001b[0m     \u001b[1;32melse\u001b[0m\u001b[1;33m:\u001b[0m\u001b[1;33m\u001b[0m\u001b[1;33m\u001b[0m\u001b[0m\n\u001b[0;32m    790\u001b[0m         \u001b[0mpattern\u001b[0m \u001b[1;33m=\u001b[0m \u001b[1;32mNone\u001b[0m\u001b[1;33m\u001b[0m\u001b[1;33m\u001b[0m\u001b[0m\n",
      "\u001b[1;32m~\\anaconda3\\lib\\sre_parse.py\u001b[0m in \u001b[0;36mparse\u001b[1;34m(str, flags, state)\u001b[0m\n\u001b[0;32m    967\u001b[0m     \u001b[1;32mif\u001b[0m \u001b[0msource\u001b[0m\u001b[1;33m.\u001b[0m\u001b[0mnext\u001b[0m \u001b[1;32mis\u001b[0m \u001b[1;32mnot\u001b[0m \u001b[1;32mNone\u001b[0m\u001b[1;33m:\u001b[0m\u001b[1;33m\u001b[0m\u001b[1;33m\u001b[0m\u001b[0m\n\u001b[0;32m    968\u001b[0m         \u001b[1;32massert\u001b[0m \u001b[0msource\u001b[0m\u001b[1;33m.\u001b[0m\u001b[0mnext\u001b[0m \u001b[1;33m==\u001b[0m \u001b[1;34m\")\"\u001b[0m\u001b[1;33m\u001b[0m\u001b[1;33m\u001b[0m\u001b[0m\n\u001b[1;32m--> 969\u001b[1;33m         \u001b[1;32mraise\u001b[0m \u001b[0msource\u001b[0m\u001b[1;33m.\u001b[0m\u001b[0merror\u001b[0m\u001b[1;33m(\u001b[0m\u001b[1;34m\"unbalanced parenthesis\"\u001b[0m\u001b[1;33m)\u001b[0m\u001b[1;33m\u001b[0m\u001b[1;33m\u001b[0m\u001b[0m\n\u001b[0m\u001b[0;32m    970\u001b[0m \u001b[1;33m\u001b[0m\u001b[0m\n\u001b[0;32m    971\u001b[0m     \u001b[1;32mfor\u001b[0m \u001b[0mg\u001b[0m \u001b[1;32min\u001b[0m \u001b[0mp\u001b[0m\u001b[1;33m.\u001b[0m\u001b[0mstate\u001b[0m\u001b[1;33m.\u001b[0m\u001b[0mgrouprefpos\u001b[0m\u001b[1;33m:\u001b[0m\u001b[1;33m\u001b[0m\u001b[1;33m\u001b[0m\u001b[0m\n",
      "\u001b[1;31merror\u001b[0m: unbalanced parenthesis at position 15"
     ]
    }
   ],
   "source": [
    "matches = re.findall(pattern, date)"
   ]
  },
  {
   "cell_type": "code",
   "execution_count": 20,
   "id": "1cb0951b",
   "metadata": {},
   "outputs": [
    {
     "data": {
      "text/plain": [
       "[]"
      ]
     },
     "execution_count": 20,
     "metadata": {},
     "output_type": "execute_result"
    }
   ],
   "source": [
    "matches"
   ]
  }
 ],
 "metadata": {
  "kernelspec": {
   "display_name": "Python 3 (ipykernel)",
   "language": "python",
   "name": "python3"
  },
  "language_info": {
   "codemirror_mode": {
    "name": "ipython",
    "version": 3
   },
   "file_extension": ".py",
   "mimetype": "text/x-python",
   "name": "python",
   "nbconvert_exporter": "python",
   "pygments_lexer": "ipython3",
   "version": "3.9.13"
  }
 },
 "nbformat": 4,
 "nbformat_minor": 5
}
