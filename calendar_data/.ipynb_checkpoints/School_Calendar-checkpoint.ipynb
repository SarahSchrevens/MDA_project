{
 "cells": [
  {
   "cell_type": "code",
   "execution_count": 83,
   "id": "70c877b4",
   "metadata": {},
   "outputs": [],
   "source": [
    "##import libraries request and bs4\n",
    "import requests #library needed for requesting permission to website\n",
    "from bs4 import BeautifulSoup #needed for filtering through website html code\n",
    "import datetime as datetime\n",
    "\n",
    "import re\n",
    "import pandas as pd"
   ]
  },
  {
   "cell_type": "code",
   "execution_count": 84,
   "id": "12712365",
   "metadata": {},
   "outputs": [],
   "source": [
    "##adding url of site needed for data\n",
    "url = \"https://schoolvakanties-be.be/schoolvakanties-2022/\"\n",
    "response = requests.get(url)"
   ]
  },
  {
   "cell_type": "code",
   "execution_count": 85,
   "id": "fffd7b96",
   "metadata": {},
   "outputs": [
    {
     "data": {
      "text/plain": [
       "'https://schoolvakanties-be.be/schoolvakanties-2022/'"
      ]
     },
     "execution_count": 85,
     "metadata": {},
     "output_type": "execute_result"
    }
   ],
   "source": [
    "##making sure everything works and the correct url is used\n",
    "response.url"
   ]
  },
  {
   "cell_type": "code",
   "execution_count": 86,
   "id": "67f32b01",
   "metadata": {},
   "outputs": [],
   "source": [
    "##storing in beautifulsoup element for further usage\n",
    "soup = BeautifulSoup(response.text, \"html.parser\")"
   ]
  },
  {
   "cell_type": "code",
   "execution_count": 87,
   "id": "97fa1aed",
   "metadata": {},
   "outputs": [],
   "source": [
    "holidays = soup.select('span[class=\"event-place\"]') "
   ]
  },
  {
   "cell_type": "code",
   "execution_count": 88,
   "id": "f0836d64",
   "metadata": {},
   "outputs": [
    {
     "name": "stdout",
     "output_type": "stream",
     "text": [
      "Krokusvakantie 2022 – Wallonië – \n",
      "Krokusvakantie 2022 – Vlaanderen – \n",
      "Paasvakantie 2022 – Wallonië – \n",
      "Paasvakantie 2022 – Vlaanderen – \n",
      "Hemelvaartvakantie 2022 – Wallonië – \n",
      "Hemelvaartvakantie 2022 – Vlaanderen – \n",
      "Zomervakantie 2022 – Wallonië – \n",
      "Zomervakantie 2022 – Vlaanderen – \n",
      "Herfstvakantie 2022 – Wallonië – \n",
      "Herfstvakantie 2022 – Vlaanderen – \n",
      "Kerstvakantie 2022 – Wallonië – \n",
      "Kerstvakantie 2022 – Vlaanderen – \n"
     ]
    }
   ],
   "source": [
    "holiday = []\n",
    "for y in holidays:\n",
    "    print(y.text)\n",
    "    holiday.append(y.text)\n",
    "   "
   ]
  },
  {
   "cell_type": "code",
   "execution_count": 89,
   "id": "e78e5826",
   "metadata": {},
   "outputs": [],
   "source": [
    "df_holiday = pd.DataFrame(holiday)"
   ]
  },
  {
   "cell_type": "code",
   "execution_count": 90,
   "id": "1f849471",
   "metadata": {},
   "outputs": [
    {
     "data": {
      "text/html": [
       "<div>\n",
       "<style scoped>\n",
       "    .dataframe tbody tr th:only-of-type {\n",
       "        vertical-align: middle;\n",
       "    }\n",
       "\n",
       "    .dataframe tbody tr th {\n",
       "        vertical-align: top;\n",
       "    }\n",
       "\n",
       "    .dataframe thead th {\n",
       "        text-align: right;\n",
       "    }\n",
       "</style>\n",
       "<table border=\"1\" class=\"dataframe\">\n",
       "  <thead>\n",
       "    <tr style=\"text-align: right;\">\n",
       "      <th></th>\n",
       "      <th>0</th>\n",
       "    </tr>\n",
       "  </thead>\n",
       "  <tbody>\n",
       "    <tr>\n",
       "      <th>0</th>\n",
       "      <td>Krokusvakantie 2022 – Wallonië –</td>\n",
       "    </tr>\n",
       "    <tr>\n",
       "      <th>1</th>\n",
       "      <td>Krokusvakantie 2022 – Vlaanderen –</td>\n",
       "    </tr>\n",
       "    <tr>\n",
       "      <th>2</th>\n",
       "      <td>Paasvakantie 2022 – Wallonië –</td>\n",
       "    </tr>\n",
       "    <tr>\n",
       "      <th>3</th>\n",
       "      <td>Paasvakantie 2022 – Vlaanderen –</td>\n",
       "    </tr>\n",
       "    <tr>\n",
       "      <th>4</th>\n",
       "      <td>Hemelvaartvakantie 2022 – Wallonië –</td>\n",
       "    </tr>\n",
       "    <tr>\n",
       "      <th>5</th>\n",
       "      <td>Hemelvaartvakantie 2022 – Vlaanderen –</td>\n",
       "    </tr>\n",
       "    <tr>\n",
       "      <th>6</th>\n",
       "      <td>Zomervakantie 2022 – Wallonië –</td>\n",
       "    </tr>\n",
       "    <tr>\n",
       "      <th>7</th>\n",
       "      <td>Zomervakantie 2022 – Vlaanderen –</td>\n",
       "    </tr>\n",
       "    <tr>\n",
       "      <th>8</th>\n",
       "      <td>Herfstvakantie 2022 – Wallonië –</td>\n",
       "    </tr>\n",
       "    <tr>\n",
       "      <th>9</th>\n",
       "      <td>Herfstvakantie 2022 – Vlaanderen –</td>\n",
       "    </tr>\n",
       "    <tr>\n",
       "      <th>10</th>\n",
       "      <td>Kerstvakantie 2022 – Wallonië –</td>\n",
       "    </tr>\n",
       "    <tr>\n",
       "      <th>11</th>\n",
       "      <td>Kerstvakantie 2022 – Vlaanderen –</td>\n",
       "    </tr>\n",
       "  </tbody>\n",
       "</table>\n",
       "</div>"
      ],
      "text/plain": [
       "                                          0\n",
       "0         Krokusvakantie 2022 – Wallonië – \n",
       "1       Krokusvakantie 2022 – Vlaanderen – \n",
       "2           Paasvakantie 2022 – Wallonië – \n",
       "3         Paasvakantie 2022 – Vlaanderen – \n",
       "4     Hemelvaartvakantie 2022 – Wallonië – \n",
       "5   Hemelvaartvakantie 2022 – Vlaanderen – \n",
       "6          Zomervakantie 2022 – Wallonië – \n",
       "7        Zomervakantie 2022 – Vlaanderen – \n",
       "8         Herfstvakantie 2022 – Wallonië – \n",
       "9       Herfstvakantie 2022 – Vlaanderen – \n",
       "10         Kerstvakantie 2022 – Wallonië – \n",
       "11       Kerstvakantie 2022 – Vlaanderen – "
      ]
     },
     "execution_count": 90,
     "metadata": {},
     "output_type": "execute_result"
    }
   ],
   "source": [
    "df_holiday"
   ]
  },
  {
   "cell_type": "code",
   "execution_count": 91,
   "id": "5b6670d4",
   "metadata": {},
   "outputs": [],
   "source": [
    "starts = soup.select('span[itemprop=\"startDate\"]') "
   ]
  },
  {
   "cell_type": "code",
   "execution_count": 92,
   "id": "27833609",
   "metadata": {},
   "outputs": [
    {
     "name": "stdout",
     "output_type": "stream",
     "text": [
      "maandag 28 februari 2022\n",
      "maandag 28 februari 2022\n",
      "maandag 4 april 2022\n",
      "maandag 4 april 2022\n",
      "donderdag 26 mei 2022\n",
      "donderdag 26 mei 2022\n",
      "vrijdag 1 juli 2022\n",
      "vrijdag 1 juli 2022\n",
      "maandag 24 oktober 2022\n",
      "maandag 31 oktober 2022\n",
      "maandag 26 december 2022\n",
      "maandag 26 december 2022\n"
     ]
    }
   ],
   "source": [
    "start = []\n",
    "for z in starts:\n",
    "    print(z.text)\n",
    "    start.append(z.text)"
   ]
  },
  {
   "cell_type": "code",
   "execution_count": 93,
   "id": "f143bcf9",
   "metadata": {},
   "outputs": [],
   "source": [
    "start = str(start)"
   ]
  },
  {
   "cell_type": "code",
   "execution_count": 94,
   "id": "337bbb83",
   "metadata": {},
   "outputs": [],
   "source": [
    "days = ['maandag', 'dinsdag', 'woensdag', 'donderdag', 'vrijdag', 'zaterdag', 'zondag']"
   ]
  },
  {
   "cell_type": "code",
   "execution_count": 95,
   "id": "f40f5e0a",
   "metadata": {},
   "outputs": [],
   "source": [
    "pattern = re.compile(r'\\b(?:{})\\b'.format('|'.join(days)), flags=re.IGNORECASE)"
   ]
  },
  {
   "cell_type": "code",
   "execution_count": 96,
   "id": "9ca239ca",
   "metadata": {},
   "outputs": [],
   "source": [
    "en_start = pattern.sub('', start)"
   ]
  },
  {
   "cell_type": "code",
   "execution_count": 97,
   "id": "07930e6b",
   "metadata": {},
   "outputs": [
    {
     "data": {
      "text/plain": [
       "\"[' 28 februari 2022', ' 28 februari 2022', ' 4 april 2022', ' 4 april 2022', ' 26 mei 2022', ' 26 mei 2022', ' 1 juli 2022', ' 1 juli 2022', ' 24 oktober 2022', ' 31 oktober 2022', ' 26 december 2022', ' 26 december 2022']\""
      ]
     },
     "execution_count": 97,
     "metadata": {},
     "output_type": "execute_result"
    }
   ],
   "source": [
    "en_start"
   ]
  },
  {
   "cell_type": "code",
   "execution_count": 98,
   "id": "0cc4e7ae",
   "metadata": {},
   "outputs": [
    {
     "data": {
      "text/plain": [
       "\"['28february2022','28february2022','4april2022','4april2022','26may2022','26may2022','1july2022','1july2022','24october2022','31october2022','26december2022','26december2022']\""
      ]
     },
     "execution_count": 98,
     "metadata": {},
     "output_type": "execute_result"
    }
   ],
   "source": [
    "en_start = en_start.replace(\"januari\", \"january\")\n",
    "en_start = en_start.replace('februari', 'february')\n",
    "en_start = en_start.replace('maart', 'march')\n",
    "en_start = en_start.replace('mei', 'may')\n",
    "en_start = en_start.replace('juni', 'june')\n",
    "en_start = en_start.replace('juli', 'july')\n",
    "en_start = en_start.replace('augustus', 'august')\n",
    "en_start = en_start.replace('oktober', 'october')\n",
    "en_start = en_start.replace(' ', '')\n",
    "en_start"
   ]
  },
  {
   "cell_type": "code",
   "execution_count": 99,
   "id": "6c199e7b",
   "metadata": {},
   "outputs": [],
   "source": [
    "en_start = eval(en_start)\n",
    "df_start = pd.DataFrame(en_start)"
   ]
  },
  {
   "cell_type": "code",
   "execution_count": 100,
   "id": "ef8c265b",
   "metadata": {},
   "outputs": [],
   "source": [
    "df_start.columns = [\"StartDate\"]"
   ]
  },
  {
   "cell_type": "code",
   "execution_count": 101,
   "id": "7d914ee1",
   "metadata": {},
   "outputs": [
    {
     "data": {
      "text/html": [
       "<div>\n",
       "<style scoped>\n",
       "    .dataframe tbody tr th:only-of-type {\n",
       "        vertical-align: middle;\n",
       "    }\n",
       "\n",
       "    .dataframe tbody tr th {\n",
       "        vertical-align: top;\n",
       "    }\n",
       "\n",
       "    .dataframe thead th {\n",
       "        text-align: right;\n",
       "    }\n",
       "</style>\n",
       "<table border=\"1\" class=\"dataframe\">\n",
       "  <thead>\n",
       "    <tr style=\"text-align: right;\">\n",
       "      <th></th>\n",
       "      <th>StartDate</th>\n",
       "    </tr>\n",
       "  </thead>\n",
       "  <tbody>\n",
       "    <tr>\n",
       "      <th>0</th>\n",
       "      <td>28february2022</td>\n",
       "    </tr>\n",
       "    <tr>\n",
       "      <th>1</th>\n",
       "      <td>28february2022</td>\n",
       "    </tr>\n",
       "    <tr>\n",
       "      <th>2</th>\n",
       "      <td>4april2022</td>\n",
       "    </tr>\n",
       "    <tr>\n",
       "      <th>3</th>\n",
       "      <td>4april2022</td>\n",
       "    </tr>\n",
       "    <tr>\n",
       "      <th>4</th>\n",
       "      <td>26may2022</td>\n",
       "    </tr>\n",
       "    <tr>\n",
       "      <th>5</th>\n",
       "      <td>26may2022</td>\n",
       "    </tr>\n",
       "    <tr>\n",
       "      <th>6</th>\n",
       "      <td>1july2022</td>\n",
       "    </tr>\n",
       "    <tr>\n",
       "      <th>7</th>\n",
       "      <td>1july2022</td>\n",
       "    </tr>\n",
       "    <tr>\n",
       "      <th>8</th>\n",
       "      <td>24october2022</td>\n",
       "    </tr>\n",
       "    <tr>\n",
       "      <th>9</th>\n",
       "      <td>31october2022</td>\n",
       "    </tr>\n",
       "    <tr>\n",
       "      <th>10</th>\n",
       "      <td>26december2022</td>\n",
       "    </tr>\n",
       "    <tr>\n",
       "      <th>11</th>\n",
       "      <td>26december2022</td>\n",
       "    </tr>\n",
       "  </tbody>\n",
       "</table>\n",
       "</div>"
      ],
      "text/plain": [
       "         StartDate\n",
       "0   28february2022\n",
       "1   28february2022\n",
       "2       4april2022\n",
       "3       4april2022\n",
       "4        26may2022\n",
       "5        26may2022\n",
       "6        1july2022\n",
       "7        1july2022\n",
       "8    24october2022\n",
       "9    31october2022\n",
       "10  26december2022\n",
       "11  26december2022"
      ]
     },
     "execution_count": 101,
     "metadata": {},
     "output_type": "execute_result"
    }
   ],
   "source": [
    "df_start"
   ]
  },
  {
   "cell_type": "code",
   "execution_count": 110,
   "id": "deaed85f",
   "metadata": {},
   "outputs": [],
   "source": [
    "ends = soup.select('span[itemprop=\"endDate\"]') "
   ]
  },
  {
   "cell_type": "code",
   "execution_count": 111,
   "id": "1a3e0a4c",
   "metadata": {},
   "outputs": [
    {
     "name": "stdout",
     "output_type": "stream",
     "text": [
      "zondag 6 maart 2022\n",
      "zondag 6 maart 2022\n",
      "maandag 18 april 2022\n",
      "maandag 18 april 2022\n",
      "vrijdag 27 mei 2022\n",
      "vrijdag 27 mei 2022\n",
      "zondag 28 augustus 2022\n",
      "woensdag 31 augustus 2022\n",
      "zondag 6 november 2022\n",
      "zondag 6 november 2022\n",
      "zondag 8 januari 2023\n",
      "zondag 8 januari 2023\n"
     ]
    }
   ],
   "source": [
    "end = []\n",
    "for i in ends:\n",
    "    print(i.text)\n",
    "    end.append(i.text)"
   ]
  },
  {
   "cell_type": "code",
   "execution_count": 117,
   "id": "b6473654",
   "metadata": {},
   "outputs": [],
   "source": [
    "end = str(end)"
   ]
  },
  {
   "cell_type": "code",
   "execution_count": 118,
   "id": "86727cb4",
   "metadata": {},
   "outputs": [],
   "source": [
    "en_end = pattern.sub('', end)"
   ]
  },
  {
   "cell_type": "code",
   "execution_count": 121,
   "id": "93d2fd9c",
   "metadata": {},
   "outputs": [
    {
     "data": {
      "text/plain": [
       "\"[' 6 march 2022', ' 6 march 2022', ' 18 april 2022', ' 18 april 2022', ' 27 may 2022', ' 27 may 2022', ' 28 august 2022', ' 31 august 2022', ' 6 november 2022', ' 6 november 2022', ' 8 january 2023', ' 8 january 2023']\""
      ]
     },
     "execution_count": 121,
     "metadata": {},
     "output_type": "execute_result"
    }
   ],
   "source": [
    "en_end "
   ]
  },
  {
   "cell_type": "code",
   "execution_count": 123,
   "id": "c3b0817d",
   "metadata": {},
   "outputs": [
    {
     "data": {
      "text/plain": [
       "\"['6march2022','6march2022','18april2022','18april2022','27may2022','27may2022','28august2022','31august2022','6november2022','6november2022','8january2023','8january2023']\""
      ]
     },
     "execution_count": 123,
     "metadata": {},
     "output_type": "execute_result"
    }
   ],
   "source": [
    "en_end = en_end.replace(\"januari\", \"january\")\n",
    "en_end = en_end.replace('februari', 'february')\n",
    "en_end = en_end.replace('maart', 'march')\n",
    "en_end = en_end.replace('mei', 'may')\n",
    "en_end = en_end.replace('juni', 'june')\n",
    "en_end = en_end.replace('juli', 'july')\n",
    "en_end = en_end.replace('augustus', 'august')\n",
    "en_end = en_end.replace('oktober', 'october')\n",
    "en_end = en_end.replace(' ', '')\n",
    "en_end"
   ]
  },
  {
   "cell_type": "code",
   "execution_count": 124,
   "id": "e6f48892",
   "metadata": {},
   "outputs": [],
   "source": [
    "en_end = eval(en_end)\n",
    "df_end = pd.DataFrame(en_end)"
   ]
  },
  {
   "cell_type": "code",
   "execution_count": 125,
   "id": "86e245ec",
   "metadata": {},
   "outputs": [],
   "source": [
    "frames = [df_holiday, df_start, df_end]\n",
    "df = pd.concat(frames, axis = 1, join = 'inner')\n",
    "df.columns =['Holiday', 'StartDate', 'EndDate']"
   ]
  },
  {
   "cell_type": "code",
   "execution_count": 126,
   "id": "7ed717e3",
   "metadata": {},
   "outputs": [
    {
     "data": {
      "text/html": [
       "<div>\n",
       "<style scoped>\n",
       "    .dataframe tbody tr th:only-of-type {\n",
       "        vertical-align: middle;\n",
       "    }\n",
       "\n",
       "    .dataframe tbody tr th {\n",
       "        vertical-align: top;\n",
       "    }\n",
       "\n",
       "    .dataframe thead th {\n",
       "        text-align: right;\n",
       "    }\n",
       "</style>\n",
       "<table border=\"1\" class=\"dataframe\">\n",
       "  <thead>\n",
       "    <tr style=\"text-align: right;\">\n",
       "      <th></th>\n",
       "      <th>Holiday</th>\n",
       "      <th>StartDate</th>\n",
       "      <th>EndDate</th>\n",
       "    </tr>\n",
       "  </thead>\n",
       "  <tbody>\n",
       "    <tr>\n",
       "      <th>0</th>\n",
       "      <td>Krokusvakantie 2022 – Wallonië –</td>\n",
       "      <td>2022-02-28</td>\n",
       "      <td>2022-03-06</td>\n",
       "    </tr>\n",
       "    <tr>\n",
       "      <th>1</th>\n",
       "      <td>Krokusvakantie 2022 – Vlaanderen –</td>\n",
       "      <td>2022-02-28</td>\n",
       "      <td>2022-03-06</td>\n",
       "    </tr>\n",
       "    <tr>\n",
       "      <th>2</th>\n",
       "      <td>Paasvakantie 2022 – Wallonië –</td>\n",
       "      <td>2022-04-04</td>\n",
       "      <td>2022-04-18</td>\n",
       "    </tr>\n",
       "    <tr>\n",
       "      <th>3</th>\n",
       "      <td>Paasvakantie 2022 – Vlaanderen –</td>\n",
       "      <td>2022-04-04</td>\n",
       "      <td>2022-04-18</td>\n",
       "    </tr>\n",
       "    <tr>\n",
       "      <th>4</th>\n",
       "      <td>Hemelvaartvakantie 2022 – Wallonië –</td>\n",
       "      <td>2022-05-26</td>\n",
       "      <td>2022-05-27</td>\n",
       "    </tr>\n",
       "    <tr>\n",
       "      <th>5</th>\n",
       "      <td>Hemelvaartvakantie 2022 – Vlaanderen –</td>\n",
       "      <td>2022-05-26</td>\n",
       "      <td>2022-05-27</td>\n",
       "    </tr>\n",
       "    <tr>\n",
       "      <th>6</th>\n",
       "      <td>Zomervakantie 2022 – Wallonië –</td>\n",
       "      <td>2022-07-01</td>\n",
       "      <td>2022-08-28</td>\n",
       "    </tr>\n",
       "    <tr>\n",
       "      <th>7</th>\n",
       "      <td>Zomervakantie 2022 – Vlaanderen –</td>\n",
       "      <td>2022-07-01</td>\n",
       "      <td>2022-08-31</td>\n",
       "    </tr>\n",
       "    <tr>\n",
       "      <th>8</th>\n",
       "      <td>Herfstvakantie 2022 – Wallonië –</td>\n",
       "      <td>2022-10-24</td>\n",
       "      <td>2022-11-06</td>\n",
       "    </tr>\n",
       "    <tr>\n",
       "      <th>9</th>\n",
       "      <td>Herfstvakantie 2022 – Vlaanderen –</td>\n",
       "      <td>2022-10-31</td>\n",
       "      <td>2022-11-06</td>\n",
       "    </tr>\n",
       "    <tr>\n",
       "      <th>10</th>\n",
       "      <td>Kerstvakantie 2022 – Wallonië –</td>\n",
       "      <td>2022-12-26</td>\n",
       "      <td>2023-01-08</td>\n",
       "    </tr>\n",
       "    <tr>\n",
       "      <th>11</th>\n",
       "      <td>Kerstvakantie 2022 – Vlaanderen –</td>\n",
       "      <td>2022-12-26</td>\n",
       "      <td>2023-01-08</td>\n",
       "    </tr>\n",
       "  </tbody>\n",
       "</table>\n",
       "</div>"
      ],
      "text/plain": [
       "                                    Holiday  StartDate    EndDate\n",
       "0         Krokusvakantie 2022 – Wallonië –  2022-02-28 2022-03-06\n",
       "1       Krokusvakantie 2022 – Vlaanderen –  2022-02-28 2022-03-06\n",
       "2           Paasvakantie 2022 – Wallonië –  2022-04-04 2022-04-18\n",
       "3         Paasvakantie 2022 – Vlaanderen –  2022-04-04 2022-04-18\n",
       "4     Hemelvaartvakantie 2022 – Wallonië –  2022-05-26 2022-05-27\n",
       "5   Hemelvaartvakantie 2022 – Vlaanderen –  2022-05-26 2022-05-27\n",
       "6          Zomervakantie 2022 – Wallonië –  2022-07-01 2022-08-28\n",
       "7        Zomervakantie 2022 – Vlaanderen –  2022-07-01 2022-08-31\n",
       "8         Herfstvakantie 2022 – Wallonië –  2022-10-24 2022-11-06\n",
       "9       Herfstvakantie 2022 – Vlaanderen –  2022-10-31 2022-11-06\n",
       "10         Kerstvakantie 2022 – Wallonië –  2022-12-26 2023-01-08\n",
       "11       Kerstvakantie 2022 – Vlaanderen –  2022-12-26 2023-01-08"
      ]
     },
     "execution_count": 126,
     "metadata": {},
     "output_type": "execute_result"
    }
   ],
   "source": [
    "df\n",
    "df[\"StartDate\"] = pd.to_datetime(df[\"StartDate\"], format=\"%d%B%Y\")\n",
    "df[\"EndDate\"] = pd.to_datetime(df[\"EndDate\"], format=\"%d%B%Y\")\n",
    "df"
   ]
  }
 ],
 "metadata": {
  "kernelspec": {
   "display_name": "Python 3 (ipykernel)",
   "language": "python",
   "name": "python3"
  },
  "language_info": {
   "codemirror_mode": {
    "name": "ipython",
    "version": 3
   },
   "file_extension": ".py",
   "mimetype": "text/x-python",
   "name": "python",
   "nbconvert_exporter": "python",
   "pygments_lexer": "ipython3",
   "version": "3.9.13"
  }
 },
 "nbformat": 4,
 "nbformat_minor": 5
}
