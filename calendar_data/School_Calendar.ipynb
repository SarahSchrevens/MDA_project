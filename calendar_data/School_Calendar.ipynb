{
 "cells": [
  {
   "cell_type": "code",
   "execution_count": 1,
   "id": "70c877b4",
   "metadata": {},
   "outputs": [],
   "source": [
    "##import libraries request and bs4\n",
    "import requests #library needed for requesting permission to website\n",
    "from bs4 import BeautifulSoup #needed for filtering through website html code\n",
    "\n",
    "import pandas as pd"
   ]
  },
  {
   "cell_type": "code",
   "execution_count": 2,
   "id": "12712365",
   "metadata": {},
   "outputs": [],
   "source": [
    "##adding url of site needed for data\n",
    "url = \"https://schoolvakanties-be.be/schoolvakanties-2022/\"\n",
    "response = requests.get(url)"
   ]
  },
  {
   "cell_type": "code",
   "execution_count": 3,
   "id": "fffd7b96",
   "metadata": {},
   "outputs": [
    {
     "data": {
      "text/plain": [
       "'https://schoolvakanties-be.be/schoolvakanties-2022/'"
      ]
     },
     "execution_count": 3,
     "metadata": {},
     "output_type": "execute_result"
    }
   ],
   "source": [
    "##making sure everything works and the correct url is used\n",
    "response.url"
   ]
  },
  {
   "cell_type": "code",
   "execution_count": 4,
   "id": "67f32b01",
   "metadata": {},
   "outputs": [],
   "source": [
    "##storing in beautifulsoup element for further usage\n",
    "soup = BeautifulSoup(response.text, \"html.parser\")"
   ]
  },
  {
   "cell_type": "code",
   "execution_count": 5,
   "id": "97fa1aed",
   "metadata": {},
   "outputs": [],
   "source": [
    "holidays = soup.select('span[class=\"event-place\"]') "
   ]
  },
  {
   "cell_type": "code",
   "execution_count": 6,
   "id": "f0836d64",
   "metadata": {},
   "outputs": [
    {
     "name": "stdout",
     "output_type": "stream",
     "text": [
      "Krokusvakantie 2022 – Wallonië – \n",
      "Krokusvakantie 2022 – Vlaanderen – \n",
      "Paasvakantie 2022 – Wallonië – \n",
      "Paasvakantie 2022 – Vlaanderen – \n",
      "Hemelvaartvakantie 2022 – Wallonië – \n",
      "Hemelvaartvakantie 2022 – Vlaanderen – \n",
      "Zomervakantie 2022 – Wallonië – \n",
      "Zomervakantie 2022 – Vlaanderen – \n",
      "Herfstvakantie 2022 – Wallonië – \n",
      "Herfstvakantie 2022 – Vlaanderen – \n",
      "Kerstvakantie 2022 – Wallonië – \n",
      "Kerstvakantie 2022 – Vlaanderen – \n"
     ]
    }
   ],
   "source": [
    "holiday = []\n",
    "for y in holidays:\n",
    "    print(y.text)\n",
    "    holiday.append(y.text)\n",
    "   "
   ]
  },
  {
   "cell_type": "code",
   "execution_count": 7,
   "id": "e78e5826",
   "metadata": {},
   "outputs": [],
   "source": [
    "df_holiday = pd.DataFrame(holiday)"
   ]
  },
  {
   "cell_type": "code",
   "execution_count": 8,
   "id": "1f849471",
   "metadata": {},
   "outputs": [
    {
     "data": {
      "text/html": [
       "<div>\n",
       "<style scoped>\n",
       "    .dataframe tbody tr th:only-of-type {\n",
       "        vertical-align: middle;\n",
       "    }\n",
       "\n",
       "    .dataframe tbody tr th {\n",
       "        vertical-align: top;\n",
       "    }\n",
       "\n",
       "    .dataframe thead th {\n",
       "        text-align: right;\n",
       "    }\n",
       "</style>\n",
       "<table border=\"1\" class=\"dataframe\">\n",
       "  <thead>\n",
       "    <tr style=\"text-align: right;\">\n",
       "      <th></th>\n",
       "      <th>0</th>\n",
       "    </tr>\n",
       "  </thead>\n",
       "  <tbody>\n",
       "    <tr>\n",
       "      <th>0</th>\n",
       "      <td>Krokusvakantie 2022 – Wallonië –</td>\n",
       "    </tr>\n",
       "    <tr>\n",
       "      <th>1</th>\n",
       "      <td>Krokusvakantie 2022 – Vlaanderen –</td>\n",
       "    </tr>\n",
       "    <tr>\n",
       "      <th>2</th>\n",
       "      <td>Paasvakantie 2022 – Wallonië –</td>\n",
       "    </tr>\n",
       "    <tr>\n",
       "      <th>3</th>\n",
       "      <td>Paasvakantie 2022 – Vlaanderen –</td>\n",
       "    </tr>\n",
       "    <tr>\n",
       "      <th>4</th>\n",
       "      <td>Hemelvaartvakantie 2022 – Wallonië –</td>\n",
       "    </tr>\n",
       "    <tr>\n",
       "      <th>5</th>\n",
       "      <td>Hemelvaartvakantie 2022 – Vlaanderen –</td>\n",
       "    </tr>\n",
       "    <tr>\n",
       "      <th>6</th>\n",
       "      <td>Zomervakantie 2022 – Wallonië –</td>\n",
       "    </tr>\n",
       "    <tr>\n",
       "      <th>7</th>\n",
       "      <td>Zomervakantie 2022 – Vlaanderen –</td>\n",
       "    </tr>\n",
       "    <tr>\n",
       "      <th>8</th>\n",
       "      <td>Herfstvakantie 2022 – Wallonië –</td>\n",
       "    </tr>\n",
       "    <tr>\n",
       "      <th>9</th>\n",
       "      <td>Herfstvakantie 2022 – Vlaanderen –</td>\n",
       "    </tr>\n",
       "    <tr>\n",
       "      <th>10</th>\n",
       "      <td>Kerstvakantie 2022 – Wallonië –</td>\n",
       "    </tr>\n",
       "    <tr>\n",
       "      <th>11</th>\n",
       "      <td>Kerstvakantie 2022 – Vlaanderen –</td>\n",
       "    </tr>\n",
       "  </tbody>\n",
       "</table>\n",
       "</div>"
      ],
      "text/plain": [
       "                                          0\n",
       "0         Krokusvakantie 2022 – Wallonië – \n",
       "1       Krokusvakantie 2022 – Vlaanderen – \n",
       "2           Paasvakantie 2022 – Wallonië – \n",
       "3         Paasvakantie 2022 – Vlaanderen – \n",
       "4     Hemelvaartvakantie 2022 – Wallonië – \n",
       "5   Hemelvaartvakantie 2022 – Vlaanderen – \n",
       "6          Zomervakantie 2022 – Wallonië – \n",
       "7        Zomervakantie 2022 – Vlaanderen – \n",
       "8         Herfstvakantie 2022 – Wallonië – \n",
       "9       Herfstvakantie 2022 – Vlaanderen – \n",
       "10         Kerstvakantie 2022 – Wallonië – \n",
       "11       Kerstvakantie 2022 – Vlaanderen – "
      ]
     },
     "execution_count": 8,
     "metadata": {},
     "output_type": "execute_result"
    }
   ],
   "source": [
    "df_holiday"
   ]
  },
  {
   "cell_type": "code",
   "execution_count": 9,
   "id": "5b6670d4",
   "metadata": {},
   "outputs": [],
   "source": [
    "starts = soup.select('span[itemprop=\"startDate\"]') "
   ]
  },
  {
   "cell_type": "code",
   "execution_count": 11,
   "id": "27833609",
   "metadata": {},
   "outputs": [
    {
     "name": "stdout",
     "output_type": "stream",
     "text": [
      "maandag 28 februari 2022\n",
      "maandag 28 februari 2022\n",
      "maandag 4 april 2022\n",
      "maandag 4 april 2022\n",
      "donderdag 26 mei 2022\n",
      "donderdag 26 mei 2022\n",
      "vrijdag 1 juli 2022\n",
      "vrijdag 1 juli 2022\n",
      "maandag 24 oktober 2022\n",
      "maandag 31 oktober 2022\n",
      "maandag 26 december 2022\n",
      "maandag 26 december 2022\n"
     ]
    }
   ],
   "source": [
    "start = []\n",
    "for z in starts:\n",
    "    print(z.text)\n",
    "    start.append(z.text)"
   ]
  },
  {
   "cell_type": "code",
   "execution_count": 12,
   "id": "6c199e7b",
   "metadata": {},
   "outputs": [],
   "source": [
    "df_start = pd.DataFrame(start)"
   ]
  },
  {
   "cell_type": "code",
   "execution_count": 13,
   "id": "ef8c265b",
   "metadata": {},
   "outputs": [
    {
     "data": {
      "text/html": [
       "<div>\n",
       "<style scoped>\n",
       "    .dataframe tbody tr th:only-of-type {\n",
       "        vertical-align: middle;\n",
       "    }\n",
       "\n",
       "    .dataframe tbody tr th {\n",
       "        vertical-align: top;\n",
       "    }\n",
       "\n",
       "    .dataframe thead th {\n",
       "        text-align: right;\n",
       "    }\n",
       "</style>\n",
       "<table border=\"1\" class=\"dataframe\">\n",
       "  <thead>\n",
       "    <tr style=\"text-align: right;\">\n",
       "      <th></th>\n",
       "      <th>0</th>\n",
       "    </tr>\n",
       "  </thead>\n",
       "  <tbody>\n",
       "    <tr>\n",
       "      <th>0</th>\n",
       "      <td>maandag 28 februari 2022</td>\n",
       "    </tr>\n",
       "    <tr>\n",
       "      <th>1</th>\n",
       "      <td>maandag 28 februari 2022</td>\n",
       "    </tr>\n",
       "    <tr>\n",
       "      <th>2</th>\n",
       "      <td>maandag 4 april 2022</td>\n",
       "    </tr>\n",
       "    <tr>\n",
       "      <th>3</th>\n",
       "      <td>maandag 4 april 2022</td>\n",
       "    </tr>\n",
       "    <tr>\n",
       "      <th>4</th>\n",
       "      <td>donderdag 26 mei 2022</td>\n",
       "    </tr>\n",
       "    <tr>\n",
       "      <th>5</th>\n",
       "      <td>donderdag 26 mei 2022</td>\n",
       "    </tr>\n",
       "    <tr>\n",
       "      <th>6</th>\n",
       "      <td>vrijdag 1 juli 2022</td>\n",
       "    </tr>\n",
       "    <tr>\n",
       "      <th>7</th>\n",
       "      <td>vrijdag 1 juli 2022</td>\n",
       "    </tr>\n",
       "    <tr>\n",
       "      <th>8</th>\n",
       "      <td>maandag 24 oktober 2022</td>\n",
       "    </tr>\n",
       "    <tr>\n",
       "      <th>9</th>\n",
       "      <td>maandag 31 oktober 2022</td>\n",
       "    </tr>\n",
       "    <tr>\n",
       "      <th>10</th>\n",
       "      <td>maandag 26 december 2022</td>\n",
       "    </tr>\n",
       "    <tr>\n",
       "      <th>11</th>\n",
       "      <td>maandag 26 december 2022</td>\n",
       "    </tr>\n",
       "  </tbody>\n",
       "</table>\n",
       "</div>"
      ],
      "text/plain": [
       "                           0\n",
       "0   maandag 28 februari 2022\n",
       "1   maandag 28 februari 2022\n",
       "2       maandag 4 april 2022\n",
       "3       maandag 4 april 2022\n",
       "4      donderdag 26 mei 2022\n",
       "5      donderdag 26 mei 2022\n",
       "6        vrijdag 1 juli 2022\n",
       "7        vrijdag 1 juli 2022\n",
       "8    maandag 24 oktober 2022\n",
       "9    maandag 31 oktober 2022\n",
       "10  maandag 26 december 2022\n",
       "11  maandag 26 december 2022"
      ]
     },
     "execution_count": 13,
     "metadata": {},
     "output_type": "execute_result"
    }
   ],
   "source": [
    "df_start"
   ]
  },
  {
   "cell_type": "code",
   "execution_count": 14,
   "id": "deaed85f",
   "metadata": {},
   "outputs": [],
   "source": [
    "ends = soup.select('span[itemprop=\"endDate\"]') "
   ]
  },
  {
   "cell_type": "code",
   "execution_count": 15,
   "id": "1a3e0a4c",
   "metadata": {},
   "outputs": [
    {
     "name": "stdout",
     "output_type": "stream",
     "text": [
      "zondag 6 maart 2022\n",
      "zondag 6 maart 2022\n",
      "maandag 18 april 2022\n",
      "maandag 18 april 2022\n",
      "vrijdag 27 mei 2022\n",
      "vrijdag 27 mei 2022\n",
      "zondag 28 augustus 2022\n",
      "woensdag 31 augustus 2022\n",
      "zondag 6 november 2022\n",
      "zondag 6 november 2022\n",
      "zondag 8 januari 2023\n",
      "zondag 8 januari 2023\n"
     ]
    }
   ],
   "source": [
    "end = []\n",
    "for i in ends:\n",
    "    print(i.text)\n",
    "    end.append(i.text)"
   ]
  },
  {
   "cell_type": "code",
   "execution_count": 16,
   "id": "e6f48892",
   "metadata": {},
   "outputs": [],
   "source": [
    "df_end = pd.DataFrame(end)"
   ]
  },
  {
   "cell_type": "code",
   "execution_count": 17,
   "id": "9ea07eed",
   "metadata": {},
   "outputs": [
    {
     "data": {
      "text/html": [
       "<div>\n",
       "<style scoped>\n",
       "    .dataframe tbody tr th:only-of-type {\n",
       "        vertical-align: middle;\n",
       "    }\n",
       "\n",
       "    .dataframe tbody tr th {\n",
       "        vertical-align: top;\n",
       "    }\n",
       "\n",
       "    .dataframe thead th {\n",
       "        text-align: right;\n",
       "    }\n",
       "</style>\n",
       "<table border=\"1\" class=\"dataframe\">\n",
       "  <thead>\n",
       "    <tr style=\"text-align: right;\">\n",
       "      <th></th>\n",
       "      <th>0</th>\n",
       "    </tr>\n",
       "  </thead>\n",
       "  <tbody>\n",
       "    <tr>\n",
       "      <th>0</th>\n",
       "      <td>zondag 6 maart 2022</td>\n",
       "    </tr>\n",
       "    <tr>\n",
       "      <th>1</th>\n",
       "      <td>zondag 6 maart 2022</td>\n",
       "    </tr>\n",
       "    <tr>\n",
       "      <th>2</th>\n",
       "      <td>maandag 18 april 2022</td>\n",
       "    </tr>\n",
       "    <tr>\n",
       "      <th>3</th>\n",
       "      <td>maandag 18 april 2022</td>\n",
       "    </tr>\n",
       "    <tr>\n",
       "      <th>4</th>\n",
       "      <td>vrijdag 27 mei 2022</td>\n",
       "    </tr>\n",
       "    <tr>\n",
       "      <th>5</th>\n",
       "      <td>vrijdag 27 mei 2022</td>\n",
       "    </tr>\n",
       "    <tr>\n",
       "      <th>6</th>\n",
       "      <td>zondag 28 augustus 2022</td>\n",
       "    </tr>\n",
       "    <tr>\n",
       "      <th>7</th>\n",
       "      <td>woensdag 31 augustus 2022</td>\n",
       "    </tr>\n",
       "    <tr>\n",
       "      <th>8</th>\n",
       "      <td>zondag 6 november 2022</td>\n",
       "    </tr>\n",
       "    <tr>\n",
       "      <th>9</th>\n",
       "      <td>zondag 6 november 2022</td>\n",
       "    </tr>\n",
       "    <tr>\n",
       "      <th>10</th>\n",
       "      <td>zondag 8 januari 2023</td>\n",
       "    </tr>\n",
       "    <tr>\n",
       "      <th>11</th>\n",
       "      <td>zondag 8 januari 2023</td>\n",
       "    </tr>\n",
       "  </tbody>\n",
       "</table>\n",
       "</div>"
      ],
      "text/plain": [
       "                            0\n",
       "0         zondag 6 maart 2022\n",
       "1         zondag 6 maart 2022\n",
       "2       maandag 18 april 2022\n",
       "3       maandag 18 april 2022\n",
       "4         vrijdag 27 mei 2022\n",
       "5         vrijdag 27 mei 2022\n",
       "6     zondag 28 augustus 2022\n",
       "7   woensdag 31 augustus 2022\n",
       "8      zondag 6 november 2022\n",
       "9      zondag 6 november 2022\n",
       "10      zondag 8 januari 2023\n",
       "11      zondag 8 januari 2023"
      ]
     },
     "execution_count": 17,
     "metadata": {},
     "output_type": "execute_result"
    }
   ],
   "source": [
    "df_end"
   ]
  },
  {
   "cell_type": "code",
   "execution_count": 18,
   "id": "86e245ec",
   "metadata": {},
   "outputs": [],
   "source": [
    "frames = [df_holiday, df_start, df_end]\n",
    "df = pd.concat(frames, axis = 1, join = 'inner')\n",
    "df.columns =['Holiday', 'StartDate', 'EndDate']"
   ]
  },
  {
   "cell_type": "code",
   "execution_count": 19,
   "id": "7ed717e3",
   "metadata": {},
   "outputs": [
    {
     "data": {
      "text/html": [
       "<div>\n",
       "<style scoped>\n",
       "    .dataframe tbody tr th:only-of-type {\n",
       "        vertical-align: middle;\n",
       "    }\n",
       "\n",
       "    .dataframe tbody tr th {\n",
       "        vertical-align: top;\n",
       "    }\n",
       "\n",
       "    .dataframe thead th {\n",
       "        text-align: right;\n",
       "    }\n",
       "</style>\n",
       "<table border=\"1\" class=\"dataframe\">\n",
       "  <thead>\n",
       "    <tr style=\"text-align: right;\">\n",
       "      <th></th>\n",
       "      <th>Holiday</th>\n",
       "      <th>StartDate</th>\n",
       "      <th>EndDate</th>\n",
       "    </tr>\n",
       "  </thead>\n",
       "  <tbody>\n",
       "    <tr>\n",
       "      <th>0</th>\n",
       "      <td>Krokusvakantie 2022 – Wallonië –</td>\n",
       "      <td>maandag 28 februari 2022</td>\n",
       "      <td>zondag 6 maart 2022</td>\n",
       "    </tr>\n",
       "    <tr>\n",
       "      <th>1</th>\n",
       "      <td>Krokusvakantie 2022 – Vlaanderen –</td>\n",
       "      <td>maandag 28 februari 2022</td>\n",
       "      <td>zondag 6 maart 2022</td>\n",
       "    </tr>\n",
       "    <tr>\n",
       "      <th>2</th>\n",
       "      <td>Paasvakantie 2022 – Wallonië –</td>\n",
       "      <td>maandag 4 april 2022</td>\n",
       "      <td>maandag 18 april 2022</td>\n",
       "    </tr>\n",
       "    <tr>\n",
       "      <th>3</th>\n",
       "      <td>Paasvakantie 2022 – Vlaanderen –</td>\n",
       "      <td>maandag 4 april 2022</td>\n",
       "      <td>maandag 18 april 2022</td>\n",
       "    </tr>\n",
       "    <tr>\n",
       "      <th>4</th>\n",
       "      <td>Hemelvaartvakantie 2022 – Wallonië –</td>\n",
       "      <td>donderdag 26 mei 2022</td>\n",
       "      <td>vrijdag 27 mei 2022</td>\n",
       "    </tr>\n",
       "    <tr>\n",
       "      <th>5</th>\n",
       "      <td>Hemelvaartvakantie 2022 – Vlaanderen –</td>\n",
       "      <td>donderdag 26 mei 2022</td>\n",
       "      <td>vrijdag 27 mei 2022</td>\n",
       "    </tr>\n",
       "    <tr>\n",
       "      <th>6</th>\n",
       "      <td>Zomervakantie 2022 – Wallonië –</td>\n",
       "      <td>vrijdag 1 juli 2022</td>\n",
       "      <td>zondag 28 augustus 2022</td>\n",
       "    </tr>\n",
       "    <tr>\n",
       "      <th>7</th>\n",
       "      <td>Zomervakantie 2022 – Vlaanderen –</td>\n",
       "      <td>vrijdag 1 juli 2022</td>\n",
       "      <td>woensdag 31 augustus 2022</td>\n",
       "    </tr>\n",
       "    <tr>\n",
       "      <th>8</th>\n",
       "      <td>Herfstvakantie 2022 – Wallonië –</td>\n",
       "      <td>maandag 24 oktober 2022</td>\n",
       "      <td>zondag 6 november 2022</td>\n",
       "    </tr>\n",
       "    <tr>\n",
       "      <th>9</th>\n",
       "      <td>Herfstvakantie 2022 – Vlaanderen –</td>\n",
       "      <td>maandag 31 oktober 2022</td>\n",
       "      <td>zondag 6 november 2022</td>\n",
       "    </tr>\n",
       "    <tr>\n",
       "      <th>10</th>\n",
       "      <td>Kerstvakantie 2022 – Wallonië –</td>\n",
       "      <td>maandag 26 december 2022</td>\n",
       "      <td>zondag 8 januari 2023</td>\n",
       "    </tr>\n",
       "    <tr>\n",
       "      <th>11</th>\n",
       "      <td>Kerstvakantie 2022 – Vlaanderen –</td>\n",
       "      <td>maandag 26 december 2022</td>\n",
       "      <td>zondag 8 januari 2023</td>\n",
       "    </tr>\n",
       "  </tbody>\n",
       "</table>\n",
       "</div>"
      ],
      "text/plain": [
       "                                    Holiday                 StartDate  \\\n",
       "0         Krokusvakantie 2022 – Wallonië –   maandag 28 februari 2022   \n",
       "1       Krokusvakantie 2022 – Vlaanderen –   maandag 28 februari 2022   \n",
       "2           Paasvakantie 2022 – Wallonië –       maandag 4 april 2022   \n",
       "3         Paasvakantie 2022 – Vlaanderen –       maandag 4 april 2022   \n",
       "4     Hemelvaartvakantie 2022 – Wallonië –      donderdag 26 mei 2022   \n",
       "5   Hemelvaartvakantie 2022 – Vlaanderen –      donderdag 26 mei 2022   \n",
       "6          Zomervakantie 2022 – Wallonië –        vrijdag 1 juli 2022   \n",
       "7        Zomervakantie 2022 – Vlaanderen –        vrijdag 1 juli 2022   \n",
       "8         Herfstvakantie 2022 – Wallonië –    maandag 24 oktober 2022   \n",
       "9       Herfstvakantie 2022 – Vlaanderen –    maandag 31 oktober 2022   \n",
       "10         Kerstvakantie 2022 – Wallonië –   maandag 26 december 2022   \n",
       "11       Kerstvakantie 2022 – Vlaanderen –   maandag 26 december 2022   \n",
       "\n",
       "                      EndDate  \n",
       "0         zondag 6 maart 2022  \n",
       "1         zondag 6 maart 2022  \n",
       "2       maandag 18 april 2022  \n",
       "3       maandag 18 april 2022  \n",
       "4         vrijdag 27 mei 2022  \n",
       "5         vrijdag 27 mei 2022  \n",
       "6     zondag 28 augustus 2022  \n",
       "7   woensdag 31 augustus 2022  \n",
       "8      zondag 6 november 2022  \n",
       "9      zondag 6 november 2022  \n",
       "10      zondag 8 januari 2023  \n",
       "11      zondag 8 januari 2023  "
      ]
     },
     "execution_count": 19,
     "metadata": {},
     "output_type": "execute_result"
    }
   ],
   "source": [
    "df"
   ]
  }
 ],
 "metadata": {
  "kernelspec": {
   "display_name": "Python 3 (ipykernel)",
   "language": "python",
   "name": "python3"
  },
  "language_info": {
   "codemirror_mode": {
    "name": "ipython",
    "version": 3
   },
   "file_extension": ".py",
   "mimetype": "text/x-python",
   "name": "python",
   "nbconvert_exporter": "python",
   "pygments_lexer": "ipython3",
   "version": "3.9.13"
  }
 },
 "nbformat": 4,
 "nbformat_minor": 5
}
