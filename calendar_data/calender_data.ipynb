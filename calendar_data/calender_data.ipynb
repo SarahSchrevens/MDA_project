{
 "cells": [
  {
   "cell_type": "code",
   "execution_count": 165,
   "id": "bb85e0bb",
   "metadata": {},
   "outputs": [],
   "source": [
    "##import libraries request and bs4\n",
    "import requests #library needed for requesting permission to website\n",
    "from bs4 import BeautifulSoup #needed for filtering through website html code\n",
    "\n",
    "import pandas as pd"
   ]
  },
  {
   "cell_type": "code",
   "execution_count": 144,
   "id": "9915c8de",
   "metadata": {},
   "outputs": [],
   "source": [
    "##adding url of site needed for data\n",
    "url = \"https://www.kuleuven.be/english/about-kuleuven/calendars/2021-2022/ku-leuven-leuven-main-campus\"\n",
    "response = requests.get(url)"
   ]
  },
  {
   "cell_type": "code",
   "execution_count": 166,
   "id": "0261e88f",
   "metadata": {},
   "outputs": [
    {
     "data": {
      "text/plain": [
       "'https://www.kuleuven.be/english/about-kuleuven/calendars/2021-2022/ku-leuven-leuven-main-campus'"
      ]
     },
     "execution_count": 166,
     "metadata": {},
     "output_type": "execute_result"
    }
   ],
   "source": [
    "##making sure everything works and the correct url is used\n",
    "response.url"
   ]
  },
  {
   "cell_type": "code",
   "execution_count": 167,
   "id": "af7e0325",
   "metadata": {},
   "outputs": [],
   "source": [
    "##storing in beautifulsoup element for further usage\n",
    "soup = BeautifulSoup(response.text, \"html.parser\")"
   ]
  },
  {
   "cell_type": "code",
   "execution_count": 168,
   "id": "abf9ff71",
   "metadata": {},
   "outputs": [],
   "source": [
    "events = soup.select('p') "
   ]
  },
  {
   "cell_type": "code",
   "execution_count": 169,
   "id": "de560cfb",
   "metadata": {},
   "outputs": [
    {
     "name": "stdout",
     "output_type": "stream",
     "text": [
      "September 2021\n",
      "Mo.\n",
      "27\n",
      "Opening academic year 2021-2022 in Leuven\n",
      "October 2021\n",
      " \n",
      " \n",
      " \n",
      "November 2021\n",
      "Mo. \n",
      "1\n",
      "All Saints (Bank holiday) (1)\n",
      "Tu. \n",
      "2 \n",
      "All Souls' Day (Bank holiday) (1)\n",
      "Th.\n",
      "11\n",
      "Armistice Day (Bank holiday) (1)\n",
      "December 2021\n",
      "Sa.\n",
      "25\n",
      "Christmas holiday from Saturday 25 December until Sunday 9 January\n",
      "Sa.\n",
      "25\n",
      "Christmas (Bank holiday) (1)\n",
      "Su.\n",
      "26\n",
      "Boxing Day (Bank holiday) (1)\n",
      "January 2022\n",
      "Sa.\n",
      "1\n",
      "New Year's Day (Bank holiday) (1)\n",
      "Mo.\n",
      "10\n",
      "Study period until Thursday January 13\n",
      "Start of the first examination period*\n",
      "February 2022\n",
      "We.\n",
      "2\n",
      "KU Leuven Patron Saint's Day Celebration (Bank holiday) (1)\n",
      "Mo.\n",
      "14\n",
      "Start of second semester\n",
      "March 2022\n",
      "April 2022\n",
      "Sa.\n",
      "2\n",
      "Easter holiday from Saturday 2 April until Monday 18 April\n",
      "Sun.\n",
      "17\n",
      "Easter (1)\n",
      "Mo.\n",
      "18\n",
      "Easter Monday (Bank holiday) (1)\n",
      "May 2022\n",
      "Su.\n",
      "1\n",
      "Labour Day (Bank holiday) (1)\n",
      "Th.\n",
      "26\n",
      "Feast of the Ascension (Bank holiday) (1)\n",
      "Sa.\n",
      "28\n",
      "End of second semester classes\n",
      "\t\t\tStudy period until Sunday 12 June\n",
      "June 2022\n",
      "Mo.\n",
      "13\n",
      "Start of second examination period*\n",
      "July 2022\n",
      "Sa.\n",
      "9\n",
      "Mo.\n",
      "11\n",
      "Holiday of the Flemish Community (Bank holiday) (1)\n",
      "Th.\n",
      "21\n",
      "Belgian National Holiday (Bank holiday) (1)\n",
      "August 2022\n",
      "Mo.\n",
      "15\n",
      "Assumption of Mary (Bank holiday) (1)\n",
      "Tu.\n",
      "16\n",
      "Start of registration for the 2022-2023 academic year\n",
      "Mo.\n",
      "22\n",
      "Start of third examination period*\n",
      "September 2022\n",
      "Mo.  \n",
      "5\n",
      "Monday of Leuven Funfair (Bank holiday) (1)\n",
      "Mo.\n",
      "12\n",
      "Start of examination board meetings\n",
      "Sa.\n",
      "17\n",
      "End of examination board meetings\n",
      "* Some faculties start their exam period earlier. Please check the faculty’s website for more information.\n",
      "(1) = The university’s campus in Leuven is closed.\n",
      "\n",
      "      Last update:\n",
      "      08 Mar 2022\n",
      "    \n",
      "\n"
     ]
    }
   ],
   "source": [
    "\n",
    "for y in events:\n",
    "    print(y.text)\n",
    "   "
   ]
  },
  {
   "cell_type": "code",
   "execution_count": 170,
   "id": "90bdf9e0",
   "metadata": {},
   "outputs": [],
   "source": [
    "pattern = re.compile(r'(?P<month>(?:January|February|March|April|May|June|July|August|September|October|November|December))\\s(?P<year>202[12])')"
   ]
  },
  {
   "cell_type": "code",
   "execution_count": 171,
   "id": "8cabd3b8",
   "metadata": {},
   "outputs": [],
   "source": [
    "events = str(events)\n",
    "months = re.split(pattern, events)"
   ]
  },
  {
   "cell_type": "code",
   "execution_count": 172,
   "id": "c2c15a2d",
   "metadata": {},
   "outputs": [
    {
     "name": "stdout",
     "output_type": "stream",
     "text": [
      "[<p><strong>\n",
      "September\n",
      "2021\n",
      "</strong></p>, <p><strong><em>Mo.</em></strong></p>, <p><strong><em>27</em></strong></p>, <p>Opening academic year 2021-2022 in Leuven</p>, <p><strong>\n",
      "October\n",
      "2021\n",
      "</strong></p>, <p> </p>, <p> </p>, <p> </p>, <p><strong>\n",
      "November\n",
      "2021\n",
      "</strong></p>, <p><strong><em>Mo. </em></strong></p>, <p><strong><em>1</em></strong></p>, <p>All Saints (Bank holiday) (1)</p>, <p><strong><em>Tu. </em></strong></p>, <p><strong><em>2 </em></strong></p>, <p>All Souls' Day (Bank holiday) (1)</p>, <p><strong><em>Th.</em></strong></p>, <p><strong><em>11</em></strong></p>, <p>Armistice Day (Bank holiday) (1)</p>, <p><strong>\n",
      "December\n",
      "2021\n",
      "</strong></p>, <p><strong><em>Sa.</em></strong></p>, <p><b><i>25</i></b></p>, <p>Christmas holiday from Saturday 25 December until Sunday 9 January</p>, <p><strong><em>Sa.</em></strong></p>, <p><strong><em>25</em></strong></p>, <p>Christmas (Bank holiday) (1)</p>, <p><strong><em>Su.</em></strong></p>, <p><strong><em>26</em></strong></p>, <p>Boxing Day (Bank holiday) (1)</p>, <p><strong>\n",
      "January\n",
      "2022\n",
      "</strong></p>, <p><strong><em>Sa.</em></strong></p>, <p><strong><em>1</em></strong></p>, <p>New Year's Day (Bank holiday) (1)</p>, <p><strong><em>Mo.</em></strong></p>, <p><b><i>10</i></b></p>, <p>Study period until Thursday January 13</p>, <p>Start of the first examination period*</p>, <p><strong>\n",
      "February\n",
      "2022\n",
      "</strong></p>, <p><strong><em>We.</em></strong></p>, <p><strong><em>2</em></strong></p>, <p>KU Leuven Patron Saint's Day Celebration (Bank holiday) (1)</p>, <p><strong><em>Mo.</em></strong></p>, <p><b><i>14</i></b></p>, <p>Start of second semester</p>, <p><strong>\n",
      "March\n",
      "2022\n",
      "</strong></p>, <p><strong>\n",
      "April\n",
      "2022\n",
      "</strong></p>, <p><strong><em>Sa.</em></strong></p>, <p><b><i>2</i></b></p>, <p>Easter holiday from Saturday 2 April until Monday 18 April</p>, <p><strong><em>Sun.</em></strong></p>, <p><b><i>17</i></b></p>, <p>Easter (1)</p>, <p><strong><em>Mo.</em></strong></p>, <p><b><i>18</i></b></p>, <p>Easter Monday (Bank holiday) (1)</p>, <p><strong>\n",
      "May\n",
      "2022\n",
      "</strong></p>, <p><strong><em>Su.</em></strong></p>, <p><strong><em>1</em></strong></p>, <p>Labour Day (Bank holiday) (1)</p>, <p><strong><em>Th.</em></strong></p>, <p><b><i>26</i></b></p>, <p>Feast of the Ascension (Bank holiday) (1)</p>, <p><strong><em>Sa.</em></strong></p>, <p><strong><em>28</em></strong></p>, <p>End of second semester classes<br/>\n",
      "\t\t\tStudy period until Sunday 12 June</p>, <p><strong>\n",
      "June\n",
      "2022\n",
      "</strong></p>, <p><b><i>Mo.</i></b></p>, <p><b><i>13</i></b></p>, <p>Start of second examination period*</p>, <p><strong>\n",
      "July\n",
      "2022\n",
      "</strong></p>, <p><strong><em>Sa.</em></strong></p>, <p><b><i>9</i></b></p>, <p><strong><em>Mo.</em></strong></p>, <p><strong><em>11</em></strong></p>, <p>Holiday of the Flemish Community (Bank holiday) (1)</p>, <p><strong><em>Th.</em></strong></p>, <p><strong><em>21</em></strong></p>, <p>Belgian National Holiday (Bank holiday) (1)</p>, <p><strong>\n",
      "August\n",
      "2022\n",
      "</strong></p>, <p><strong><em>Mo.</em></strong></p>, <p><strong><em>15</em></strong></p>, <p>Assumption of Mary (Bank holiday) (1)</p>, <p><strong><em>Tu.</em></strong></p>, <p><strong><em>16</em></strong></p>, <p>Start of registration for the 2022-2023 academic year</p>, <p><strong><em>Mo.</em></strong></p>, <p><b><i>22</i></b></p>, <p>Start of third examination period*</p>, <p><strong>\n",
      "September\n",
      "2022\n",
      "</strong></p>, <p><strong><em>Mo.  </em></strong></p>, <p><b><i>5</i></b></p>, <p>Monday of Leuven Funfair (Bank holiday) (1)</p>, <p><strong><em>Mo.</em></strong></p>, <p><b><i>12</i></b></p>, <p>Start of examination board meetings</p>, <p><strong><em>Sa.</em></strong></p>, <p><strong><em>17</em></strong></p>, <p>End of examination board meetings</p>, <p><a id=\"examen\" name=\"examen\"></a><em>* Some faculties start their exam period earlier. Please check the faculty’s website for more information.</em></p>, <p><a id=\"Leuven_gesloten\" name=\"Leuven_gesloten\"></a>(1) = The university’s campus in Leuven is closed.</p>, <p class=\"lastmodified\" style=\"margin-bottom: 0;\">\n",
      "      Last update:\n",
      "      08 Mar 2022\n",
      "    </p>, <p></p>]\n"
     ]
    }
   ],
   "source": [
    "ev = []\n",
    "for month in months:\n",
    "    print(month.strip())\n",
    "    ev.append(month.strip())"
   ]
  }
 ],
 "metadata": {
  "kernelspec": {
   "display_name": "Python 3 (ipykernel)",
   "language": "python",
   "name": "python3"
  },
  "language_info": {
   "codemirror_mode": {
    "name": "ipython",
    "version": 3
   },
   "file_extension": ".py",
   "mimetype": "text/x-python",
   "name": "python",
   "nbconvert_exporter": "python",
   "pygments_lexer": "ipython3",
   "version": "3.9.13"
  }
 },
 "nbformat": 4,
 "nbformat_minor": 5
}
