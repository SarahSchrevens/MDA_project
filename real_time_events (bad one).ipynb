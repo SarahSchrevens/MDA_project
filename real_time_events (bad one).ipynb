{
 "cells": [
  {
   "cell_type": "code",
   "execution_count": 102,
   "id": "623a22e7",
   "metadata": {
    "scrolled": true
   },
   "outputs": [],
   "source": [
    "##import libraries request and bs4\n",
    "import requests #library needed for requesting permission to website\n",
    "from bs4 import BeautifulSoup #needed for filtering through website html code"
   ]
  },
  {
   "cell_type": "code",
   "execution_count": 103,
   "id": "9fc4d464",
   "metadata": {},
   "outputs": [],
   "source": [
    "##adding url of site needed for data\n",
    "url = \"https://allevents.in/leuven/parties\"\n",
    "response = requests.get(url)"
   ]
  },
  {
   "cell_type": "code",
   "execution_count": 104,
   "id": "8bc9fa7d",
   "metadata": {},
   "outputs": [
    {
     "data": {
      "text/plain": [
       "'https://allevents.in/leuven/parties'"
      ]
     },
     "execution_count": 104,
     "metadata": {},
     "output_type": "execute_result"
    }
   ],
   "source": [
    "##making sure everything works and the correct url is used\n",
    "response.url"
   ]
  },
  {
   "cell_type": "code",
   "execution_count": 105,
   "id": "2a6d0431",
   "metadata": {},
   "outputs": [],
   "source": [
    "##storing in beautifulsoup element for further usage\n",
    "soup = BeautifulSoup(response.text, \"html.parser\")"
   ]
  },
  {
   "cell_type": "code",
   "execution_count": 106,
   "id": "d0a54dee",
   "metadata": {},
   "outputs": [
    {
     "data": {
      "text/plain": [
       "[<span class=\"up-time-display\">\n",
       " \t\t\t        \tSat May 20 2023 at 12:00 pm\t\t\t        </span>,\n",
       " <span class=\"up-time-display\">\n",
       " \t\t\t        \tFri May 05 2023 at 09:00 pm\t\t\t        </span>,\n",
       " <span class=\"up-time-display\">\n",
       " \t\t\t        \tSat May 06 2023 at 02:00 pm\t\t\t        </span>,\n",
       " <span class=\"up-time-display\">\n",
       " \t\t\t        \tSat May 20 2023 at 10:00 pm\t\t\t        </span>,\n",
       " <span class=\"up-time-display\">\n",
       " \t\t\t        \tSat Nov 25 2023 at 10:00 pm\t\t\t        </span>,\n",
       " <span class=\"up-time-display\">\n",
       " \t\t\t        \tFri Sep 15 2023 at 08:00 pm\t\t\t        </span>,\n",
       " <span class=\"up-time-display\">\n",
       " \t\t\t        \tSun Apr 30 2023 at 10:00 pm\t\t\t        </span>,\n",
       " <span class=\"up-time-display\">\n",
       " \t\t\t        \tSat May 20 2023 at 02:00 pm\t\t\t        </span>,\n",
       " <span class=\"up-time-display\">\n",
       " \t\t\t        \tThu Nov 02 2023 at 09:00 pm\t\t\t        </span>,\n",
       " <span class=\"up-time-display\">\n",
       " \t\t\t        \tSat May 20 2023 at 09:00 pm\t\t\t        </span>,\n",
       " <span class=\"up-time-display\">\n",
       " \t\t\t        \tSat May 06 2023 at 04:00 pm\t\t\t        </span>,\n",
       " <span class=\"up-time-display\">\n",
       " \t\t\t        \tSat May 20 2023 at 09:00 pm\t\t\t        </span>]"
      ]
     },
     "execution_count": 106,
     "metadata": {},
     "output_type": "execute_result"
    }
   ],
   "source": [
    "date = soup.select('span[class=\"up-time-display\"]') \n",
    "date"
   ]
  },
  {
   "cell_type": "code",
   "execution_count": 107,
   "id": "8e3a8778",
   "metadata": {},
   "outputs": [
    {
     "name": "stdout",
     "output_type": "stream",
     "text": [
      "\n",
      "\t\t\t        \tSat May 20 2023 at 12:00 pm\t\t\t        \n",
      "\n",
      "\t\t\t        \tFri May 05 2023 at 09:00 pm\t\t\t        \n",
      "\n",
      "\t\t\t        \tSat May 06 2023 at 02:00 pm\t\t\t        \n",
      "\n",
      "\t\t\t        \tSat May 20 2023 at 10:00 pm\t\t\t        \n",
      "\n",
      "\t\t\t        \tSat Nov 25 2023 at 10:00 pm\t\t\t        \n",
      "\n",
      "\t\t\t        \tFri Sep 15 2023 at 08:00 pm\t\t\t        \n",
      "\n",
      "\t\t\t        \tSun Apr 30 2023 at 10:00 pm\t\t\t        \n",
      "\n",
      "\t\t\t        \tSat May 20 2023 at 02:00 pm\t\t\t        \n",
      "\n",
      "\t\t\t        \tThu Nov 02 2023 at 09:00 pm\t\t\t        \n",
      "\n",
      "\t\t\t        \tSat May 20 2023 at 09:00 pm\t\t\t        \n",
      "\n",
      "\t\t\t        \tSat May 06 2023 at 04:00 pm\t\t\t        \n",
      "\n",
      "\t\t\t        \tSat May 20 2023 at 09:00 pm\t\t\t        \n"
     ]
    }
   ],
   "source": [
    "for x in date:\n",
    "    print(x.text)"
   ]
  },
  {
   "cell_type": "code",
   "execution_count": 108,
   "id": "87b300d0",
   "metadata": {},
   "outputs": [
    {
     "data": {
      "text/plain": [
       "[<div class=\"title\" property=\"summary\" style=\"word-wrap: break-word;\">\n",
       " <a href=\"https://allevents.in/leuven/gas-and-alba-weekend-in-leuven-apollo-swing/200023895589307?ref=eventlist-new\" target=\"_blank\" title=\"Gas &amp; Alba weekend in Leuven - Apollo Swing\">\n",
       " <h3>Gas &amp; Alba weekend in Leuven - Apollo Swing</h3>\n",
       " </a>\n",
       " </div>,\n",
       " <div class=\"title\" property=\"summary\" style=\"word-wrap: break-word;\">\n",
       " <a href=\"https://allevents.in/leuven/belpop-bonanza-leuven-het-depot-sold-out/200023974037027?ref=eventlist-new\" target=\"_blank\" title=\"Belpop Bonanza Leuven / Het Depot (sold out)\">\n",
       " <h3>Belpop Bonanza Leuven / Het Depot (sold out)</h3>\n",
       " </a>\n",
       " </div>,\n",
       " <div class=\"title\" property=\"summary\" style=\"word-wrap: break-word;\">\n",
       " <a href=\"https://allevents.in/leuven/shag-workshop-leuven-apollo-swing/200023895561815?ref=eventlist-new\" target=\"_blank\" title=\"Shag workshop Leuven - Apollo Swing\">\n",
       " <h3>Shag workshop Leuven - Apollo Swing</h3>\n",
       " </a>\n",
       " </div>,\n",
       " <div class=\"title\" property=\"summary\" style=\"word-wrap: break-word;\">\n",
       " <a href=\"https://allevents.in/leuven/daan-het-depot-sold-out/200023895648524?ref=eventlist-new\" target=\"_blank\" title=\"DAAN / Het Depot (sold out)\">\n",
       " <h3>DAAN / Het Depot (sold out)</h3>\n",
       " </a>\n",
       " </div>,\n",
       " <div class=\"title\" property=\"summary\" style=\"word-wrap: break-word;\">\n",
       " <a href=\"https://allevents.in/leuven/oldskool-nineties-brabanthal/200023720166217?ref=eventlist-new\" target=\"_blank\" title=\"OLDSKOOL NINETIES - BRABANTHAL\">\n",
       " <h3>OLDSKOOL NINETIES - BRABANTHAL</h3>\n",
       " </a>\n",
       " </div>,\n",
       " <div class=\"title\" property=\"summary\" style=\"word-wrap: break-word;\">\n",
       " <a href=\"https://allevents.in/leuven/jean-marie-aerts-het-depot-nieuwe-datum/200023720159648?ref=eventlist-new\" target=\"_blank\" title=\"Jean-Marie Aerts / Het Depot (nieuwe datum)\">\n",
       " <h3>Jean-Marie Aerts / Het Depot (nieuwe datum)</h3>\n",
       " </a>\n",
       " </div>,\n",
       " <div class=\"title\" property=\"summary\" style=\"word-wrap: break-word;\">\n",
       " <a href=\"https://allevents.in/leuven/exert-belgian-tour-2-leuven/200024437017439?ref=eventlist-new\" target=\"_blank\" title=\"Exert Belgian Tour #2 - Leuven\">\n",
       " <h3>Exert Belgian Tour #2 - Leuven</h3>\n",
       " </a>\n",
       " </div>,\n",
       " <div class=\"title\" property=\"summary\" style=\"word-wrap: break-word;\">\n",
       " <a href=\"https://allevents.in/leuven/leuven-innovation-beerfestival-2023/200024437017338?ref=eventlist-new\" target=\"_blank\" title=\"Leuven Innovation Beerfestival 2023\">\n",
       " <h3>Leuven Innovation Beerfestival 2023</h3>\n",
       " </a>\n",
       " </div>,\n",
       " <div class=\"title\" property=\"summary\" style=\"word-wrap: break-word;\">\n",
       " <a href=\"https://allevents.in/leuven/omaloku-kizomba-congress-2023-okc-official-2nd-edition/200023720133926?ref=eventlist-new\" target=\"_blank\" title=\"OMALOKU KIZOMBA CONGRESS 2023 (OKC) OFFICIAL 2nd Edition\">\n",
       " <h3>OMALOKU KIZOMBA CONGRESS 2023 (OKC) OFFICIAL 2nd Edition</h3>\n",
       " </a>\n",
       " </div>,\n",
       " <div class=\"title\" property=\"summary\" style=\"word-wrap: break-word;\">\n",
       " <a href=\"https://allevents.in/leuven/resurrectionz-b-day-battles/200024136423802?ref=eventlist-new\" target=\"_blank\" title=\"ResurrectionZ B-day battles\">\n",
       " <h3>ResurrectionZ B-day battles</h3>\n",
       " </a>\n",
       " </div>,\n",
       " <div class=\"title\" property=\"summary\" style=\"word-wrap: break-word;\">\n",
       " <a href=\"https://allevents.in/leuven/tea-party/200024420911701?ref=eventlist-new\" target=\"_blank\" title=\"Tea Party\">\n",
       " <h3>Tea Party</h3>\n",
       " </a>\n",
       " </div>,\n",
       " <div class=\"title\" property=\"summary\" style=\"word-wrap: break-word;\">\n",
       " <a href=\"https://allevents.in/leuven/saturday-swing-with-live-music-taxi-brousse/200024043212344?ref=eventlist-new\" target=\"_blank\" title=\"Saturday Swing - with live music Taxi Brousse\">\n",
       " <h3>Saturday Swing - with live music Taxi Brousse</h3>\n",
       " </a>\n",
       " </div>,\n",
       " <div class=\"title\" property=\"summary\" style=\"word-wrap: break-word;\" v-cloak=\"\" v-if=\"typeof item.long_live == 'undefined'\">\n",
       " <div class=\"pull-left w100\" v-if=\"is_outdated_datesearch === false\">\n",
       " <a :href=\"item.event_url\" :title=\"item.eventname_raw\" target=\"_blank\">\n",
       " <h3>{{item.eventname_raw}}</h3>\n",
       " </a>\n",
       " </div>\n",
       " <span :data-href=\"item.event_url\" class=\"pull-left w100 gherf\" v-if=\"is_outdated_datesearch === true\">\n",
       " <h3>{{item.eventname_raw}}</h3>\n",
       " </span>\n",
       " </div>]"
      ]
     },
     "execution_count": 108,
     "metadata": {},
     "output_type": "execute_result"
    }
   ],
   "source": [
    "name = soup.select('div[class=\"title\"]')\n",
    "name"
   ]
  },
  {
   "cell_type": "code",
   "execution_count": 109,
   "id": "6cd56bc4",
   "metadata": {},
   "outputs": [
    {
     "name": "stdout",
     "output_type": "stream",
     "text": [
      "\n",
      "\n",
      "Gas & Alba weekend in Leuven - Apollo Swing\n",
      "\n",
      "\n",
      "\n",
      "\n",
      "Belpop Bonanza Leuven / Het Depot (sold out)\n",
      "\n",
      "\n",
      "\n",
      "\n",
      "Shag workshop Leuven - Apollo Swing\n",
      "\n",
      "\n",
      "\n",
      "\n",
      "DAAN / Het Depot (sold out)\n",
      "\n",
      "\n",
      "\n",
      "\n",
      "OLDSKOOL NINETIES - BRABANTHAL\n",
      "\n",
      "\n",
      "\n",
      "\n",
      "Jean-Marie Aerts / Het Depot (nieuwe datum)\n",
      "\n",
      "\n",
      "\n",
      "\n",
      "Exert Belgian Tour #2 - Leuven\n",
      "\n",
      "\n",
      "\n",
      "\n",
      "Leuven Innovation Beerfestival 2023\n",
      "\n",
      "\n",
      "\n",
      "\n",
      "OMALOKU KIZOMBA CONGRESS 2023 (OKC) OFFICIAL 2nd Edition\n",
      "\n",
      "\n",
      "\n",
      "\n",
      "ResurrectionZ B-day battles\n",
      "\n",
      "\n",
      "\n",
      "\n",
      "Tea Party\n",
      "\n",
      "\n",
      "\n",
      "\n",
      "Saturday Swing - with live music Taxi Brousse\n",
      "\n",
      "\n",
      "\n"
     ]
    }
   ],
   "source": [
    "for x in name:\n",
    "    print(x.text)"
   ]
  },
  {
   "cell_type": "markdown",
   "id": "ca93e256",
   "metadata": {},
   "source": [
    "# store as dataframe"
   ]
  },
  {
   "cell_type": "code",
   "execution_count": 110,
   "id": "d1cd6b82",
   "metadata": {},
   "outputs": [],
   "source": [
    "import pandas as pd"
   ]
  },
  {
   "cell_type": "code",
   "execution_count": 113,
   "id": "c04daa70",
   "metadata": {},
   "outputs": [
    {
     "name": "stderr",
     "output_type": "stream",
     "text": [
      "/Users/penelopegiorgi/opt/anaconda3/lib/python3.9/site-packages/pandas/core/internals/construction.py:576: VisibleDeprecationWarning: Creating an ndarray from ragged nested sequences (which is a list-or-tuple of lists-or-tuples-or ndarrays with different lengths or shapes) is deprecated. If you meant to do this, you must specify 'dtype=object' when creating the ndarray.\n",
      "  values = np.array([convert(v) for v in values])\n"
     ]
    },
    {
     "data": {
      "text/html": [
       "<div>\n",
       "<style scoped>\n",
       "    .dataframe tbody tr th:only-of-type {\n",
       "        vertical-align: middle;\n",
       "    }\n",
       "\n",
       "    .dataframe tbody tr th {\n",
       "        vertical-align: top;\n",
       "    }\n",
       "\n",
       "    .dataframe thead th {\n",
       "        text-align: right;\n",
       "    }\n",
       "</style>\n",
       "<table border=\"1\" class=\"dataframe\">\n",
       "  <thead>\n",
       "    <tr style=\"text-align: right;\">\n",
       "      <th></th>\n",
       "      <th>event name</th>\n",
       "    </tr>\n",
       "  </thead>\n",
       "  <tbody>\n",
       "    <tr>\n",
       "      <th>0</th>\n",
       "      <td>[\\n, [\\n, [Gas &amp; Alba weekend in Leuven - Apol...</td>\n",
       "    </tr>\n",
       "    <tr>\n",
       "      <th>1</th>\n",
       "      <td>[\\n, [\\n, [Belpop Bonanza Leuven / Het Depot (...</td>\n",
       "    </tr>\n",
       "    <tr>\n",
       "      <th>2</th>\n",
       "      <td>[\\n, [\\n, [Shag workshop Leuven - Apollo Swing...</td>\n",
       "    </tr>\n",
       "    <tr>\n",
       "      <th>3</th>\n",
       "      <td>[\\n, [\\n, [DAAN / Het Depot (sold out)], \\n], \\n]</td>\n",
       "    </tr>\n",
       "    <tr>\n",
       "      <th>4</th>\n",
       "      <td>[\\n, [\\n, [OLDSKOOL NINETIES - BRABANTHAL], \\n...</td>\n",
       "    </tr>\n",
       "    <tr>\n",
       "      <th>5</th>\n",
       "      <td>[\\n, [\\n, [Jean-Marie Aerts / Het Depot (nieuw...</td>\n",
       "    </tr>\n",
       "    <tr>\n",
       "      <th>6</th>\n",
       "      <td>[\\n, [\\n, [Exert Belgian Tour #2 - Leuven], \\n...</td>\n",
       "    </tr>\n",
       "    <tr>\n",
       "      <th>7</th>\n",
       "      <td>[\\n, [\\n, [Leuven Innovation Beerfestival 2023...</td>\n",
       "    </tr>\n",
       "    <tr>\n",
       "      <th>8</th>\n",
       "      <td>[\\n, [\\n, [OMALOKU KIZOMBA CONGRESS 2023 (OKC)...</td>\n",
       "    </tr>\n",
       "    <tr>\n",
       "      <th>9</th>\n",
       "      <td>[\\n, [\\n, [ResurrectionZ B-day battles], \\n], \\n]</td>\n",
       "    </tr>\n",
       "    <tr>\n",
       "      <th>10</th>\n",
       "      <td>[\\n, [\\n, [Tea Party], \\n], \\n]</td>\n",
       "    </tr>\n",
       "    <tr>\n",
       "      <th>11</th>\n",
       "      <td>[\\n, [\\n, [Saturday Swing - with live music Ta...</td>\n",
       "    </tr>\n",
       "    <tr>\n",
       "      <th>12</th>\n",
       "      <td>[\\n, [\\n, [\\n, &lt;h3&gt;{{item.eventname_raw}}&lt;/h3&gt;...</td>\n",
       "    </tr>\n",
       "  </tbody>\n",
       "</table>\n",
       "</div>"
      ],
      "text/plain": [
       "                                           event name\n",
       "0   [\\n, [\\n, [Gas & Alba weekend in Leuven - Apol...\n",
       "1   [\\n, [\\n, [Belpop Bonanza Leuven / Het Depot (...\n",
       "2   [\\n, [\\n, [Shag workshop Leuven - Apollo Swing...\n",
       "3   [\\n, [\\n, [DAAN / Het Depot (sold out)], \\n], \\n]\n",
       "4   [\\n, [\\n, [OLDSKOOL NINETIES - BRABANTHAL], \\n...\n",
       "5   [\\n, [\\n, [Jean-Marie Aerts / Het Depot (nieuw...\n",
       "6   [\\n, [\\n, [Exert Belgian Tour #2 - Leuven], \\n...\n",
       "7   [\\n, [\\n, [Leuven Innovation Beerfestival 2023...\n",
       "8   [\\n, [\\n, [OMALOKU KIZOMBA CONGRESS 2023 (OKC)...\n",
       "9   [\\n, [\\n, [ResurrectionZ B-day battles], \\n], \\n]\n",
       "10                    [\\n, [\\n, [Tea Party], \\n], \\n]\n",
       "11  [\\n, [\\n, [Saturday Swing - with live music Ta...\n",
       "12  [\\n, [\\n, [\\n, <h3>{{item.eventname_raw}}</h3>..."
      ]
     },
     "execution_count": 113,
     "metadata": {},
     "output_type": "execute_result"
    }
   ],
   "source": [
    "df = pd.DataFrame(name)\n",
    "df.columns = [\"event name\"]\n",
    "df"
   ]
  },
  {
   "cell_type": "code",
   "execution_count": 115,
   "id": "2ea12dc5",
   "metadata": {},
   "outputs": [
    {
     "ename": "ValueError",
     "evalue": "Length of values (12) does not match length of index (13)",
     "output_type": "error",
     "traceback": [
      "\u001b[0;31m---------------------------------------------------------------------------\u001b[0m",
      "\u001b[0;31mValueError\u001b[0m                                Traceback (most recent call last)",
      "\u001b[0;32m/var/folders/jq/s58w99xd6k739mj1t547mj6c0000gn/T/ipykernel_40291/3562455458.py\u001b[0m in \u001b[0;36m<module>\u001b[0;34m\u001b[0m\n\u001b[0;32m----> 1\u001b[0;31m \u001b[0mdf\u001b[0m\u001b[0;34m[\u001b[0m\u001b[0;34m'date'\u001b[0m\u001b[0;34m]\u001b[0m \u001b[0;34m=\u001b[0m \u001b[0mdate\u001b[0m\u001b[0;34m\u001b[0m\u001b[0;34m\u001b[0m\u001b[0m\n\u001b[0m\u001b[1;32m      2\u001b[0m \u001b[0mdf\u001b[0m\u001b[0;34m\u001b[0m\u001b[0;34m\u001b[0m\u001b[0m\n",
      "\u001b[0;32m~/opt/anaconda3/lib/python3.9/site-packages/pandas/core/frame.py\u001b[0m in \u001b[0;36m__setitem__\u001b[0;34m(self, key, value)\u001b[0m\n\u001b[1;32m   3653\u001b[0m         \u001b[0;32melse\u001b[0m\u001b[0;34m:\u001b[0m\u001b[0;34m\u001b[0m\u001b[0;34m\u001b[0m\u001b[0m\n\u001b[1;32m   3654\u001b[0m             \u001b[0;31m# set column\u001b[0m\u001b[0;34m\u001b[0m\u001b[0;34m\u001b[0m\u001b[0m\n\u001b[0;32m-> 3655\u001b[0;31m             \u001b[0mself\u001b[0m\u001b[0;34m.\u001b[0m\u001b[0m_set_item\u001b[0m\u001b[0;34m(\u001b[0m\u001b[0mkey\u001b[0m\u001b[0;34m,\u001b[0m \u001b[0mvalue\u001b[0m\u001b[0;34m)\u001b[0m\u001b[0;34m\u001b[0m\u001b[0;34m\u001b[0m\u001b[0m\n\u001b[0m\u001b[1;32m   3656\u001b[0m \u001b[0;34m\u001b[0m\u001b[0m\n\u001b[1;32m   3657\u001b[0m     \u001b[0;32mdef\u001b[0m \u001b[0m_setitem_slice\u001b[0m\u001b[0;34m(\u001b[0m\u001b[0mself\u001b[0m\u001b[0;34m,\u001b[0m \u001b[0mkey\u001b[0m\u001b[0;34m:\u001b[0m \u001b[0mslice\u001b[0m\u001b[0;34m,\u001b[0m \u001b[0mvalue\u001b[0m\u001b[0;34m)\u001b[0m\u001b[0;34m:\u001b[0m\u001b[0;34m\u001b[0m\u001b[0;34m\u001b[0m\u001b[0m\n",
      "\u001b[0;32m~/opt/anaconda3/lib/python3.9/site-packages/pandas/core/frame.py\u001b[0m in \u001b[0;36m_set_item\u001b[0;34m(self, key, value)\u001b[0m\n\u001b[1;32m   3830\u001b[0m         \u001b[0mensure\u001b[0m \u001b[0mhomogeneity\u001b[0m\u001b[0;34m.\u001b[0m\u001b[0;34m\u001b[0m\u001b[0;34m\u001b[0m\u001b[0m\n\u001b[1;32m   3831\u001b[0m         \"\"\"\n\u001b[0;32m-> 3832\u001b[0;31m         \u001b[0mvalue\u001b[0m \u001b[0;34m=\u001b[0m \u001b[0mself\u001b[0m\u001b[0;34m.\u001b[0m\u001b[0m_sanitize_column\u001b[0m\u001b[0;34m(\u001b[0m\u001b[0mvalue\u001b[0m\u001b[0;34m)\u001b[0m\u001b[0;34m\u001b[0m\u001b[0;34m\u001b[0m\u001b[0m\n\u001b[0m\u001b[1;32m   3833\u001b[0m \u001b[0;34m\u001b[0m\u001b[0m\n\u001b[1;32m   3834\u001b[0m         if (\n",
      "\u001b[0;32m~/opt/anaconda3/lib/python3.9/site-packages/pandas/core/frame.py\u001b[0m in \u001b[0;36m_sanitize_column\u001b[0;34m(self, value)\u001b[0m\n\u001b[1;32m   4536\u001b[0m \u001b[0;34m\u001b[0m\u001b[0m\n\u001b[1;32m   4537\u001b[0m         \u001b[0;32mif\u001b[0m \u001b[0mis_list_like\u001b[0m\u001b[0;34m(\u001b[0m\u001b[0mvalue\u001b[0m\u001b[0;34m)\u001b[0m\u001b[0;34m:\u001b[0m\u001b[0;34m\u001b[0m\u001b[0;34m\u001b[0m\u001b[0m\n\u001b[0;32m-> 4538\u001b[0;31m             \u001b[0mcom\u001b[0m\u001b[0;34m.\u001b[0m\u001b[0mrequire_length_match\u001b[0m\u001b[0;34m(\u001b[0m\u001b[0mvalue\u001b[0m\u001b[0;34m,\u001b[0m \u001b[0mself\u001b[0m\u001b[0;34m.\u001b[0m\u001b[0mindex\u001b[0m\u001b[0;34m)\u001b[0m\u001b[0;34m\u001b[0m\u001b[0;34m\u001b[0m\u001b[0m\n\u001b[0m\u001b[1;32m   4539\u001b[0m         \u001b[0;32mreturn\u001b[0m \u001b[0msanitize_array\u001b[0m\u001b[0;34m(\u001b[0m\u001b[0mvalue\u001b[0m\u001b[0;34m,\u001b[0m \u001b[0mself\u001b[0m\u001b[0;34m.\u001b[0m\u001b[0mindex\u001b[0m\u001b[0;34m,\u001b[0m \u001b[0mcopy\u001b[0m\u001b[0;34m=\u001b[0m\u001b[0;32mTrue\u001b[0m\u001b[0;34m,\u001b[0m \u001b[0mallow_2d\u001b[0m\u001b[0;34m=\u001b[0m\u001b[0;32mTrue\u001b[0m\u001b[0;34m)\u001b[0m\u001b[0;34m\u001b[0m\u001b[0;34m\u001b[0m\u001b[0m\n\u001b[1;32m   4540\u001b[0m \u001b[0;34m\u001b[0m\u001b[0m\n",
      "\u001b[0;32m~/opt/anaconda3/lib/python3.9/site-packages/pandas/core/common.py\u001b[0m in \u001b[0;36mrequire_length_match\u001b[0;34m(data, index)\u001b[0m\n\u001b[1;32m    555\u001b[0m     \"\"\"\n\u001b[1;32m    556\u001b[0m     \u001b[0;32mif\u001b[0m \u001b[0mlen\u001b[0m\u001b[0;34m(\u001b[0m\u001b[0mdata\u001b[0m\u001b[0;34m)\u001b[0m \u001b[0;34m!=\u001b[0m \u001b[0mlen\u001b[0m\u001b[0;34m(\u001b[0m\u001b[0mindex\u001b[0m\u001b[0;34m)\u001b[0m\u001b[0;34m:\u001b[0m\u001b[0;34m\u001b[0m\u001b[0;34m\u001b[0m\u001b[0m\n\u001b[0;32m--> 557\u001b[0;31m         raise ValueError(\n\u001b[0m\u001b[1;32m    558\u001b[0m             \u001b[0;34m\"Length of values \"\u001b[0m\u001b[0;34m\u001b[0m\u001b[0;34m\u001b[0m\u001b[0m\n\u001b[1;32m    559\u001b[0m             \u001b[0;34mf\"({len(data)}) \"\u001b[0m\u001b[0;34m\u001b[0m\u001b[0;34m\u001b[0m\u001b[0m\n",
      "\u001b[0;31mValueError\u001b[0m: Length of values (12) does not match length of index (13)"
     ]
    }
   ],
   "source": [
    "df['date'] = date\n",
    "df"
   ]
  },
  {
   "cell_type": "code",
   "execution_count": null,
   "id": "dc4d893e",
   "metadata": {},
   "outputs": [],
   "source": []
  }
 ],
 "metadata": {
  "kernelspec": {
   "display_name": "Python 3 (ipykernel)",
   "language": "python",
   "name": "python3"
  },
  "language_info": {
   "codemirror_mode": {
    "name": "ipython",
    "version": 3
   },
   "file_extension": ".py",
   "mimetype": "text/x-python",
   "name": "python",
   "nbconvert_exporter": "python",
   "pygments_lexer": "ipython3",
   "version": "3.9.13"
  }
 },
 "nbformat": 4,
 "nbformat_minor": 5
}
